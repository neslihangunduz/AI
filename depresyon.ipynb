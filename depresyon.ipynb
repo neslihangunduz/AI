{
 "cells": [
  {
   "cell_type": "code",
   "execution_count": 1,
   "metadata": {
    "id": "59jm3HYqwVc-",
    "tags": []
   },
   "outputs": [
    {
     "name": "stdout",
     "output_type": "stream",
     "text": [
      "Requirement already satisfied: nibabel in c:\\users\\monster\\anaconda3\\lib\\site-packages (5.2.0)\n",
      "Requirement already satisfied: numpy>=1.20 in c:\\users\\monster\\anaconda3\\lib\\site-packages (from nibabel) (1.24.3)\n",
      "Requirement already satisfied: packaging>=17 in c:\\users\\monster\\anaconda3\\lib\\site-packages (from nibabel) (23.1)\n",
      "Requirement already satisfied: nilearn in c:\\users\\monster\\anaconda3\\lib\\site-packages (0.10.2)\n",
      "Requirement already satisfied: joblib>=1.0.0 in c:\\users\\monster\\anaconda3\\lib\\site-packages (from nilearn) (1.2.0)\n",
      "Requirement already satisfied: lxml in c:\\users\\monster\\anaconda3\\lib\\site-packages (from nilearn) (4.9.3)\n",
      "Requirement already satisfied: nibabel>=3.2.0 in c:\\users\\monster\\anaconda3\\lib\\site-packages (from nilearn) (5.2.0)\n",
      "Requirement already satisfied: numpy>=1.19.0 in c:\\users\\monster\\anaconda3\\lib\\site-packages (from nilearn) (1.24.3)\n",
      "Requirement already satisfied: packaging in c:\\users\\monster\\anaconda3\\lib\\site-packages (from nilearn) (23.1)\n",
      "Requirement already satisfied: pandas>=1.1.5 in c:\\users\\monster\\anaconda3\\lib\\site-packages (from nilearn) (2.0.3)\n",
      "Requirement already satisfied: requests>=2.25.0 in c:\\users\\monster\\anaconda3\\lib\\site-packages (from nilearn) (2.31.0)\n",
      "Requirement already satisfied: scikit-learn>=1.0.0 in c:\\users\\monster\\anaconda3\\lib\\site-packages (from nilearn) (1.4.1.post1)\n",
      "Requirement already satisfied: scipy>=1.6.0 in c:\\users\\monster\\anaconda3\\lib\\site-packages (from nilearn) (1.11.1)\n",
      "Requirement already satisfied: python-dateutil>=2.8.2 in c:\\users\\monster\\anaconda3\\lib\\site-packages (from pandas>=1.1.5->nilearn) (2.8.2)\n",
      "Requirement already satisfied: pytz>=2020.1 in c:\\users\\monster\\anaconda3\\lib\\site-packages (from pandas>=1.1.5->nilearn) (2023.3.post1)\n",
      "Requirement already satisfied: tzdata>=2022.1 in c:\\users\\monster\\anaconda3\\lib\\site-packages (from pandas>=1.1.5->nilearn) (2023.3)\n",
      "Requirement already satisfied: charset-normalizer<4,>=2 in c:\\users\\monster\\anaconda3\\lib\\site-packages (from requests>=2.25.0->nilearn) (2.0.4)\n",
      "Requirement already satisfied: idna<4,>=2.5 in c:\\users\\monster\\anaconda3\\lib\\site-packages (from requests>=2.25.0->nilearn) (3.4)\n",
      "Requirement already satisfied: urllib3<3,>=1.21.1 in c:\\users\\monster\\anaconda3\\lib\\site-packages (from requests>=2.25.0->nilearn) (1.26.16)\n",
      "Requirement already satisfied: certifi>=2017.4.17 in c:\\users\\monster\\anaconda3\\lib\\site-packages (from requests>=2.25.0->nilearn) (2024.2.2)\n",
      "Requirement already satisfied: threadpoolctl>=2.0.0 in c:\\users\\monster\\anaconda3\\lib\\site-packages (from scikit-learn>=1.0.0->nilearn) (2.2.0)\n",
      "Requirement already satisfied: six>=1.5 in c:\\users\\monster\\anaconda3\\lib\\site-packages (from python-dateutil>=2.8.2->pandas>=1.1.5->nilearn) (1.16.0)\n",
      "Requirement already satisfied: scikit-learn in c:\\users\\monster\\anaconda3\\lib\\site-packages (1.4.1.post1)\n",
      "Requirement already satisfied: numpy<2.0,>=1.19.5 in c:\\users\\monster\\anaconda3\\lib\\site-packages (from scikit-learn) (1.24.3)\n",
      "Requirement already satisfied: scipy>=1.6.0 in c:\\users\\monster\\anaconda3\\lib\\site-packages (from scikit-learn) (1.11.1)\n",
      "Requirement already satisfied: joblib>=1.2.0 in c:\\users\\monster\\anaconda3\\lib\\site-packages (from scikit-learn) (1.2.0)\n",
      "Requirement already satisfied: threadpoolctl>=2.0.0 in c:\\users\\monster\\anaconda3\\lib\\site-packages (from scikit-learn) (2.2.0)\n"
     ]
    }
   ],
   "source": [
    "!pip install nibabel\n",
    "!pip install nilearn\n",
    "!pip install -U scikit-learn"
   ]
  },
  {
   "cell_type": "code",
   "execution_count": 2,
   "metadata": {
    "id": "TZs57eRBweyW",
    "tags": []
   },
   "outputs": [
    {
     "name": "stderr",
     "output_type": "stream",
     "text": [
      "C:\\Users\\MONSTER\\anaconda3\\Lib\\site-packages\\nilearn\\input_data\\__init__.py:23: FutureWarning: The import path 'nilearn.input_data' is deprecated in version 0.9. Importing from 'nilearn.input_data' will be possible at least until release 0.13.0. Please import from 'nilearn.maskers' instead.\n",
      "  warnings.warn(message, FutureWarning)\n"
     ]
    }
   ],
   "source": [
    "import numpy as np\n",
    "import pandas as pd\n",
    "import nibabel as nib\n",
    "from nilearn.input_data import NiftiMasker\n",
    "from nilearn.connectome import ConnectivityMeasure\n",
    "from nilearn import image\n",
    "import nibabel"
   ]
  },
  {
   "cell_type": "code",
   "execution_count": 3,
   "metadata": {
    "id": "1NDq8I3GzzVU",
    "tags": []
   },
   "outputs": [],
   "source": [
    "data_dir = r'C:\\Users\\MONSTER\\ds002748-fmriprep'"
   ]
  },
  {
   "cell_type": "code",
   "execution_count": 4,
   "metadata": {
    "colab": {
     "base_uri": "https://localhost:8080/"
    },
    "id": "pCDkPNDE0vYp",
    "outputId": "b5c576d8-601d-4ba6-e638-6eedfef700fc",
    "tags": []
   },
   "outputs": [
    {
     "name": "stdout",
     "output_type": "stream",
     "text": [
      "brain_mask_files: ['C:\\\\Users\\\\MONSTER\\\\ds002748-fmriprep\\\\sub-01\\\\func\\\\sub-01_task-rest_desc-brain_mask.nii.gz', 'C:\\\\Users\\\\MONSTER\\\\ds002748-fmriprep\\\\sub-01\\\\func\\\\sub-01_task-rest_space-MNI152NLin2009cAsym_res-2_desc-brain_mask.nii.gz', 'C:\\\\Users\\\\MONSTER\\\\ds002748-fmriprep\\\\sub-01\\\\func\\\\sub-01_task-rest_space-T1w_desc-brain_mask.nii.gz', 'C:\\\\Users\\\\MONSTER\\\\ds002748-fmriprep\\\\sub-02\\\\func\\\\sub-02_task-rest_desc-brain_mask.nii.gz', 'C:\\\\Users\\\\MONSTER\\\\ds002748-fmriprep\\\\sub-02\\\\func\\\\sub-02_task-rest_space-MNI152NLin2009cAsym_res-2_desc-brain_mask.nii.gz', 'C:\\\\Users\\\\MONSTER\\\\ds002748-fmriprep\\\\sub-02\\\\func\\\\sub-02_task-rest_space-T1w_desc-brain_mask.nii.gz', 'C:\\\\Users\\\\MONSTER\\\\ds002748-fmriprep\\\\sub-03\\\\func\\\\sub-03_task-rest_desc-brain_mask.nii.gz', 'C:\\\\Users\\\\MONSTER\\\\ds002748-fmriprep\\\\sub-03\\\\func\\\\sub-03_task-rest_space-MNI152NLin2009cAsym_res-2_desc-brain_mask.nii.gz', 'C:\\\\Users\\\\MONSTER\\\\ds002748-fmriprep\\\\sub-03\\\\func\\\\sub-03_task-rest_space-T1w_desc-brain_mask.nii.gz', 'C:\\\\Users\\\\MONSTER\\\\ds002748-fmriprep\\\\sub-04\\\\func\\\\sub-04_task-rest_desc-brain_mask.nii.gz', 'C:\\\\Users\\\\MONSTER\\\\ds002748-fmriprep\\\\sub-04\\\\func\\\\sub-04_task-rest_space-MNI152NLin2009cAsym_res-2_desc-brain_mask.nii.gz', 'C:\\\\Users\\\\MONSTER\\\\ds002748-fmriprep\\\\sub-04\\\\func\\\\sub-04_task-rest_space-T1w_desc-brain_mask.nii.gz', 'C:\\\\Users\\\\MONSTER\\\\ds002748-fmriprep\\\\sub-05\\\\func\\\\sub-05_task-rest_desc-brain_mask.nii.gz', 'C:\\\\Users\\\\MONSTER\\\\ds002748-fmriprep\\\\sub-05\\\\func\\\\sub-05_task-rest_space-MNI152NLin2009cAsym_res-2_desc-brain_mask.nii.gz', 'C:\\\\Users\\\\MONSTER\\\\ds002748-fmriprep\\\\sub-05\\\\func\\\\sub-05_task-rest_space-T1w_desc-brain_mask.nii.gz', 'C:\\\\Users\\\\MONSTER\\\\ds002748-fmriprep\\\\sub-06\\\\func\\\\sub-06_task-rest_desc-brain_mask.nii.gz', 'C:\\\\Users\\\\MONSTER\\\\ds002748-fmriprep\\\\sub-06\\\\func\\\\sub-06_task-rest_space-MNI152NLin2009cAsym_res-2_desc-brain_mask.nii.gz', 'C:\\\\Users\\\\MONSTER\\\\ds002748-fmriprep\\\\sub-06\\\\func\\\\sub-06_task-rest_space-T1w_desc-brain_mask.nii.gz', 'C:\\\\Users\\\\MONSTER\\\\ds002748-fmriprep\\\\sub-07\\\\func\\\\sub-07_task-rest_desc-brain_mask.nii.gz', 'C:\\\\Users\\\\MONSTER\\\\ds002748-fmriprep\\\\sub-07\\\\func\\\\sub-07_task-rest_space-MNI152NLin2009cAsym_res-2_desc-brain_mask.nii.gz', 'C:\\\\Users\\\\MONSTER\\\\ds002748-fmriprep\\\\sub-07\\\\func\\\\sub-07_task-rest_space-T1w_desc-brain_mask.nii.gz', 'C:\\\\Users\\\\MONSTER\\\\ds002748-fmriprep\\\\sub-08\\\\func\\\\sub-08_task-rest_desc-brain_mask.nii.gz', 'C:\\\\Users\\\\MONSTER\\\\ds002748-fmriprep\\\\sub-08\\\\func\\\\sub-08_task-rest_space-MNI152NLin2009cAsym_res-2_desc-brain_mask.nii.gz', 'C:\\\\Users\\\\MONSTER\\\\ds002748-fmriprep\\\\sub-08\\\\func\\\\sub-08_task-rest_space-T1w_desc-brain_mask.nii.gz', 'C:\\\\Users\\\\MONSTER\\\\ds002748-fmriprep\\\\sub-09\\\\func\\\\sub-09_task-rest_desc-brain_mask.nii.gz', 'C:\\\\Users\\\\MONSTER\\\\ds002748-fmriprep\\\\sub-09\\\\func\\\\sub-09_task-rest_space-MNI152NLin2009cAsym_res-2_desc-brain_mask.nii.gz', 'C:\\\\Users\\\\MONSTER\\\\ds002748-fmriprep\\\\sub-09\\\\func\\\\sub-09_task-rest_space-T1w_desc-brain_mask.nii.gz', 'C:\\\\Users\\\\MONSTER\\\\ds002748-fmriprep\\\\sub-10\\\\func\\\\sub-10_task-rest_desc-brain_mask.nii.gz', 'C:\\\\Users\\\\MONSTER\\\\ds002748-fmriprep\\\\sub-10\\\\func\\\\sub-10_task-rest_space-MNI152NLin2009cAsym_res-2_desc-brain_mask.nii.gz', 'C:\\\\Users\\\\MONSTER\\\\ds002748-fmriprep\\\\sub-10\\\\func\\\\sub-10_task-rest_space-T1w_desc-brain_mask.nii.gz', 'C:\\\\Users\\\\MONSTER\\\\ds002748-fmriprep\\\\sub-11\\\\func\\\\sub-11_task-rest_desc-brain_mask.nii.gz', 'C:\\\\Users\\\\MONSTER\\\\ds002748-fmriprep\\\\sub-11\\\\func\\\\sub-11_task-rest_space-MNI152NLin2009cAsym_res-2_desc-brain_mask.nii.gz', 'C:\\\\Users\\\\MONSTER\\\\ds002748-fmriprep\\\\sub-11\\\\func\\\\sub-11_task-rest_space-T1w_desc-brain_mask.nii.gz', 'C:\\\\Users\\\\MONSTER\\\\ds002748-fmriprep\\\\sub-12\\\\func\\\\sub-12_task-rest_desc-brain_mask.nii.gz', 'C:\\\\Users\\\\MONSTER\\\\ds002748-fmriprep\\\\sub-12\\\\func\\\\sub-12_task-rest_space-MNI152NLin2009cAsym_res-2_desc-brain_mask.nii.gz', 'C:\\\\Users\\\\MONSTER\\\\ds002748-fmriprep\\\\sub-12\\\\func\\\\sub-12_task-rest_space-T1w_desc-brain_mask.nii.gz', 'C:\\\\Users\\\\MONSTER\\\\ds002748-fmriprep\\\\sub-13\\\\func\\\\sub-13_task-rest_desc-brain_mask.nii.gz', 'C:\\\\Users\\\\MONSTER\\\\ds002748-fmriprep\\\\sub-13\\\\func\\\\sub-13_task-rest_space-MNI152NLin2009cAsym_res-2_desc-brain_mask.nii.gz', 'C:\\\\Users\\\\MONSTER\\\\ds002748-fmriprep\\\\sub-13\\\\func\\\\sub-13_task-rest_space-T1w_desc-brain_mask.nii.gz', 'C:\\\\Users\\\\MONSTER\\\\ds002748-fmriprep\\\\sub-14\\\\func\\\\sub-14_task-rest_desc-brain_mask.nii.gz', 'C:\\\\Users\\\\MONSTER\\\\ds002748-fmriprep\\\\sub-14\\\\func\\\\sub-14_task-rest_space-MNI152NLin2009cAsym_res-2_desc-brain_mask.nii.gz', 'C:\\\\Users\\\\MONSTER\\\\ds002748-fmriprep\\\\sub-14\\\\func\\\\sub-14_task-rest_space-T1w_desc-brain_mask.nii.gz', 'C:\\\\Users\\\\MONSTER\\\\ds002748-fmriprep\\\\sub-15\\\\func\\\\sub-15_task-rest_desc-brain_mask.nii.gz', 'C:\\\\Users\\\\MONSTER\\\\ds002748-fmriprep\\\\sub-15\\\\func\\\\sub-15_task-rest_space-MNI152NLin2009cAsym_res-2_desc-brain_mask.nii.gz', 'C:\\\\Users\\\\MONSTER\\\\ds002748-fmriprep\\\\sub-15\\\\func\\\\sub-15_task-rest_space-T1w_desc-brain_mask.nii.gz', 'C:\\\\Users\\\\MONSTER\\\\ds002748-fmriprep\\\\sub-16\\\\func\\\\sub-16_task-rest_desc-brain_mask.nii.gz', 'C:\\\\Users\\\\MONSTER\\\\ds002748-fmriprep\\\\sub-16\\\\func\\\\sub-16_task-rest_space-MNI152NLin2009cAsym_res-2_desc-brain_mask.nii.gz', 'C:\\\\Users\\\\MONSTER\\\\ds002748-fmriprep\\\\sub-16\\\\func\\\\sub-16_task-rest_space-T1w_desc-brain_mask.nii.gz', 'C:\\\\Users\\\\MONSTER\\\\ds002748-fmriprep\\\\sub-17\\\\func\\\\sub-17_task-rest_desc-brain_mask.nii.gz', 'C:\\\\Users\\\\MONSTER\\\\ds002748-fmriprep\\\\sub-17\\\\func\\\\sub-17_task-rest_space-MNI152NLin2009cAsym_res-2_desc-brain_mask.nii.gz', 'C:\\\\Users\\\\MONSTER\\\\ds002748-fmriprep\\\\sub-17\\\\func\\\\sub-17_task-rest_space-T1w_desc-brain_mask.nii.gz', 'C:\\\\Users\\\\MONSTER\\\\ds002748-fmriprep\\\\sub-18\\\\func\\\\sub-18_task-rest_desc-brain_mask.nii.gz', 'C:\\\\Users\\\\MONSTER\\\\ds002748-fmriprep\\\\sub-18\\\\func\\\\sub-18_task-rest_space-MNI152NLin2009cAsym_res-2_desc-brain_mask.nii.gz', 'C:\\\\Users\\\\MONSTER\\\\ds002748-fmriprep\\\\sub-18\\\\func\\\\sub-18_task-rest_space-T1w_desc-brain_mask.nii.gz', 'C:\\\\Users\\\\MONSTER\\\\ds002748-fmriprep\\\\sub-19\\\\func\\\\sub-19_task-rest_desc-brain_mask.nii.gz', 'C:\\\\Users\\\\MONSTER\\\\ds002748-fmriprep\\\\sub-19\\\\func\\\\sub-19_task-rest_space-MNI152NLin2009cAsym_res-2_desc-brain_mask.nii.gz', 'C:\\\\Users\\\\MONSTER\\\\ds002748-fmriprep\\\\sub-19\\\\func\\\\sub-19_task-rest_space-T1w_desc-brain_mask.nii.gz', 'C:\\\\Users\\\\MONSTER\\\\ds002748-fmriprep\\\\sub-20\\\\func\\\\sub-20_task-rest_desc-brain_mask.nii.gz', 'C:\\\\Users\\\\MONSTER\\\\ds002748-fmriprep\\\\sub-20\\\\func\\\\sub-20_task-rest_space-MNI152NLin2009cAsym_res-2_desc-brain_mask.nii.gz', 'C:\\\\Users\\\\MONSTER\\\\ds002748-fmriprep\\\\sub-20\\\\func\\\\sub-20_task-rest_space-T1w_desc-brain_mask.nii.gz', 'C:\\\\Users\\\\MONSTER\\\\ds002748-fmriprep\\\\sub-21\\\\func\\\\sub-21_task-rest_desc-brain_mask.nii.gz', 'C:\\\\Users\\\\MONSTER\\\\ds002748-fmriprep\\\\sub-21\\\\func\\\\sub-21_task-rest_space-MNI152NLin2009cAsym_res-2_desc-brain_mask.nii.gz', 'C:\\\\Users\\\\MONSTER\\\\ds002748-fmriprep\\\\sub-21\\\\func\\\\sub-21_task-rest_space-T1w_desc-brain_mask.nii.gz', 'C:\\\\Users\\\\MONSTER\\\\ds002748-fmriprep\\\\sub-22\\\\func\\\\sub-22_task-rest_desc-brain_mask.nii.gz', 'C:\\\\Users\\\\MONSTER\\\\ds002748-fmriprep\\\\sub-22\\\\func\\\\sub-22_task-rest_space-MNI152NLin2009cAsym_res-2_desc-brain_mask.nii.gz', 'C:\\\\Users\\\\MONSTER\\\\ds002748-fmriprep\\\\sub-22\\\\func\\\\sub-22_task-rest_space-T1w_desc-brain_mask.nii.gz', 'C:\\\\Users\\\\MONSTER\\\\ds002748-fmriprep\\\\sub-23\\\\func\\\\sub-23_task-rest_desc-brain_mask.nii.gz', 'C:\\\\Users\\\\MONSTER\\\\ds002748-fmriprep\\\\sub-23\\\\func\\\\sub-23_task-rest_space-MNI152NLin2009cAsym_res-2_desc-brain_mask.nii.gz', 'C:\\\\Users\\\\MONSTER\\\\ds002748-fmriprep\\\\sub-23\\\\func\\\\sub-23_task-rest_space-T1w_desc-brain_mask.nii.gz', 'C:\\\\Users\\\\MONSTER\\\\ds002748-fmriprep\\\\sub-24\\\\func\\\\sub-24_task-rest_desc-brain_mask.nii.gz', 'C:\\\\Users\\\\MONSTER\\\\ds002748-fmriprep\\\\sub-24\\\\func\\\\sub-24_task-rest_space-MNI152NLin2009cAsym_res-2_desc-brain_mask.nii.gz', 'C:\\\\Users\\\\MONSTER\\\\ds002748-fmriprep\\\\sub-24\\\\func\\\\sub-24_task-rest_space-T1w_desc-brain_mask.nii.gz', 'C:\\\\Users\\\\MONSTER\\\\ds002748-fmriprep\\\\sub-25\\\\func\\\\sub-25_task-rest_desc-brain_mask.nii.gz', 'C:\\\\Users\\\\MONSTER\\\\ds002748-fmriprep\\\\sub-25\\\\func\\\\sub-25_task-rest_space-MNI152NLin2009cAsym_res-2_desc-brain_mask.nii.gz', 'C:\\\\Users\\\\MONSTER\\\\ds002748-fmriprep\\\\sub-25\\\\func\\\\sub-25_task-rest_space-T1w_desc-brain_mask.nii.gz', 'C:\\\\Users\\\\MONSTER\\\\ds002748-fmriprep\\\\sub-26\\\\func\\\\sub-26_task-rest_desc-brain_mask.nii.gz', 'C:\\\\Users\\\\MONSTER\\\\ds002748-fmriprep\\\\sub-26\\\\func\\\\sub-26_task-rest_space-MNI152NLin2009cAsym_res-2_desc-brain_mask.nii.gz', 'C:\\\\Users\\\\MONSTER\\\\ds002748-fmriprep\\\\sub-26\\\\func\\\\sub-26_task-rest_space-T1w_desc-brain_mask.nii.gz', 'C:\\\\Users\\\\MONSTER\\\\ds002748-fmriprep\\\\sub-27\\\\func\\\\sub-27_task-rest_desc-brain_mask.nii.gz', 'C:\\\\Users\\\\MONSTER\\\\ds002748-fmriprep\\\\sub-27\\\\func\\\\sub-27_task-rest_space-MNI152NLin2009cAsym_res-2_desc-brain_mask.nii.gz', 'C:\\\\Users\\\\MONSTER\\\\ds002748-fmriprep\\\\sub-27\\\\func\\\\sub-27_task-rest_space-T1w_desc-brain_mask.nii.gz', 'C:\\\\Users\\\\MONSTER\\\\ds002748-fmriprep\\\\sub-28\\\\func\\\\sub-28_task-rest_desc-brain_mask.nii.gz', 'C:\\\\Users\\\\MONSTER\\\\ds002748-fmriprep\\\\sub-28\\\\func\\\\sub-28_task-rest_space-MNI152NLin2009cAsym_res-2_desc-brain_mask.nii.gz', 'C:\\\\Users\\\\MONSTER\\\\ds002748-fmriprep\\\\sub-28\\\\func\\\\sub-28_task-rest_space-T1w_desc-brain_mask.nii.gz', 'C:\\\\Users\\\\MONSTER\\\\ds002748-fmriprep\\\\sub-29\\\\func\\\\sub-29_task-rest_desc-brain_mask.nii.gz', 'C:\\\\Users\\\\MONSTER\\\\ds002748-fmriprep\\\\sub-29\\\\func\\\\sub-29_task-rest_space-MNI152NLin2009cAsym_res-2_desc-brain_mask.nii.gz', 'C:\\\\Users\\\\MONSTER\\\\ds002748-fmriprep\\\\sub-29\\\\func\\\\sub-29_task-rest_space-T1w_desc-brain_mask.nii.gz', 'C:\\\\Users\\\\MONSTER\\\\ds002748-fmriprep\\\\sub-30\\\\func\\\\sub-30_task-rest_desc-brain_mask.nii.gz', 'C:\\\\Users\\\\MONSTER\\\\ds002748-fmriprep\\\\sub-30\\\\func\\\\sub-30_task-rest_space-MNI152NLin2009cAsym_res-2_desc-brain_mask.nii.gz', 'C:\\\\Users\\\\MONSTER\\\\ds002748-fmriprep\\\\sub-30\\\\func\\\\sub-30_task-rest_space-T1w_desc-brain_mask.nii.gz', 'C:\\\\Users\\\\MONSTER\\\\ds002748-fmriprep\\\\sub-31\\\\func\\\\sub-31_task-rest_desc-brain_mask.nii.gz', 'C:\\\\Users\\\\MONSTER\\\\ds002748-fmriprep\\\\sub-31\\\\func\\\\sub-31_task-rest_space-MNI152NLin2009cAsym_res-2_desc-brain_mask.nii.gz', 'C:\\\\Users\\\\MONSTER\\\\ds002748-fmriprep\\\\sub-31\\\\func\\\\sub-31_task-rest_space-T1w_desc-brain_mask.nii.gz', 'C:\\\\Users\\\\MONSTER\\\\ds002748-fmriprep\\\\sub-32\\\\func\\\\sub-32_task-rest_desc-brain_mask.nii.gz', 'C:\\\\Users\\\\MONSTER\\\\ds002748-fmriprep\\\\sub-32\\\\func\\\\sub-32_task-rest_space-MNI152NLin2009cAsym_res-2_desc-brain_mask.nii.gz', 'C:\\\\Users\\\\MONSTER\\\\ds002748-fmriprep\\\\sub-32\\\\func\\\\sub-32_task-rest_space-T1w_desc-brain_mask.nii.gz', 'C:\\\\Users\\\\MONSTER\\\\ds002748-fmriprep\\\\sub-33\\\\func\\\\sub-33_task-rest_desc-brain_mask.nii.gz', 'C:\\\\Users\\\\MONSTER\\\\ds002748-fmriprep\\\\sub-33\\\\func\\\\sub-33_task-rest_space-MNI152NLin2009cAsym_res-2_desc-brain_mask.nii.gz', 'C:\\\\Users\\\\MONSTER\\\\ds002748-fmriprep\\\\sub-33\\\\func\\\\sub-33_task-rest_space-T1w_desc-brain_mask.nii.gz', 'C:\\\\Users\\\\MONSTER\\\\ds002748-fmriprep\\\\sub-34\\\\func\\\\sub-34_task-rest_desc-brain_mask.nii.gz', 'C:\\\\Users\\\\MONSTER\\\\ds002748-fmriprep\\\\sub-34\\\\func\\\\sub-34_task-rest_space-MNI152NLin2009cAsym_res-2_desc-brain_mask.nii.gz', 'C:\\\\Users\\\\MONSTER\\\\ds002748-fmriprep\\\\sub-34\\\\func\\\\sub-34_task-rest_space-T1w_desc-brain_mask.nii.gz', 'C:\\\\Users\\\\MONSTER\\\\ds002748-fmriprep\\\\sub-35\\\\func\\\\sub-35_task-rest_desc-brain_mask.nii.gz', 'C:\\\\Users\\\\MONSTER\\\\ds002748-fmriprep\\\\sub-35\\\\func\\\\sub-35_task-rest_space-MNI152NLin2009cAsym_res-2_desc-brain_mask.nii.gz', 'C:\\\\Users\\\\MONSTER\\\\ds002748-fmriprep\\\\sub-35\\\\func\\\\sub-35_task-rest_space-T1w_desc-brain_mask.nii.gz', 'C:\\\\Users\\\\MONSTER\\\\ds002748-fmriprep\\\\sub-36\\\\func\\\\sub-36_task-rest_desc-brain_mask.nii.gz', 'C:\\\\Users\\\\MONSTER\\\\ds002748-fmriprep\\\\sub-36\\\\func\\\\sub-36_task-rest_space-MNI152NLin2009cAsym_res-2_desc-brain_mask.nii.gz', 'C:\\\\Users\\\\MONSTER\\\\ds002748-fmriprep\\\\sub-36\\\\func\\\\sub-36_task-rest_space-T1w_desc-brain_mask.nii.gz', 'C:\\\\Users\\\\MONSTER\\\\ds002748-fmriprep\\\\sub-37\\\\func\\\\sub-37_task-rest_desc-brain_mask.nii.gz', 'C:\\\\Users\\\\MONSTER\\\\ds002748-fmriprep\\\\sub-37\\\\func\\\\sub-37_task-rest_space-MNI152NLin2009cAsym_res-2_desc-brain_mask.nii.gz', 'C:\\\\Users\\\\MONSTER\\\\ds002748-fmriprep\\\\sub-37\\\\func\\\\sub-37_task-rest_space-T1w_desc-brain_mask.nii.gz', 'C:\\\\Users\\\\MONSTER\\\\ds002748-fmriprep\\\\sub-38\\\\func\\\\sub-38_task-rest_desc-brain_mask.nii.gz', 'C:\\\\Users\\\\MONSTER\\\\ds002748-fmriprep\\\\sub-38\\\\func\\\\sub-38_task-rest_space-MNI152NLin2009cAsym_res-2_desc-brain_mask.nii.gz', 'C:\\\\Users\\\\MONSTER\\\\ds002748-fmriprep\\\\sub-38\\\\func\\\\sub-38_task-rest_space-T1w_desc-brain_mask.nii.gz', 'C:\\\\Users\\\\MONSTER\\\\ds002748-fmriprep\\\\sub-39\\\\func\\\\sub-39_task-rest_desc-brain_mask.nii.gz', 'C:\\\\Users\\\\MONSTER\\\\ds002748-fmriprep\\\\sub-39\\\\func\\\\sub-39_task-rest_space-MNI152NLin2009cAsym_res-2_desc-brain_mask.nii.gz', 'C:\\\\Users\\\\MONSTER\\\\ds002748-fmriprep\\\\sub-39\\\\func\\\\sub-39_task-rest_space-T1w_desc-brain_mask.nii.gz', 'C:\\\\Users\\\\MONSTER\\\\ds002748-fmriprep\\\\sub-40\\\\func\\\\sub-40_task-rest_desc-brain_mask.nii.gz', 'C:\\\\Users\\\\MONSTER\\\\ds002748-fmriprep\\\\sub-40\\\\func\\\\sub-40_task-rest_space-MNI152NLin2009cAsym_res-2_desc-brain_mask.nii.gz', 'C:\\\\Users\\\\MONSTER\\\\ds002748-fmriprep\\\\sub-40\\\\func\\\\sub-40_task-rest_space-T1w_desc-brain_mask.nii.gz', 'C:\\\\Users\\\\MONSTER\\\\ds002748-fmriprep\\\\sub-41\\\\func\\\\sub-41_task-rest_desc-brain_mask.nii.gz', 'C:\\\\Users\\\\MONSTER\\\\ds002748-fmriprep\\\\sub-41\\\\func\\\\sub-41_task-rest_space-MNI152NLin2009cAsym_res-2_desc-brain_mask.nii.gz', 'C:\\\\Users\\\\MONSTER\\\\ds002748-fmriprep\\\\sub-41\\\\func\\\\sub-41_task-rest_space-T1w_desc-brain_mask.nii.gz', 'C:\\\\Users\\\\MONSTER\\\\ds002748-fmriprep\\\\sub-42\\\\func\\\\sub-42_task-rest_desc-brain_mask.nii.gz', 'C:\\\\Users\\\\MONSTER\\\\ds002748-fmriprep\\\\sub-42\\\\func\\\\sub-42_task-rest_space-MNI152NLin2009cAsym_res-2_desc-brain_mask.nii.gz', 'C:\\\\Users\\\\MONSTER\\\\ds002748-fmriprep\\\\sub-42\\\\func\\\\sub-42_task-rest_space-T1w_desc-brain_mask.nii.gz', 'C:\\\\Users\\\\MONSTER\\\\ds002748-fmriprep\\\\sub-43\\\\func\\\\sub-43_task-rest_desc-brain_mask.nii.gz', 'C:\\\\Users\\\\MONSTER\\\\ds002748-fmriprep\\\\sub-43\\\\func\\\\sub-43_task-rest_space-MNI152NLin2009cAsym_res-2_desc-brain_mask.nii.gz', 'C:\\\\Users\\\\MONSTER\\\\ds002748-fmriprep\\\\sub-43\\\\func\\\\sub-43_task-rest_space-T1w_desc-brain_mask.nii.gz', 'C:\\\\Users\\\\MONSTER\\\\ds002748-fmriprep\\\\sub-44\\\\func\\\\sub-44_task-rest_desc-brain_mask.nii.gz', 'C:\\\\Users\\\\MONSTER\\\\ds002748-fmriprep\\\\sub-44\\\\func\\\\sub-44_task-rest_space-MNI152NLin2009cAsym_res-2_desc-brain_mask.nii.gz', 'C:\\\\Users\\\\MONSTER\\\\ds002748-fmriprep\\\\sub-44\\\\func\\\\sub-44_task-rest_space-T1w_desc-brain_mask.nii.gz', 'C:\\\\Users\\\\MONSTER\\\\ds002748-fmriprep\\\\sub-45\\\\func\\\\sub-45_task-rest_desc-brain_mask.nii.gz', 'C:\\\\Users\\\\MONSTER\\\\ds002748-fmriprep\\\\sub-45\\\\func\\\\sub-45_task-rest_space-MNI152NLin2009cAsym_res-2_desc-brain_mask.nii.gz', 'C:\\\\Users\\\\MONSTER\\\\ds002748-fmriprep\\\\sub-45\\\\func\\\\sub-45_task-rest_space-T1w_desc-brain_mask.nii.gz', 'C:\\\\Users\\\\MONSTER\\\\ds002748-fmriprep\\\\sub-46\\\\func\\\\sub-46_task-rest_desc-brain_mask.nii.gz', 'C:\\\\Users\\\\MONSTER\\\\ds002748-fmriprep\\\\sub-46\\\\func\\\\sub-46_task-rest_space-MNI152NLin2009cAsym_res-2_desc-brain_mask.nii.gz', 'C:\\\\Users\\\\MONSTER\\\\ds002748-fmriprep\\\\sub-46\\\\func\\\\sub-46_task-rest_space-T1w_desc-brain_mask.nii.gz', 'C:\\\\Users\\\\MONSTER\\\\ds002748-fmriprep\\\\sub-47\\\\func\\\\sub-47_task-rest_desc-brain_mask.nii.gz', 'C:\\\\Users\\\\MONSTER\\\\ds002748-fmriprep\\\\sub-47\\\\func\\\\sub-47_task-rest_space-MNI152NLin2009cAsym_res-2_desc-brain_mask.nii.gz', 'C:\\\\Users\\\\MONSTER\\\\ds002748-fmriprep\\\\sub-47\\\\func\\\\sub-47_task-rest_space-T1w_desc-brain_mask.nii.gz', 'C:\\\\Users\\\\MONSTER\\\\ds002748-fmriprep\\\\sub-48\\\\func\\\\sub-48_task-rest_desc-brain_mask.nii.gz', 'C:\\\\Users\\\\MONSTER\\\\ds002748-fmriprep\\\\sub-48\\\\func\\\\sub-48_task-rest_space-MNI152NLin2009cAsym_res-2_desc-brain_mask.nii.gz', 'C:\\\\Users\\\\MONSTER\\\\ds002748-fmriprep\\\\sub-48\\\\func\\\\sub-48_task-rest_space-T1w_desc-brain_mask.nii.gz', 'C:\\\\Users\\\\MONSTER\\\\ds002748-fmriprep\\\\sub-49\\\\func\\\\sub-49_task-rest_desc-brain_mask.nii.gz', 'C:\\\\Users\\\\MONSTER\\\\ds002748-fmriprep\\\\sub-49\\\\func\\\\sub-49_task-rest_space-MNI152NLin2009cAsym_res-2_desc-brain_mask.nii.gz', 'C:\\\\Users\\\\MONSTER\\\\ds002748-fmriprep\\\\sub-49\\\\func\\\\sub-49_task-rest_space-T1w_desc-brain_mask.nii.gz', 'C:\\\\Users\\\\MONSTER\\\\ds002748-fmriprep\\\\sub-50\\\\func\\\\sub-50_task-rest_desc-brain_mask.nii.gz', 'C:\\\\Users\\\\MONSTER\\\\ds002748-fmriprep\\\\sub-50\\\\func\\\\sub-50_task-rest_space-MNI152NLin2009cAsym_res-2_desc-brain_mask.nii.gz', 'C:\\\\Users\\\\MONSTER\\\\ds002748-fmriprep\\\\sub-50\\\\func\\\\sub-50_task-rest_space-T1w_desc-brain_mask.nii.gz', 'C:\\\\Users\\\\MONSTER\\\\ds002748-fmriprep\\\\sub-51\\\\func\\\\sub-51_task-rest_desc-brain_mask.nii.gz', 'C:\\\\Users\\\\MONSTER\\\\ds002748-fmriprep\\\\sub-51\\\\func\\\\sub-51_task-rest_space-MNI152NLin2009cAsym_res-2_desc-brain_mask.nii.gz', 'C:\\\\Users\\\\MONSTER\\\\ds002748-fmriprep\\\\sub-51\\\\func\\\\sub-51_task-rest_space-T1w_desc-brain_mask.nii.gz', 'C:\\\\Users\\\\MONSTER\\\\ds002748-fmriprep\\\\sub-52\\\\func\\\\sub-52_task-rest_desc-brain_mask.nii.gz', 'C:\\\\Users\\\\MONSTER\\\\ds002748-fmriprep\\\\sub-52\\\\func\\\\sub-52_task-rest_space-MNI152NLin2009cAsym_res-2_desc-brain_mask.nii.gz', 'C:\\\\Users\\\\MONSTER\\\\ds002748-fmriprep\\\\sub-52\\\\func\\\\sub-52_task-rest_space-T1w_desc-brain_mask.nii.gz', 'C:\\\\Users\\\\MONSTER\\\\ds002748-fmriprep\\\\sub-53\\\\func\\\\sub-53_task-rest_desc-brain_mask.nii.gz', 'C:\\\\Users\\\\MONSTER\\\\ds002748-fmriprep\\\\sub-53\\\\func\\\\sub-53_task-rest_space-MNI152NLin2009cAsym_res-2_desc-brain_mask.nii.gz', 'C:\\\\Users\\\\MONSTER\\\\ds002748-fmriprep\\\\sub-53\\\\func\\\\sub-53_task-rest_space-T1w_desc-brain_mask.nii.gz', 'C:\\\\Users\\\\MONSTER\\\\ds002748-fmriprep\\\\sub-54\\\\func\\\\sub-54_task-rest_desc-brain_mask.nii.gz', 'C:\\\\Users\\\\MONSTER\\\\ds002748-fmriprep\\\\sub-54\\\\func\\\\sub-54_task-rest_space-MNI152NLin2009cAsym_res-2_desc-brain_mask.nii.gz', 'C:\\\\Users\\\\MONSTER\\\\ds002748-fmriprep\\\\sub-54\\\\func\\\\sub-54_task-rest_space-T1w_desc-brain_mask.nii.gz', 'C:\\\\Users\\\\MONSTER\\\\ds002748-fmriprep\\\\sub-55\\\\func\\\\sub-55_task-rest_desc-brain_mask.nii.gz', 'C:\\\\Users\\\\MONSTER\\\\ds002748-fmriprep\\\\sub-55\\\\func\\\\sub-55_task-rest_space-MNI152NLin2009cAsym_res-2_desc-brain_mask.nii.gz', 'C:\\\\Users\\\\MONSTER\\\\ds002748-fmriprep\\\\sub-55\\\\func\\\\sub-55_task-rest_space-T1w_desc-brain_mask.nii.gz', 'C:\\\\Users\\\\MONSTER\\\\ds002748-fmriprep\\\\sub-56\\\\func\\\\sub-56_task-rest_desc-brain_mask.nii.gz', 'C:\\\\Users\\\\MONSTER\\\\ds002748-fmriprep\\\\sub-56\\\\func\\\\sub-56_task-rest_space-MNI152NLin2009cAsym_res-2_desc-brain_mask.nii.gz', 'C:\\\\Users\\\\MONSTER\\\\ds002748-fmriprep\\\\sub-56\\\\func\\\\sub-56_task-rest_space-T1w_desc-brain_mask.nii.gz', 'C:\\\\Users\\\\MONSTER\\\\ds002748-fmriprep\\\\sub-57\\\\func\\\\sub-57_task-rest_desc-brain_mask.nii.gz', 'C:\\\\Users\\\\MONSTER\\\\ds002748-fmriprep\\\\sub-57\\\\func\\\\sub-57_task-rest_space-MNI152NLin2009cAsym_res-2_desc-brain_mask.nii.gz', 'C:\\\\Users\\\\MONSTER\\\\ds002748-fmriprep\\\\sub-57\\\\func\\\\sub-57_task-rest_space-T1w_desc-brain_mask.nii.gz', 'C:\\\\Users\\\\MONSTER\\\\ds002748-fmriprep\\\\sub-58\\\\func\\\\sub-58_task-rest_desc-brain_mask.nii.gz', 'C:\\\\Users\\\\MONSTER\\\\ds002748-fmriprep\\\\sub-58\\\\func\\\\sub-58_task-rest_space-MNI152NLin2009cAsym_res-2_desc-brain_mask.nii.gz', 'C:\\\\Users\\\\MONSTER\\\\ds002748-fmriprep\\\\sub-58\\\\func\\\\sub-58_task-rest_space-T1w_desc-brain_mask.nii.gz', 'C:\\\\Users\\\\MONSTER\\\\ds002748-fmriprep\\\\sub-59\\\\func\\\\sub-59_task-rest_desc-brain_mask.nii.gz', 'C:\\\\Users\\\\MONSTER\\\\ds002748-fmriprep\\\\sub-59\\\\func\\\\sub-59_task-rest_space-MNI152NLin2009cAsym_res-2_desc-brain_mask.nii.gz', 'C:\\\\Users\\\\MONSTER\\\\ds002748-fmriprep\\\\sub-59\\\\func\\\\sub-59_task-rest_space-T1w_desc-brain_mask.nii.gz', 'C:\\\\Users\\\\MONSTER\\\\ds002748-fmriprep\\\\sub-60\\\\func\\\\sub-60_task-rest_desc-brain_mask.nii.gz', 'C:\\\\Users\\\\MONSTER\\\\ds002748-fmriprep\\\\sub-60\\\\func\\\\sub-60_task-rest_space-MNI152NLin2009cAsym_res-2_desc-brain_mask.nii.gz', 'C:\\\\Users\\\\MONSTER\\\\ds002748-fmriprep\\\\sub-60\\\\func\\\\sub-60_task-rest_space-T1w_desc-brain_mask.nii.gz', 'C:\\\\Users\\\\MONSTER\\\\ds002748-fmriprep\\\\sub-61\\\\func\\\\sub-61_task-rest_desc-brain_mask.nii.gz', 'C:\\\\Users\\\\MONSTER\\\\ds002748-fmriprep\\\\sub-61\\\\func\\\\sub-61_task-rest_space-MNI152NLin2009cAsym_res-2_desc-brain_mask.nii.gz', 'C:\\\\Users\\\\MONSTER\\\\ds002748-fmriprep\\\\sub-61\\\\func\\\\sub-61_task-rest_space-T1w_desc-brain_mask.nii.gz', 'C:\\\\Users\\\\MONSTER\\\\ds002748-fmriprep\\\\sub-62\\\\func\\\\sub-62_task-rest_desc-brain_mask.nii.gz', 'C:\\\\Users\\\\MONSTER\\\\ds002748-fmriprep\\\\sub-62\\\\func\\\\sub-62_task-rest_space-MNI152NLin2009cAsym_res-2_desc-brain_mask.nii.gz', 'C:\\\\Users\\\\MONSTER\\\\ds002748-fmriprep\\\\sub-62\\\\func\\\\sub-62_task-rest_space-T1w_desc-brain_mask.nii.gz', 'C:\\\\Users\\\\MONSTER\\\\ds002748-fmriprep\\\\sub-63\\\\func\\\\sub-63_task-rest_desc-brain_mask.nii.gz', 'C:\\\\Users\\\\MONSTER\\\\ds002748-fmriprep\\\\sub-63\\\\func\\\\sub-63_task-rest_space-MNI152NLin2009cAsym_res-2_desc-brain_mask.nii.gz', 'C:\\\\Users\\\\MONSTER\\\\ds002748-fmriprep\\\\sub-63\\\\func\\\\sub-63_task-rest_space-T1w_desc-brain_mask.nii.gz', 'C:\\\\Users\\\\MONSTER\\\\ds002748-fmriprep\\\\sub-64\\\\func\\\\sub-64_task-rest_desc-brain_mask.nii.gz', 'C:\\\\Users\\\\MONSTER\\\\ds002748-fmriprep\\\\sub-64\\\\func\\\\sub-64_task-rest_space-MNI152NLin2009cAsym_res-2_desc-brain_mask.nii.gz', 'C:\\\\Users\\\\MONSTER\\\\ds002748-fmriprep\\\\sub-64\\\\func\\\\sub-64_task-rest_space-T1w_desc-brain_mask.nii.gz', 'C:\\\\Users\\\\MONSTER\\\\ds002748-fmriprep\\\\sub-65\\\\func\\\\sub-65_task-rest_desc-brain_mask.nii.gz', 'C:\\\\Users\\\\MONSTER\\\\ds002748-fmriprep\\\\sub-65\\\\func\\\\sub-65_task-rest_space-MNI152NLin2009cAsym_res-2_desc-brain_mask.nii.gz', 'C:\\\\Users\\\\MONSTER\\\\ds002748-fmriprep\\\\sub-65\\\\func\\\\sub-65_task-rest_space-T1w_desc-brain_mask.nii.gz', 'C:\\\\Users\\\\MONSTER\\\\ds002748-fmriprep\\\\sub-66\\\\func\\\\sub-66_task-rest_desc-brain_mask.nii.gz', 'C:\\\\Users\\\\MONSTER\\\\ds002748-fmriprep\\\\sub-66\\\\func\\\\sub-66_task-rest_space-MNI152NLin2009cAsym_res-2_desc-brain_mask.nii.gz', 'C:\\\\Users\\\\MONSTER\\\\ds002748-fmriprep\\\\sub-66\\\\func\\\\sub-66_task-rest_space-T1w_desc-brain_mask.nii.gz', 'C:\\\\Users\\\\MONSTER\\\\ds002748-fmriprep\\\\sub-67\\\\func\\\\sub-67_task-rest_desc-brain_mask.nii.gz', 'C:\\\\Users\\\\MONSTER\\\\ds002748-fmriprep\\\\sub-67\\\\func\\\\sub-67_task-rest_space-MNI152NLin2009cAsym_res-2_desc-brain_mask.nii.gz', 'C:\\\\Users\\\\MONSTER\\\\ds002748-fmriprep\\\\sub-67\\\\func\\\\sub-67_task-rest_space-T1w_desc-brain_mask.nii.gz', 'C:\\\\Users\\\\MONSTER\\\\ds002748-fmriprep\\\\sub-68\\\\func\\\\sub-68_task-rest_desc-brain_mask.nii.gz', 'C:\\\\Users\\\\MONSTER\\\\ds002748-fmriprep\\\\sub-68\\\\func\\\\sub-68_task-rest_space-MNI152NLin2009cAsym_res-2_desc-brain_mask.nii.gz', 'C:\\\\Users\\\\MONSTER\\\\ds002748-fmriprep\\\\sub-68\\\\func\\\\sub-68_task-rest_space-T1w_desc-brain_mask.nii.gz', 'C:\\\\Users\\\\MONSTER\\\\ds002748-fmriprep\\\\sub-69\\\\func\\\\sub-69_task-rest_desc-brain_mask.nii.gz', 'C:\\\\Users\\\\MONSTER\\\\ds002748-fmriprep\\\\sub-69\\\\func\\\\sub-69_task-rest_space-MNI152NLin2009cAsym_res-2_desc-brain_mask.nii.gz', 'C:\\\\Users\\\\MONSTER\\\\ds002748-fmriprep\\\\sub-69\\\\func\\\\sub-69_task-rest_space-T1w_desc-brain_mask.nii.gz', 'C:\\\\Users\\\\MONSTER\\\\ds002748-fmriprep\\\\sub-70\\\\func\\\\sub-70_task-rest_desc-brain_mask.nii.gz', 'C:\\\\Users\\\\MONSTER\\\\ds002748-fmriprep\\\\sub-70\\\\func\\\\sub-70_task-rest_space-MNI152NLin2009cAsym_res-2_desc-brain_mask.nii.gz', 'C:\\\\Users\\\\MONSTER\\\\ds002748-fmriprep\\\\sub-70\\\\func\\\\sub-70_task-rest_space-T1w_desc-brain_mask.nii.gz', 'C:\\\\Users\\\\MONSTER\\\\ds002748-fmriprep\\\\sub-71\\\\func\\\\sub-71_task-rest_desc-brain_mask.nii.gz', 'C:\\\\Users\\\\MONSTER\\\\ds002748-fmriprep\\\\sub-71\\\\func\\\\sub-71_task-rest_space-MNI152NLin2009cAsym_res-2_desc-brain_mask.nii.gz', 'C:\\\\Users\\\\MONSTER\\\\ds002748-fmriprep\\\\sub-71\\\\func\\\\sub-71_task-rest_space-T1w_desc-brain_mask.nii.gz', 'C:\\\\Users\\\\MONSTER\\\\ds002748-fmriprep\\\\sub-72\\\\func\\\\sub-72_task-rest_desc-brain_mask.nii.gz', 'C:\\\\Users\\\\MONSTER\\\\ds002748-fmriprep\\\\sub-72\\\\func\\\\sub-72_task-rest_space-MNI152NLin2009cAsym_res-2_desc-brain_mask.nii.gz', 'C:\\\\Users\\\\MONSTER\\\\ds002748-fmriprep\\\\sub-72\\\\func\\\\sub-72_task-rest_space-T1w_desc-brain_mask.nii.gz']\n",
      "MNI_files: ['C:\\\\Users\\\\MONSTER\\\\ds002748-fmriprep\\\\sub-01\\\\func\\\\sub-01_task-rest_space-MNI152NLin2009cAsym_res-2_desc-preproc_bold.nii.gz', 'C:\\\\Users\\\\MONSTER\\\\ds002748-fmriprep\\\\sub-02\\\\func\\\\sub-02_task-rest_space-MNI152NLin2009cAsym_res-2_desc-preproc_bold.nii.gz', 'C:\\\\Users\\\\MONSTER\\\\ds002748-fmriprep\\\\sub-03\\\\func\\\\sub-03_task-rest_space-MNI152NLin2009cAsym_res-2_desc-preproc_bold.nii.gz', 'C:\\\\Users\\\\MONSTER\\\\ds002748-fmriprep\\\\sub-04\\\\func\\\\sub-04_task-rest_space-MNI152NLin2009cAsym_res-2_desc-preproc_bold.nii.gz', 'C:\\\\Users\\\\MONSTER\\\\ds002748-fmriprep\\\\sub-05\\\\func\\\\sub-05_task-rest_space-MNI152NLin2009cAsym_res-2_desc-preproc_bold.nii.gz', 'C:\\\\Users\\\\MONSTER\\\\ds002748-fmriprep\\\\sub-06\\\\func\\\\sub-06_task-rest_space-MNI152NLin2009cAsym_res-2_desc-preproc_bold.nii.gz', 'C:\\\\Users\\\\MONSTER\\\\ds002748-fmriprep\\\\sub-07\\\\func\\\\sub-07_task-rest_space-MNI152NLin2009cAsym_res-2_desc-preproc_bold.nii.gz', 'C:\\\\Users\\\\MONSTER\\\\ds002748-fmriprep\\\\sub-08\\\\func\\\\sub-08_task-rest_space-MNI152NLin2009cAsym_res-2_desc-preproc_bold.nii.gz', 'C:\\\\Users\\\\MONSTER\\\\ds002748-fmriprep\\\\sub-09\\\\func\\\\sub-09_task-rest_space-MNI152NLin2009cAsym_res-2_desc-preproc_bold.nii.gz', 'C:\\\\Users\\\\MONSTER\\\\ds002748-fmriprep\\\\sub-10\\\\func\\\\sub-10_task-rest_space-MNI152NLin2009cAsym_res-2_desc-preproc_bold.nii.gz', 'C:\\\\Users\\\\MONSTER\\\\ds002748-fmriprep\\\\sub-11\\\\func\\\\sub-11_task-rest_space-MNI152NLin2009cAsym_res-2_desc-preproc_bold.nii.gz', 'C:\\\\Users\\\\MONSTER\\\\ds002748-fmriprep\\\\sub-12\\\\func\\\\sub-12_task-rest_space-MNI152NLin2009cAsym_res-2_desc-preproc_bold.nii.gz', 'C:\\\\Users\\\\MONSTER\\\\ds002748-fmriprep\\\\sub-13\\\\func\\\\sub-13_task-rest_space-MNI152NLin2009cAsym_res-2_desc-preproc_bold.nii.gz', 'C:\\\\Users\\\\MONSTER\\\\ds002748-fmriprep\\\\sub-14\\\\func\\\\sub-14_task-rest_space-MNI152NLin2009cAsym_res-2_desc-preproc_bold.nii.gz', 'C:\\\\Users\\\\MONSTER\\\\ds002748-fmriprep\\\\sub-15\\\\func\\\\sub-15_task-rest_space-MNI152NLin2009cAsym_res-2_desc-preproc_bold.nii.gz', 'C:\\\\Users\\\\MONSTER\\\\ds002748-fmriprep\\\\sub-16\\\\func\\\\sub-16_task-rest_space-MNI152NLin2009cAsym_res-2_desc-preproc_bold.nii.gz', 'C:\\\\Users\\\\MONSTER\\\\ds002748-fmriprep\\\\sub-17\\\\func\\\\sub-17_task-rest_space-MNI152NLin2009cAsym_res-2_desc-preproc_bold.nii.gz', 'C:\\\\Users\\\\MONSTER\\\\ds002748-fmriprep\\\\sub-18\\\\func\\\\sub-18_task-rest_space-MNI152NLin2009cAsym_res-2_desc-preproc_bold.nii.gz', 'C:\\\\Users\\\\MONSTER\\\\ds002748-fmriprep\\\\sub-19\\\\func\\\\sub-19_task-rest_space-MNI152NLin2009cAsym_res-2_desc-preproc_bold.nii.gz', 'C:\\\\Users\\\\MONSTER\\\\ds002748-fmriprep\\\\sub-20\\\\func\\\\sub-20_task-rest_space-MNI152NLin2009cAsym_res-2_desc-preproc_bold.nii.gz', 'C:\\\\Users\\\\MONSTER\\\\ds002748-fmriprep\\\\sub-21\\\\func\\\\sub-21_task-rest_space-MNI152NLin2009cAsym_res-2_desc-preproc_bold.nii.gz', 'C:\\\\Users\\\\MONSTER\\\\ds002748-fmriprep\\\\sub-22\\\\func\\\\sub-22_task-rest_space-MNI152NLin2009cAsym_res-2_desc-preproc_bold.nii.gz', 'C:\\\\Users\\\\MONSTER\\\\ds002748-fmriprep\\\\sub-23\\\\func\\\\sub-23_task-rest_space-MNI152NLin2009cAsym_res-2_desc-preproc_bold.nii.gz', 'C:\\\\Users\\\\MONSTER\\\\ds002748-fmriprep\\\\sub-24\\\\func\\\\sub-24_task-rest_space-MNI152NLin2009cAsym_res-2_desc-preproc_bold.nii.gz', 'C:\\\\Users\\\\MONSTER\\\\ds002748-fmriprep\\\\sub-25\\\\func\\\\sub-25_task-rest_space-MNI152NLin2009cAsym_res-2_desc-preproc_bold.nii.gz', 'C:\\\\Users\\\\MONSTER\\\\ds002748-fmriprep\\\\sub-26\\\\func\\\\sub-26_task-rest_space-MNI152NLin2009cAsym_res-2_desc-preproc_bold.nii.gz', 'C:\\\\Users\\\\MONSTER\\\\ds002748-fmriprep\\\\sub-27\\\\func\\\\sub-27_task-rest_space-MNI152NLin2009cAsym_res-2_desc-preproc_bold.nii.gz', 'C:\\\\Users\\\\MONSTER\\\\ds002748-fmriprep\\\\sub-28\\\\func\\\\sub-28_task-rest_space-MNI152NLin2009cAsym_res-2_desc-preproc_bold.nii.gz', 'C:\\\\Users\\\\MONSTER\\\\ds002748-fmriprep\\\\sub-29\\\\func\\\\sub-29_task-rest_space-MNI152NLin2009cAsym_res-2_desc-preproc_bold.nii.gz', 'C:\\\\Users\\\\MONSTER\\\\ds002748-fmriprep\\\\sub-30\\\\func\\\\sub-30_task-rest_space-MNI152NLin2009cAsym_res-2_desc-preproc_bold.nii.gz', 'C:\\\\Users\\\\MONSTER\\\\ds002748-fmriprep\\\\sub-31\\\\func\\\\sub-31_task-rest_space-MNI152NLin2009cAsym_res-2_desc-preproc_bold.nii.gz', 'C:\\\\Users\\\\MONSTER\\\\ds002748-fmriprep\\\\sub-32\\\\func\\\\sub-32_task-rest_space-MNI152NLin2009cAsym_res-2_desc-preproc_bold.nii.gz', 'C:\\\\Users\\\\MONSTER\\\\ds002748-fmriprep\\\\sub-33\\\\func\\\\sub-33_task-rest_space-MNI152NLin2009cAsym_res-2_desc-preproc_bold.nii.gz', 'C:\\\\Users\\\\MONSTER\\\\ds002748-fmriprep\\\\sub-34\\\\func\\\\sub-34_task-rest_space-MNI152NLin2009cAsym_res-2_desc-preproc_bold.nii.gz', 'C:\\\\Users\\\\MONSTER\\\\ds002748-fmriprep\\\\sub-35\\\\func\\\\sub-35_task-rest_space-MNI152NLin2009cAsym_res-2_desc-preproc_bold.nii.gz', 'C:\\\\Users\\\\MONSTER\\\\ds002748-fmriprep\\\\sub-36\\\\func\\\\sub-36_task-rest_space-MNI152NLin2009cAsym_res-2_desc-preproc_bold.nii.gz', 'C:\\\\Users\\\\MONSTER\\\\ds002748-fmriprep\\\\sub-37\\\\func\\\\sub-37_task-rest_space-MNI152NLin2009cAsym_res-2_desc-preproc_bold.nii.gz', 'C:\\\\Users\\\\MONSTER\\\\ds002748-fmriprep\\\\sub-38\\\\func\\\\sub-38_task-rest_space-MNI152NLin2009cAsym_res-2_desc-preproc_bold.nii.gz', 'C:\\\\Users\\\\MONSTER\\\\ds002748-fmriprep\\\\sub-39\\\\func\\\\sub-39_task-rest_space-MNI152NLin2009cAsym_res-2_desc-preproc_bold.nii.gz', 'C:\\\\Users\\\\MONSTER\\\\ds002748-fmriprep\\\\sub-40\\\\func\\\\sub-40_task-rest_space-MNI152NLin2009cAsym_res-2_desc-preproc_bold.nii.gz', 'C:\\\\Users\\\\MONSTER\\\\ds002748-fmriprep\\\\sub-41\\\\func\\\\sub-41_task-rest_space-MNI152NLin2009cAsym_res-2_desc-preproc_bold.nii.gz', 'C:\\\\Users\\\\MONSTER\\\\ds002748-fmriprep\\\\sub-42\\\\func\\\\sub-42_task-rest_space-MNI152NLin2009cAsym_res-2_desc-preproc_bold.nii.gz', 'C:\\\\Users\\\\MONSTER\\\\ds002748-fmriprep\\\\sub-43\\\\func\\\\sub-43_task-rest_space-MNI152NLin2009cAsym_res-2_desc-preproc_bold.nii.gz', 'C:\\\\Users\\\\MONSTER\\\\ds002748-fmriprep\\\\sub-44\\\\func\\\\sub-44_task-rest_space-MNI152NLin2009cAsym_res-2_desc-preproc_bold.nii.gz', 'C:\\\\Users\\\\MONSTER\\\\ds002748-fmriprep\\\\sub-45\\\\func\\\\sub-45_task-rest_space-MNI152NLin2009cAsym_res-2_desc-preproc_bold.nii.gz', 'C:\\\\Users\\\\MONSTER\\\\ds002748-fmriprep\\\\sub-46\\\\func\\\\sub-46_task-rest_space-MNI152NLin2009cAsym_res-2_desc-preproc_bold.nii.gz', 'C:\\\\Users\\\\MONSTER\\\\ds002748-fmriprep\\\\sub-47\\\\func\\\\sub-47_task-rest_space-MNI152NLin2009cAsym_res-2_desc-preproc_bold.nii.gz', 'C:\\\\Users\\\\MONSTER\\\\ds002748-fmriprep\\\\sub-48\\\\func\\\\sub-48_task-rest_space-MNI152NLin2009cAsym_res-2_desc-preproc_bold.nii.gz', 'C:\\\\Users\\\\MONSTER\\\\ds002748-fmriprep\\\\sub-49\\\\func\\\\sub-49_task-rest_space-MNI152NLin2009cAsym_res-2_desc-preproc_bold.nii.gz', 'C:\\\\Users\\\\MONSTER\\\\ds002748-fmriprep\\\\sub-50\\\\func\\\\sub-50_task-rest_space-MNI152NLin2009cAsym_res-2_desc-preproc_bold.nii.gz', 'C:\\\\Users\\\\MONSTER\\\\ds002748-fmriprep\\\\sub-51\\\\func\\\\sub-51_task-rest_space-MNI152NLin2009cAsym_res-2_desc-preproc_bold.nii.gz', 'C:\\\\Users\\\\MONSTER\\\\ds002748-fmriprep\\\\sub-52\\\\func\\\\sub-52_task-rest_space-MNI152NLin2009cAsym_res-2_desc-preproc_bold.nii.gz', 'C:\\\\Users\\\\MONSTER\\\\ds002748-fmriprep\\\\sub-53\\\\func\\\\sub-53_task-rest_space-MNI152NLin2009cAsym_res-2_desc-preproc_bold.nii.gz', 'C:\\\\Users\\\\MONSTER\\\\ds002748-fmriprep\\\\sub-54\\\\func\\\\sub-54_task-rest_space-MNI152NLin2009cAsym_res-2_desc-preproc_bold.nii.gz', 'C:\\\\Users\\\\MONSTER\\\\ds002748-fmriprep\\\\sub-55\\\\func\\\\sub-55_task-rest_space-MNI152NLin2009cAsym_res-2_desc-preproc_bold.nii.gz', 'C:\\\\Users\\\\MONSTER\\\\ds002748-fmriprep\\\\sub-56\\\\func\\\\sub-56_task-rest_space-MNI152NLin2009cAsym_res-2_desc-preproc_bold.nii.gz', 'C:\\\\Users\\\\MONSTER\\\\ds002748-fmriprep\\\\sub-57\\\\func\\\\sub-57_task-rest_space-MNI152NLin2009cAsym_res-2_desc-preproc_bold.nii.gz', 'C:\\\\Users\\\\MONSTER\\\\ds002748-fmriprep\\\\sub-58\\\\func\\\\sub-58_task-rest_space-MNI152NLin2009cAsym_res-2_desc-preproc_bold.nii.gz', 'C:\\\\Users\\\\MONSTER\\\\ds002748-fmriprep\\\\sub-59\\\\func\\\\sub-59_task-rest_space-MNI152NLin2009cAsym_res-2_desc-preproc_bold.nii.gz', 'C:\\\\Users\\\\MONSTER\\\\ds002748-fmriprep\\\\sub-60\\\\func\\\\sub-60_task-rest_space-MNI152NLin2009cAsym_res-2_desc-preproc_bold.nii.gz', 'C:\\\\Users\\\\MONSTER\\\\ds002748-fmriprep\\\\sub-61\\\\func\\\\sub-61_task-rest_space-MNI152NLin2009cAsym_res-2_desc-preproc_bold.nii.gz', 'C:\\\\Users\\\\MONSTER\\\\ds002748-fmriprep\\\\sub-62\\\\func\\\\sub-62_task-rest_space-MNI152NLin2009cAsym_res-2_desc-preproc_bold.nii.gz', 'C:\\\\Users\\\\MONSTER\\\\ds002748-fmriprep\\\\sub-63\\\\func\\\\sub-63_task-rest_space-MNI152NLin2009cAsym_res-2_desc-preproc_bold.nii.gz', 'C:\\\\Users\\\\MONSTER\\\\ds002748-fmriprep\\\\sub-64\\\\func\\\\sub-64_task-rest_space-MNI152NLin2009cAsym_res-2_desc-preproc_bold.nii.gz', 'C:\\\\Users\\\\MONSTER\\\\ds002748-fmriprep\\\\sub-65\\\\func\\\\sub-65_task-rest_space-MNI152NLin2009cAsym_res-2_desc-preproc_bold.nii.gz', 'C:\\\\Users\\\\MONSTER\\\\ds002748-fmriprep\\\\sub-66\\\\func\\\\sub-66_task-rest_space-MNI152NLin2009cAsym_res-2_desc-preproc_bold.nii.gz', 'C:\\\\Users\\\\MONSTER\\\\ds002748-fmriprep\\\\sub-67\\\\func\\\\sub-67_task-rest_space-MNI152NLin2009cAsym_res-2_desc-preproc_bold.nii.gz', 'C:\\\\Users\\\\MONSTER\\\\ds002748-fmriprep\\\\sub-68\\\\func\\\\sub-68_task-rest_space-MNI152NLin2009cAsym_res-2_desc-preproc_bold.nii.gz', 'C:\\\\Users\\\\MONSTER\\\\ds002748-fmriprep\\\\sub-69\\\\func\\\\sub-69_task-rest_space-MNI152NLin2009cAsym_res-2_desc-preproc_bold.nii.gz', 'C:\\\\Users\\\\MONSTER\\\\ds002748-fmriprep\\\\sub-70\\\\func\\\\sub-70_task-rest_space-MNI152NLin2009cAsym_res-2_desc-preproc_bold.nii.gz', 'C:\\\\Users\\\\MONSTER\\\\ds002748-fmriprep\\\\sub-71\\\\func\\\\sub-71_task-rest_space-MNI152NLin2009cAsym_res-2_desc-preproc_bold.nii.gz', 'C:\\\\Users\\\\MONSTER\\\\ds002748-fmriprep\\\\sub-72\\\\func\\\\sub-72_task-rest_space-MNI152NLin2009cAsym_res-2_desc-preproc_bold.nii.gz']\n",
      "bold_files: ['C:\\\\Users\\\\MONSTER\\\\ds002748-fmriprep\\\\sub-01\\\\func\\\\sub-01_task-rest_desc-preproc_bold.nii.gz', 'C:\\\\Users\\\\MONSTER\\\\ds002748-fmriprep\\\\sub-02\\\\func\\\\sub-02_task-rest_desc-preproc_bold.nii.gz', 'C:\\\\Users\\\\MONSTER\\\\ds002748-fmriprep\\\\sub-03\\\\func\\\\sub-03_task-rest_desc-preproc_bold.nii.gz', 'C:\\\\Users\\\\MONSTER\\\\ds002748-fmriprep\\\\sub-04\\\\func\\\\sub-04_task-rest_desc-preproc_bold.nii.gz', 'C:\\\\Users\\\\MONSTER\\\\ds002748-fmriprep\\\\sub-05\\\\func\\\\sub-05_task-rest_desc-preproc_bold.nii.gz', 'C:\\\\Users\\\\MONSTER\\\\ds002748-fmriprep\\\\sub-06\\\\func\\\\sub-06_task-rest_desc-preproc_bold.nii.gz', 'C:\\\\Users\\\\MONSTER\\\\ds002748-fmriprep\\\\sub-07\\\\func\\\\sub-07_task-rest_desc-preproc_bold.nii.gz', 'C:\\\\Users\\\\MONSTER\\\\ds002748-fmriprep\\\\sub-08\\\\func\\\\sub-08_task-rest_desc-preproc_bold.nii.gz', 'C:\\\\Users\\\\MONSTER\\\\ds002748-fmriprep\\\\sub-09\\\\func\\\\sub-09_task-rest_desc-preproc_bold.nii.gz', 'C:\\\\Users\\\\MONSTER\\\\ds002748-fmriprep\\\\sub-10\\\\func\\\\sub-10_task-rest_desc-preproc_bold.nii.gz', 'C:\\\\Users\\\\MONSTER\\\\ds002748-fmriprep\\\\sub-11\\\\func\\\\sub-11_task-rest_desc-preproc_bold.nii.gz', 'C:\\\\Users\\\\MONSTER\\\\ds002748-fmriprep\\\\sub-12\\\\func\\\\sub-12_task-rest_desc-preproc_bold.nii.gz', 'C:\\\\Users\\\\MONSTER\\\\ds002748-fmriprep\\\\sub-13\\\\func\\\\sub-13_task-rest_desc-preproc_bold.nii.gz', 'C:\\\\Users\\\\MONSTER\\\\ds002748-fmriprep\\\\sub-14\\\\func\\\\sub-14_task-rest_desc-preproc_bold.nii.gz', 'C:\\\\Users\\\\MONSTER\\\\ds002748-fmriprep\\\\sub-15\\\\func\\\\sub-15_task-rest_desc-preproc_bold.nii.gz', 'C:\\\\Users\\\\MONSTER\\\\ds002748-fmriprep\\\\sub-16\\\\func\\\\sub-16_task-rest_desc-preproc_bold.nii.gz', 'C:\\\\Users\\\\MONSTER\\\\ds002748-fmriprep\\\\sub-17\\\\func\\\\sub-17_task-rest_desc-preproc_bold.nii.gz', 'C:\\\\Users\\\\MONSTER\\\\ds002748-fmriprep\\\\sub-18\\\\func\\\\sub-18_task-rest_desc-preproc_bold.nii.gz', 'C:\\\\Users\\\\MONSTER\\\\ds002748-fmriprep\\\\sub-19\\\\func\\\\sub-19_task-rest_desc-preproc_bold.nii.gz', 'C:\\\\Users\\\\MONSTER\\\\ds002748-fmriprep\\\\sub-20\\\\func\\\\sub-20_task-rest_desc-preproc_bold.nii.gz', 'C:\\\\Users\\\\MONSTER\\\\ds002748-fmriprep\\\\sub-21\\\\func\\\\sub-21_task-rest_desc-preproc_bold.nii.gz', 'C:\\\\Users\\\\MONSTER\\\\ds002748-fmriprep\\\\sub-22\\\\func\\\\sub-22_task-rest_desc-preproc_bold.nii.gz', 'C:\\\\Users\\\\MONSTER\\\\ds002748-fmriprep\\\\sub-23\\\\func\\\\sub-23_task-rest_desc-preproc_bold.nii.gz', 'C:\\\\Users\\\\MONSTER\\\\ds002748-fmriprep\\\\sub-24\\\\func\\\\sub-24_task-rest_desc-preproc_bold.nii.gz', 'C:\\\\Users\\\\MONSTER\\\\ds002748-fmriprep\\\\sub-25\\\\func\\\\sub-25_task-rest_desc-preproc_bold.nii.gz', 'C:\\\\Users\\\\MONSTER\\\\ds002748-fmriprep\\\\sub-26\\\\func\\\\sub-26_task-rest_desc-preproc_bold.nii.gz', 'C:\\\\Users\\\\MONSTER\\\\ds002748-fmriprep\\\\sub-27\\\\func\\\\sub-27_task-rest_desc-preproc_bold.nii.gz', 'C:\\\\Users\\\\MONSTER\\\\ds002748-fmriprep\\\\sub-28\\\\func\\\\sub-28_task-rest_desc-preproc_bold.nii.gz', 'C:\\\\Users\\\\MONSTER\\\\ds002748-fmriprep\\\\sub-29\\\\func\\\\sub-29_task-rest_desc-preproc_bold.nii.gz', 'C:\\\\Users\\\\MONSTER\\\\ds002748-fmriprep\\\\sub-30\\\\func\\\\sub-30_task-rest_desc-preproc_bold.nii.gz', 'C:\\\\Users\\\\MONSTER\\\\ds002748-fmriprep\\\\sub-31\\\\func\\\\sub-31_task-rest_desc-preproc_bold.nii.gz', 'C:\\\\Users\\\\MONSTER\\\\ds002748-fmriprep\\\\sub-32\\\\func\\\\sub-32_task-rest_desc-preproc_bold.nii.gz', 'C:\\\\Users\\\\MONSTER\\\\ds002748-fmriprep\\\\sub-33\\\\func\\\\sub-33_task-rest_desc-preproc_bold.nii.gz', 'C:\\\\Users\\\\MONSTER\\\\ds002748-fmriprep\\\\sub-34\\\\func\\\\sub-34_task-rest_desc-preproc_bold.nii.gz', 'C:\\\\Users\\\\MONSTER\\\\ds002748-fmriprep\\\\sub-35\\\\func\\\\sub-35_task-rest_desc-preproc_bold.nii.gz', 'C:\\\\Users\\\\MONSTER\\\\ds002748-fmriprep\\\\sub-36\\\\func\\\\sub-36_task-rest_desc-preproc_bold.nii.gz', 'C:\\\\Users\\\\MONSTER\\\\ds002748-fmriprep\\\\sub-37\\\\func\\\\sub-37_task-rest_desc-preproc_bold.nii.gz', 'C:\\\\Users\\\\MONSTER\\\\ds002748-fmriprep\\\\sub-38\\\\func\\\\sub-38_task-rest_desc-preproc_bold.nii.gz', 'C:\\\\Users\\\\MONSTER\\\\ds002748-fmriprep\\\\sub-39\\\\func\\\\sub-39_task-rest_desc-preproc_bold.nii.gz', 'C:\\\\Users\\\\MONSTER\\\\ds002748-fmriprep\\\\sub-40\\\\func\\\\sub-40_task-rest_desc-preproc_bold.nii.gz', 'C:\\\\Users\\\\MONSTER\\\\ds002748-fmriprep\\\\sub-41\\\\func\\\\sub-41_task-rest_desc-preproc_bold.nii.gz', 'C:\\\\Users\\\\MONSTER\\\\ds002748-fmriprep\\\\sub-42\\\\func\\\\sub-42_task-rest_desc-preproc_bold.nii.gz', 'C:\\\\Users\\\\MONSTER\\\\ds002748-fmriprep\\\\sub-43\\\\func\\\\sub-43_task-rest_desc-preproc_bold.nii.gz', 'C:\\\\Users\\\\MONSTER\\\\ds002748-fmriprep\\\\sub-44\\\\func\\\\sub-44_task-rest_desc-preproc_bold.nii.gz', 'C:\\\\Users\\\\MONSTER\\\\ds002748-fmriprep\\\\sub-45\\\\func\\\\sub-45_task-rest_desc-preproc_bold.nii.gz', 'C:\\\\Users\\\\MONSTER\\\\ds002748-fmriprep\\\\sub-46\\\\func\\\\sub-46_task-rest_desc-preproc_bold.nii.gz', 'C:\\\\Users\\\\MONSTER\\\\ds002748-fmriprep\\\\sub-47\\\\func\\\\sub-47_task-rest_desc-preproc_bold.nii.gz', 'C:\\\\Users\\\\MONSTER\\\\ds002748-fmriprep\\\\sub-48\\\\func\\\\sub-48_task-rest_desc-preproc_bold.nii.gz', 'C:\\\\Users\\\\MONSTER\\\\ds002748-fmriprep\\\\sub-49\\\\func\\\\sub-49_task-rest_desc-preproc_bold.nii.gz', 'C:\\\\Users\\\\MONSTER\\\\ds002748-fmriprep\\\\sub-50\\\\func\\\\sub-50_task-rest_desc-preproc_bold.nii.gz', 'C:\\\\Users\\\\MONSTER\\\\ds002748-fmriprep\\\\sub-51\\\\func\\\\sub-51_task-rest_desc-preproc_bold.nii.gz', 'C:\\\\Users\\\\MONSTER\\\\ds002748-fmriprep\\\\sub-52\\\\func\\\\sub-52_task-rest_desc-preproc_bold.nii.gz', 'C:\\\\Users\\\\MONSTER\\\\ds002748-fmriprep\\\\sub-53\\\\func\\\\sub-53_task-rest_desc-preproc_bold.nii.gz', 'C:\\\\Users\\\\MONSTER\\\\ds002748-fmriprep\\\\sub-54\\\\func\\\\sub-54_task-rest_desc-preproc_bold.nii.gz', 'C:\\\\Users\\\\MONSTER\\\\ds002748-fmriprep\\\\sub-55\\\\func\\\\sub-55_task-rest_desc-preproc_bold.nii.gz', 'C:\\\\Users\\\\MONSTER\\\\ds002748-fmriprep\\\\sub-56\\\\func\\\\sub-56_task-rest_desc-preproc_bold.nii.gz', 'C:\\\\Users\\\\MONSTER\\\\ds002748-fmriprep\\\\sub-57\\\\func\\\\sub-57_task-rest_desc-preproc_bold.nii.gz', 'C:\\\\Users\\\\MONSTER\\\\ds002748-fmriprep\\\\sub-58\\\\func\\\\sub-58_task-rest_desc-preproc_bold.nii.gz', 'C:\\\\Users\\\\MONSTER\\\\ds002748-fmriprep\\\\sub-59\\\\func\\\\sub-59_task-rest_desc-preproc_bold.nii.gz', 'C:\\\\Users\\\\MONSTER\\\\ds002748-fmriprep\\\\sub-60\\\\func\\\\sub-60_task-rest_desc-preproc_bold.nii.gz', 'C:\\\\Users\\\\MONSTER\\\\ds002748-fmriprep\\\\sub-61\\\\func\\\\sub-61_task-rest_desc-preproc_bold.nii.gz', 'C:\\\\Users\\\\MONSTER\\\\ds002748-fmriprep\\\\sub-62\\\\func\\\\sub-62_task-rest_desc-preproc_bold.nii.gz', 'C:\\\\Users\\\\MONSTER\\\\ds002748-fmriprep\\\\sub-63\\\\func\\\\sub-63_task-rest_desc-preproc_bold.nii.gz', 'C:\\\\Users\\\\MONSTER\\\\ds002748-fmriprep\\\\sub-64\\\\func\\\\sub-64_task-rest_desc-preproc_bold.nii.gz', 'C:\\\\Users\\\\MONSTER\\\\ds002748-fmriprep\\\\sub-65\\\\func\\\\sub-65_task-rest_desc-preproc_bold.nii.gz', 'C:\\\\Users\\\\MONSTER\\\\ds002748-fmriprep\\\\sub-66\\\\func\\\\sub-66_task-rest_desc-preproc_bold.nii.gz', 'C:\\\\Users\\\\MONSTER\\\\ds002748-fmriprep\\\\sub-67\\\\func\\\\sub-67_task-rest_desc-preproc_bold.nii.gz', 'C:\\\\Users\\\\MONSTER\\\\ds002748-fmriprep\\\\sub-68\\\\func\\\\sub-68_task-rest_desc-preproc_bold.nii.gz', 'C:\\\\Users\\\\MONSTER\\\\ds002748-fmriprep\\\\sub-69\\\\func\\\\sub-69_task-rest_desc-preproc_bold.nii.gz', 'C:\\\\Users\\\\MONSTER\\\\ds002748-fmriprep\\\\sub-70\\\\func\\\\sub-70_task-rest_desc-preproc_bold.nii.gz', 'C:\\\\Users\\\\MONSTER\\\\ds002748-fmriprep\\\\sub-71\\\\func\\\\sub-71_task-rest_desc-preproc_bold.nii.gz', 'C:\\\\Users\\\\MONSTER\\\\ds002748-fmriprep\\\\sub-72\\\\func\\\\sub-72_task-rest_desc-preproc_bold.nii.gz']\n",
      "confounds_paths: ['C:\\\\Users\\\\MONSTER\\\\ds002748-fmriprep\\\\sub-01\\\\func\\\\sub-01_task-rest_desc-confounds_timeseries.tsv', 'C:\\\\Users\\\\MONSTER\\\\ds002748-fmriprep\\\\sub-02\\\\func\\\\sub-02_task-rest_desc-confounds_timeseries.tsv', 'C:\\\\Users\\\\MONSTER\\\\ds002748-fmriprep\\\\sub-03\\\\func\\\\sub-03_task-rest_desc-confounds_timeseries.tsv', 'C:\\\\Users\\\\MONSTER\\\\ds002748-fmriprep\\\\sub-04\\\\func\\\\sub-04_task-rest_desc-confounds_timeseries.tsv', 'C:\\\\Users\\\\MONSTER\\\\ds002748-fmriprep\\\\sub-05\\\\func\\\\sub-05_task-rest_desc-confounds_timeseries.tsv', 'C:\\\\Users\\\\MONSTER\\\\ds002748-fmriprep\\\\sub-06\\\\func\\\\sub-06_task-rest_desc-confounds_timeseries.tsv', 'C:\\\\Users\\\\MONSTER\\\\ds002748-fmriprep\\\\sub-07\\\\func\\\\sub-07_task-rest_desc-confounds_timeseries.tsv', 'C:\\\\Users\\\\MONSTER\\\\ds002748-fmriprep\\\\sub-08\\\\func\\\\sub-08_task-rest_desc-confounds_timeseries.tsv', 'C:\\\\Users\\\\MONSTER\\\\ds002748-fmriprep\\\\sub-09\\\\func\\\\sub-09_task-rest_desc-confounds_timeseries.tsv', 'C:\\\\Users\\\\MONSTER\\\\ds002748-fmriprep\\\\sub-10\\\\func\\\\sub-10_task-rest_desc-confounds_timeseries.tsv', 'C:\\\\Users\\\\MONSTER\\\\ds002748-fmriprep\\\\sub-11\\\\func\\\\sub-11_task-rest_desc-confounds_timeseries.tsv', 'C:\\\\Users\\\\MONSTER\\\\ds002748-fmriprep\\\\sub-12\\\\func\\\\sub-12_task-rest_desc-confounds_timeseries.tsv', 'C:\\\\Users\\\\MONSTER\\\\ds002748-fmriprep\\\\sub-13\\\\func\\\\sub-13_task-rest_desc-confounds_timeseries.tsv', 'C:\\\\Users\\\\MONSTER\\\\ds002748-fmriprep\\\\sub-14\\\\func\\\\sub-14_task-rest_desc-confounds_timeseries.tsv', 'C:\\\\Users\\\\MONSTER\\\\ds002748-fmriprep\\\\sub-15\\\\func\\\\sub-15_task-rest_desc-confounds_timeseries.tsv', 'C:\\\\Users\\\\MONSTER\\\\ds002748-fmriprep\\\\sub-16\\\\func\\\\sub-16_task-rest_desc-confounds_timeseries.tsv', 'C:\\\\Users\\\\MONSTER\\\\ds002748-fmriprep\\\\sub-17\\\\func\\\\sub-17_task-rest_desc-confounds_timeseries.tsv', 'C:\\\\Users\\\\MONSTER\\\\ds002748-fmriprep\\\\sub-18\\\\func\\\\sub-18_task-rest_desc-confounds_timeseries.tsv', 'C:\\\\Users\\\\MONSTER\\\\ds002748-fmriprep\\\\sub-19\\\\func\\\\sub-19_task-rest_desc-confounds_timeseries.tsv', 'C:\\\\Users\\\\MONSTER\\\\ds002748-fmriprep\\\\sub-20\\\\func\\\\sub-20_task-rest_desc-confounds_timeseries.tsv', 'C:\\\\Users\\\\MONSTER\\\\ds002748-fmriprep\\\\sub-21\\\\func\\\\sub-21_task-rest_desc-confounds_timeseries.tsv', 'C:\\\\Users\\\\MONSTER\\\\ds002748-fmriprep\\\\sub-22\\\\func\\\\sub-22_task-rest_desc-confounds_timeseries.tsv', 'C:\\\\Users\\\\MONSTER\\\\ds002748-fmriprep\\\\sub-23\\\\func\\\\sub-23_task-rest_desc-confounds_timeseries.tsv', 'C:\\\\Users\\\\MONSTER\\\\ds002748-fmriprep\\\\sub-24\\\\func\\\\sub-24_task-rest_desc-confounds_timeseries.tsv', 'C:\\\\Users\\\\MONSTER\\\\ds002748-fmriprep\\\\sub-25\\\\func\\\\sub-25_task-rest_desc-confounds_timeseries.tsv', 'C:\\\\Users\\\\MONSTER\\\\ds002748-fmriprep\\\\sub-26\\\\func\\\\sub-26_task-rest_desc-confounds_timeseries.tsv', 'C:\\\\Users\\\\MONSTER\\\\ds002748-fmriprep\\\\sub-27\\\\func\\\\sub-27_task-rest_desc-confounds_timeseries.tsv', 'C:\\\\Users\\\\MONSTER\\\\ds002748-fmriprep\\\\sub-28\\\\func\\\\sub-28_task-rest_desc-confounds_timeseries.tsv', 'C:\\\\Users\\\\MONSTER\\\\ds002748-fmriprep\\\\sub-29\\\\func\\\\sub-29_task-rest_desc-confounds_timeseries.tsv', 'C:\\\\Users\\\\MONSTER\\\\ds002748-fmriprep\\\\sub-30\\\\func\\\\sub-30_task-rest_desc-confounds_timeseries.tsv', 'C:\\\\Users\\\\MONSTER\\\\ds002748-fmriprep\\\\sub-31\\\\func\\\\sub-31_task-rest_desc-confounds_timeseries.tsv', 'C:\\\\Users\\\\MONSTER\\\\ds002748-fmriprep\\\\sub-32\\\\func\\\\sub-32_task-rest_desc-confounds_timeseries.tsv', 'C:\\\\Users\\\\MONSTER\\\\ds002748-fmriprep\\\\sub-33\\\\func\\\\sub-33_task-rest_desc-confounds_timeseries.tsv', 'C:\\\\Users\\\\MONSTER\\\\ds002748-fmriprep\\\\sub-34\\\\func\\\\sub-34_task-rest_desc-confounds_timeseries.tsv', 'C:\\\\Users\\\\MONSTER\\\\ds002748-fmriprep\\\\sub-35\\\\func\\\\sub-35_task-rest_desc-confounds_timeseries.tsv', 'C:\\\\Users\\\\MONSTER\\\\ds002748-fmriprep\\\\sub-36\\\\func\\\\sub-36_task-rest_desc-confounds_timeseries.tsv', 'C:\\\\Users\\\\MONSTER\\\\ds002748-fmriprep\\\\sub-37\\\\func\\\\sub-37_task-rest_desc-confounds_timeseries.tsv', 'C:\\\\Users\\\\MONSTER\\\\ds002748-fmriprep\\\\sub-38\\\\func\\\\sub-38_task-rest_desc-confounds_timeseries.tsv', 'C:\\\\Users\\\\MONSTER\\\\ds002748-fmriprep\\\\sub-39\\\\func\\\\sub-39_task-rest_desc-confounds_timeseries.tsv', 'C:\\\\Users\\\\MONSTER\\\\ds002748-fmriprep\\\\sub-40\\\\func\\\\sub-40_task-rest_desc-confounds_timeseries.tsv', 'C:\\\\Users\\\\MONSTER\\\\ds002748-fmriprep\\\\sub-41\\\\func\\\\sub-41_task-rest_desc-confounds_timeseries.tsv', 'C:\\\\Users\\\\MONSTER\\\\ds002748-fmriprep\\\\sub-42\\\\func\\\\sub-42_task-rest_desc-confounds_timeseries.tsv', 'C:\\\\Users\\\\MONSTER\\\\ds002748-fmriprep\\\\sub-43\\\\func\\\\sub-43_task-rest_desc-confounds_timeseries.tsv', 'C:\\\\Users\\\\MONSTER\\\\ds002748-fmriprep\\\\sub-44\\\\func\\\\sub-44_task-rest_desc-confounds_timeseries.tsv', 'C:\\\\Users\\\\MONSTER\\\\ds002748-fmriprep\\\\sub-45\\\\func\\\\sub-45_task-rest_desc-confounds_timeseries.tsv', 'C:\\\\Users\\\\MONSTER\\\\ds002748-fmriprep\\\\sub-46\\\\func\\\\sub-46_task-rest_desc-confounds_timeseries.tsv', 'C:\\\\Users\\\\MONSTER\\\\ds002748-fmriprep\\\\sub-47\\\\func\\\\sub-47_task-rest_desc-confounds_timeseries.tsv', 'C:\\\\Users\\\\MONSTER\\\\ds002748-fmriprep\\\\sub-48\\\\func\\\\sub-48_task-rest_desc-confounds_timeseries.tsv', 'C:\\\\Users\\\\MONSTER\\\\ds002748-fmriprep\\\\sub-49\\\\func\\\\sub-49_task-rest_desc-confounds_timeseries.tsv', 'C:\\\\Users\\\\MONSTER\\\\ds002748-fmriprep\\\\sub-50\\\\func\\\\sub-50_task-rest_desc-confounds_timeseries.tsv', 'C:\\\\Users\\\\MONSTER\\\\ds002748-fmriprep\\\\sub-51\\\\func\\\\sub-51_task-rest_desc-confounds_timeseries.tsv', 'C:\\\\Users\\\\MONSTER\\\\ds002748-fmriprep\\\\sub-52\\\\func\\\\sub-52_task-rest_desc-confounds_timeseries.tsv', 'C:\\\\Users\\\\MONSTER\\\\ds002748-fmriprep\\\\sub-53\\\\func\\\\sub-53_task-rest_desc-confounds_timeseries.tsv', 'C:\\\\Users\\\\MONSTER\\\\ds002748-fmriprep\\\\sub-54\\\\func\\\\sub-54_task-rest_desc-confounds_timeseries.tsv', 'C:\\\\Users\\\\MONSTER\\\\ds002748-fmriprep\\\\sub-55\\\\func\\\\sub-55_task-rest_desc-confounds_timeseries.tsv', 'C:\\\\Users\\\\MONSTER\\\\ds002748-fmriprep\\\\sub-56\\\\func\\\\sub-56_task-rest_desc-confounds_timeseries.tsv', 'C:\\\\Users\\\\MONSTER\\\\ds002748-fmriprep\\\\sub-57\\\\func\\\\sub-57_task-rest_desc-confounds_timeseries.tsv', 'C:\\\\Users\\\\MONSTER\\\\ds002748-fmriprep\\\\sub-58\\\\func\\\\sub-58_task-rest_desc-confounds_timeseries.tsv', 'C:\\\\Users\\\\MONSTER\\\\ds002748-fmriprep\\\\sub-59\\\\func\\\\sub-59_task-rest_desc-confounds_timeseries.tsv', 'C:\\\\Users\\\\MONSTER\\\\ds002748-fmriprep\\\\sub-60\\\\func\\\\sub-60_task-rest_desc-confounds_timeseries.tsv', 'C:\\\\Users\\\\MONSTER\\\\ds002748-fmriprep\\\\sub-61\\\\func\\\\sub-61_task-rest_desc-confounds_timeseries.tsv', 'C:\\\\Users\\\\MONSTER\\\\ds002748-fmriprep\\\\sub-62\\\\func\\\\sub-62_task-rest_desc-confounds_timeseries.tsv', 'C:\\\\Users\\\\MONSTER\\\\ds002748-fmriprep\\\\sub-63\\\\func\\\\sub-63_task-rest_desc-confounds_timeseries.tsv', 'C:\\\\Users\\\\MONSTER\\\\ds002748-fmriprep\\\\sub-64\\\\func\\\\sub-64_task-rest_desc-confounds_timeseries.tsv', 'C:\\\\Users\\\\MONSTER\\\\ds002748-fmriprep\\\\sub-65\\\\func\\\\sub-65_task-rest_desc-confounds_timeseries.tsv', 'C:\\\\Users\\\\MONSTER\\\\ds002748-fmriprep\\\\sub-66\\\\func\\\\sub-66_task-rest_desc-confounds_timeseries.tsv', 'C:\\\\Users\\\\MONSTER\\\\ds002748-fmriprep\\\\sub-67\\\\func\\\\sub-67_task-rest_desc-confounds_timeseries.tsv', 'C:\\\\Users\\\\MONSTER\\\\ds002748-fmriprep\\\\sub-68\\\\func\\\\sub-68_task-rest_desc-confounds_timeseries.tsv', 'C:\\\\Users\\\\MONSTER\\\\ds002748-fmriprep\\\\sub-69\\\\func\\\\sub-69_task-rest_desc-confounds_timeseries.tsv', 'C:\\\\Users\\\\MONSTER\\\\ds002748-fmriprep\\\\sub-70\\\\func\\\\sub-70_task-rest_desc-confounds_timeseries.tsv', 'C:\\\\Users\\\\MONSTER\\\\ds002748-fmriprep\\\\sub-71\\\\func\\\\sub-71_task-rest_desc-confounds_timeseries.tsv', 'C:\\\\Users\\\\MONSTER\\\\ds002748-fmriprep\\\\sub-72\\\\func\\\\sub-72_task-rest_desc-confounds_timeseries.tsv']\n"
     ]
    }
   ],
   "source": [
    "from glob import glob\n",
    "import os\n",
    "\n",
    "data_dir = r\"C:\\Users\\MONSTER\\ds002748-fmriprep\"\n",
    "\n",
    "# `func` klasörü içindeki dosyaları aramak için desenleri güncelleme\n",
    "brain_mask_files = sorted(glob(os.path.join(data_dir, '**/func/*brain_mask.nii.gz'), recursive=True))\n",
    "MNI_files = sorted(glob(os.path.join(data_dir, '**/func/*MNI152NLin2009cAsym_res-2_desc-preproc_bold.nii.gz'), recursive=True))\n",
    "bold_files = sorted(glob(os.path.join(data_dir, '**/func/*task-rest_desc-preproc_bold.nii.gz'), recursive=True))\n",
    "confounds_paths = sorted(glob(os.path.join(data_dir, '**/func/*confounds_timeseries.tsv'), recursive=True))\n",
    "\n",
    "print(\"brain_mask_files:\", brain_mask_files)\n",
    "print(\"MNI_files:\", MNI_files)\n",
    "print(\"bold_files:\", bold_files)\n",
    "print(\"confounds_paths:\", confounds_paths)"
   ]
  },
  {
   "cell_type": "code",
   "execution_count": 5,
   "metadata": {
    "colab": {
     "base_uri": "https://localhost:8080/",
     "height": 412
    },
    "id": "5O4eatqJ5df1",
    "outputId": "7f5344df-1ba5-4b83-b27e-c54628c46607",
    "tags": []
   },
   "outputs": [
    {
     "data": {
      "text/html": [
       "<div>\n",
       "<style scoped>\n",
       "    .dataframe tbody tr th:only-of-type {\n",
       "        vertical-align: middle;\n",
       "    }\n",
       "\n",
       "    .dataframe tbody tr th {\n",
       "        vertical-align: top;\n",
       "    }\n",
       "\n",
       "    .dataframe thead th {\n",
       "        text-align: right;\n",
       "    }\n",
       "</style>\n",
       "<table border=\"1\" class=\"dataframe\">\n",
       "  <thead>\n",
       "    <tr style=\"text-align: right;\">\n",
       "      <th></th>\n",
       "      <th>global_signal</th>\n",
       "      <th>global_signal_derivative1</th>\n",
       "      <th>global_signal_power2</th>\n",
       "      <th>global_signal_derivative1_power2</th>\n",
       "      <th>csf</th>\n",
       "      <th>csf_derivative1</th>\n",
       "      <th>csf_derivative1_power2</th>\n",
       "      <th>csf_power2</th>\n",
       "      <th>white_matter</th>\n",
       "      <th>white_matter_derivative1</th>\n",
       "      <th>...</th>\n",
       "      <th>aroma_motion_01</th>\n",
       "      <th>aroma_motion_02</th>\n",
       "      <th>aroma_motion_04</th>\n",
       "      <th>aroma_motion_05</th>\n",
       "      <th>aroma_motion_07</th>\n",
       "      <th>aroma_motion_08</th>\n",
       "      <th>aroma_motion_09</th>\n",
       "      <th>aroma_motion_12</th>\n",
       "      <th>aroma_motion_14</th>\n",
       "      <th>aroma_motion_15</th>\n",
       "    </tr>\n",
       "  </thead>\n",
       "  <tbody>\n",
       "    <tr>\n",
       "      <th>0</th>\n",
       "      <td>1016.817309</td>\n",
       "      <td>NaN</td>\n",
       "      <td>1.033917e+06</td>\n",
       "      <td>NaN</td>\n",
       "      <td>1290.715247</td>\n",
       "      <td>NaN</td>\n",
       "      <td>NaN</td>\n",
       "      <td>1.665946e+06</td>\n",
       "      <td>1039.798077</td>\n",
       "      <td>NaN</td>\n",
       "      <td>...</td>\n",
       "      <td>1.364133</td>\n",
       "      <td>-1.722431</td>\n",
       "      <td>0.784186</td>\n",
       "      <td>1.123117</td>\n",
       "      <td>-1.400853</td>\n",
       "      <td>0.730426</td>\n",
       "      <td>-1.554664</td>\n",
       "      <td>-1.731178</td>\n",
       "      <td>0.429063</td>\n",
       "      <td>-0.659356</td>\n",
       "    </tr>\n",
       "    <tr>\n",
       "      <th>1</th>\n",
       "      <td>1016.071620</td>\n",
       "      <td>-0.745688</td>\n",
       "      <td>1.032402e+06</td>\n",
       "      <td>0.556051</td>\n",
       "      <td>1283.087151</td>\n",
       "      <td>-7.628095</td>\n",
       "      <td>58.187839</td>\n",
       "      <td>1.646313e+06</td>\n",
       "      <td>1040.158421</td>\n",
       "      <td>0.360344</td>\n",
       "      <td>...</td>\n",
       "      <td>-0.881900</td>\n",
       "      <td>-1.823915</td>\n",
       "      <td>0.957782</td>\n",
       "      <td>-0.828779</td>\n",
       "      <td>0.195014</td>\n",
       "      <td>-1.904547</td>\n",
       "      <td>-1.403632</td>\n",
       "      <td>-1.637476</td>\n",
       "      <td>1.275585</td>\n",
       "      <td>-0.640507</td>\n",
       "    </tr>\n",
       "    <tr>\n",
       "      <th>2</th>\n",
       "      <td>1017.882077</td>\n",
       "      <td>1.810457</td>\n",
       "      <td>1.036084e+06</td>\n",
       "      <td>3.277754</td>\n",
       "      <td>1285.158754</td>\n",
       "      <td>2.071602</td>\n",
       "      <td>4.291536</td>\n",
       "      <td>1.651633e+06</td>\n",
       "      <td>1041.778174</td>\n",
       "      <td>1.619753</td>\n",
       "      <td>...</td>\n",
       "      <td>1.213365</td>\n",
       "      <td>-1.460820</td>\n",
       "      <td>0.926264</td>\n",
       "      <td>1.183792</td>\n",
       "      <td>0.483683</td>\n",
       "      <td>-0.031791</td>\n",
       "      <td>-1.261391</td>\n",
       "      <td>0.758988</td>\n",
       "      <td>-0.580735</td>\n",
       "      <td>-0.752762</td>\n",
       "    </tr>\n",
       "    <tr>\n",
       "      <th>3</th>\n",
       "      <td>1018.445107</td>\n",
       "      <td>0.563030</td>\n",
       "      <td>1.037230e+06</td>\n",
       "      <td>0.317003</td>\n",
       "      <td>1286.413632</td>\n",
       "      <td>1.254878</td>\n",
       "      <td>1.574719</td>\n",
       "      <td>1.654860e+06</td>\n",
       "      <td>1042.415207</td>\n",
       "      <td>0.637033</td>\n",
       "      <td>...</td>\n",
       "      <td>-1.150660</td>\n",
       "      <td>-1.243981</td>\n",
       "      <td>1.353235</td>\n",
       "      <td>0.066687</td>\n",
       "      <td>0.437776</td>\n",
       "      <td>-1.346764</td>\n",
       "      <td>-0.508917</td>\n",
       "      <td>-0.117207</td>\n",
       "      <td>1.241091</td>\n",
       "      <td>0.670088</td>\n",
       "    </tr>\n",
       "    <tr>\n",
       "      <th>4</th>\n",
       "      <td>1017.156087</td>\n",
       "      <td>-1.289020</td>\n",
       "      <td>1.034607e+06</td>\n",
       "      <td>1.661573</td>\n",
       "      <td>1282.518355</td>\n",
       "      <td>-3.895277</td>\n",
       "      <td>15.173182</td>\n",
       "      <td>1.644853e+06</td>\n",
       "      <td>1041.653693</td>\n",
       "      <td>-0.761514</td>\n",
       "      <td>...</td>\n",
       "      <td>0.720435</td>\n",
       "      <td>-1.318376</td>\n",
       "      <td>0.834434</td>\n",
       "      <td>1.060158</td>\n",
       "      <td>-1.946056</td>\n",
       "      <td>0.465642</td>\n",
       "      <td>-0.891533</td>\n",
       "      <td>-0.813171</td>\n",
       "      <td>-0.439035</td>\n",
       "      <td>0.373695</td>\n",
       "    </tr>\n",
       "  </tbody>\n",
       "</table>\n",
       "<p>5 rows × 140 columns</p>\n",
       "</div>"
      ],
      "text/plain": [
       "   global_signal  global_signal_derivative1  global_signal_power2  \\\n",
       "0    1016.817309                        NaN          1.033917e+06   \n",
       "1    1016.071620                  -0.745688          1.032402e+06   \n",
       "2    1017.882077                   1.810457          1.036084e+06   \n",
       "3    1018.445107                   0.563030          1.037230e+06   \n",
       "4    1017.156087                  -1.289020          1.034607e+06   \n",
       "\n",
       "   global_signal_derivative1_power2          csf  csf_derivative1  \\\n",
       "0                               NaN  1290.715247              NaN   \n",
       "1                          0.556051  1283.087151        -7.628095   \n",
       "2                          3.277754  1285.158754         2.071602   \n",
       "3                          0.317003  1286.413632         1.254878   \n",
       "4                          1.661573  1282.518355        -3.895277   \n",
       "\n",
       "   csf_derivative1_power2    csf_power2  white_matter  \\\n",
       "0                     NaN  1.665946e+06   1039.798077   \n",
       "1               58.187839  1.646313e+06   1040.158421   \n",
       "2                4.291536  1.651633e+06   1041.778174   \n",
       "3                1.574719  1.654860e+06   1042.415207   \n",
       "4               15.173182  1.644853e+06   1041.653693   \n",
       "\n",
       "   white_matter_derivative1  ...  aroma_motion_01  aroma_motion_02  \\\n",
       "0                       NaN  ...         1.364133        -1.722431   \n",
       "1                  0.360344  ...        -0.881900        -1.823915   \n",
       "2                  1.619753  ...         1.213365        -1.460820   \n",
       "3                  0.637033  ...        -1.150660        -1.243981   \n",
       "4                 -0.761514  ...         0.720435        -1.318376   \n",
       "\n",
       "   aroma_motion_04  aroma_motion_05  aroma_motion_07  aroma_motion_08  \\\n",
       "0         0.784186         1.123117        -1.400853         0.730426   \n",
       "1         0.957782        -0.828779         0.195014        -1.904547   \n",
       "2         0.926264         1.183792         0.483683        -0.031791   \n",
       "3         1.353235         0.066687         0.437776        -1.346764   \n",
       "4         0.834434         1.060158        -1.946056         0.465642   \n",
       "\n",
       "   aroma_motion_09  aroma_motion_12  aroma_motion_14  aroma_motion_15  \n",
       "0        -1.554664        -1.731178         0.429063        -0.659356  \n",
       "1        -1.403632        -1.637476         1.275585        -0.640507  \n",
       "2        -1.261391         0.758988        -0.580735        -0.752762  \n",
       "3        -0.508917        -0.117207         1.241091         0.670088  \n",
       "4        -0.891533        -0.813171        -0.439035         0.373695  \n",
       "\n",
       "[5 rows x 140 columns]"
      ]
     },
     "execution_count": 5,
     "metadata": {},
     "output_type": "execute_result"
    }
   ],
   "source": [
    "import pandas\n",
    "conf_df = pandas.read_table(confounds_paths[0])\n",
    "conf_df.head()\n"
   ]
  },
  {
   "cell_type": "code",
   "execution_count": 6,
   "metadata": {
    "colab": {
     "base_uri": "https://localhost:8080/"
    },
    "id": "2U3f2qYx2ZYM",
    "outputId": "7bd5515a-4fc2-44c9-8464-91fff493b22a",
    "tags": []
   },
   "outputs": [
    {
     "name": "stdout",
     "output_type": "stream",
     "text": [
      "216 72 72 72\n"
     ]
    }
   ],
   "source": [
    "print(len(brain_mask_files),len(MNI_files),len(bold_files),len(confounds_paths))"
   ]
  },
  {
   "cell_type": "markdown",
   "metadata": {
    "id": "I7RHvDGCGTWR"
   },
   "source": [
    "# Create outcome variable\n",
    "We need to define a variable that holds the outcome variable (1 or 0) that indicates whether or not the resting-state images were recorded with depressif patients or healthy."
   ]
  },
  {
   "cell_type": "code",
   "execution_count": 7,
   "metadata": {
    "colab": {
     "base_uri": "https://localhost:8080/",
     "height": 363
    },
    "id": "DnI3pOffGR1X",
    "outputId": "cce10fa2-1560-4d20-9201-05dcdd56c119",
    "tags": []
   },
   "outputs": [
    {
     "data": {
      "text/html": [
       "<div>\n",
       "<style scoped>\n",
       "    .dataframe tbody tr th:only-of-type {\n",
       "        vertical-align: middle;\n",
       "    }\n",
       "\n",
       "    .dataframe tbody tr th {\n",
       "        vertical-align: top;\n",
       "    }\n",
       "\n",
       "    .dataframe thead th {\n",
       "        text-align: right;\n",
       "    }\n",
       "</style>\n",
       "<table border=\"1\" class=\"dataframe\">\n",
       "  <thead>\n",
       "    <tr style=\"text-align: right;\">\n",
       "      <th></th>\n",
       "      <th>participant_id</th>\n",
       "      <th>age</th>\n",
       "      <th>gender</th>\n",
       "      <th>group</th>\n",
       "      <th>IQ_Raven</th>\n",
       "      <th>ICD-10</th>\n",
       "      <th>MADRS</th>\n",
       "      <th>Zung_SDS</th>\n",
       "      <th>BDI</th>\n",
       "      <th>HADS-anx</th>\n",
       "      <th>HADS-depr</th>\n",
       "      <th>MC-SDS</th>\n",
       "      <th>TAS-26</th>\n",
       "      <th>ECR-avoid</th>\n",
       "      <th>ECR-anx</th>\n",
       "      <th>RRS-sum</th>\n",
       "      <th>RRS-reflection</th>\n",
       "      <th>RRS-brooding</th>\n",
       "      <th>RRS-depr</th>\n",
       "      <th>Edinburgh</th>\n",
       "    </tr>\n",
       "  </thead>\n",
       "  <tbody>\n",
       "    <tr>\n",
       "      <th>0</th>\n",
       "      <td>sub-01</td>\n",
       "      <td>39</td>\n",
       "      <td>m</td>\n",
       "      <td>depr</td>\n",
       "      <td>113.0</td>\n",
       "      <td>F32.0</td>\n",
       "      <td>NaN</td>\n",
       "      <td>43.0</td>\n",
       "      <td>17.0</td>\n",
       "      <td>NaN</td>\n",
       "      <td>NaN</td>\n",
       "      <td>9.0</td>\n",
       "      <td>81.0</td>\n",
       "      <td>66.0</td>\n",
       "      <td>60.0</td>\n",
       "      <td>53.0</td>\n",
       "      <td>12.0</td>\n",
       "      <td>14.0</td>\n",
       "      <td>27.0</td>\n",
       "      <td>NaN</td>\n",
       "    </tr>\n",
       "    <tr>\n",
       "      <th>1</th>\n",
       "      <td>sub-02</td>\n",
       "      <td>50</td>\n",
       "      <td>m</td>\n",
       "      <td>depr</td>\n",
       "      <td>80.0</td>\n",
       "      <td>F32.0</td>\n",
       "      <td>NaN</td>\n",
       "      <td>47.0</td>\n",
       "      <td>10.0</td>\n",
       "      <td>NaN</td>\n",
       "      <td>NaN</td>\n",
       "      <td>15.0</td>\n",
       "      <td>54.0</td>\n",
       "      <td>62.0</td>\n",
       "      <td>78.0</td>\n",
       "      <td>59.0</td>\n",
       "      <td>14.0</td>\n",
       "      <td>12.0</td>\n",
       "      <td>33.0</td>\n",
       "      <td>NaN</td>\n",
       "    </tr>\n",
       "    <tr>\n",
       "      <th>2</th>\n",
       "      <td>sub-03</td>\n",
       "      <td>47</td>\n",
       "      <td>f</td>\n",
       "      <td>depr</td>\n",
       "      <td>87.0</td>\n",
       "      <td>F32.0</td>\n",
       "      <td>NaN</td>\n",
       "      <td>44.0</td>\n",
       "      <td>19.0</td>\n",
       "      <td>NaN</td>\n",
       "      <td>NaN</td>\n",
       "      <td>15.0</td>\n",
       "      <td>80.0</td>\n",
       "      <td>42.0</td>\n",
       "      <td>54.0</td>\n",
       "      <td>47.0</td>\n",
       "      <td>11.0</td>\n",
       "      <td>9.0</td>\n",
       "      <td>27.0</td>\n",
       "      <td>NaN</td>\n",
       "    </tr>\n",
       "    <tr>\n",
       "      <th>3</th>\n",
       "      <td>sub-04</td>\n",
       "      <td>32</td>\n",
       "      <td>f</td>\n",
       "      <td>depr</td>\n",
       "      <td>100.0</td>\n",
       "      <td>F32.0</td>\n",
       "      <td>NaN</td>\n",
       "      <td>34.0</td>\n",
       "      <td>6.0</td>\n",
       "      <td>NaN</td>\n",
       "      <td>NaN</td>\n",
       "      <td>10.0</td>\n",
       "      <td>71.0</td>\n",
       "      <td>42.0</td>\n",
       "      <td>39.0</td>\n",
       "      <td>37.0</td>\n",
       "      <td>9.0</td>\n",
       "      <td>9.0</td>\n",
       "      <td>19.0</td>\n",
       "      <td>NaN</td>\n",
       "    </tr>\n",
       "    <tr>\n",
       "      <th>4</th>\n",
       "      <td>sub-05</td>\n",
       "      <td>26</td>\n",
       "      <td>f</td>\n",
       "      <td>depr</td>\n",
       "      <td>104.0</td>\n",
       "      <td>F32.0</td>\n",
       "      <td>NaN</td>\n",
       "      <td>48.0</td>\n",
       "      <td>17.0</td>\n",
       "      <td>NaN</td>\n",
       "      <td>NaN</td>\n",
       "      <td>10.0</td>\n",
       "      <td>65.0</td>\n",
       "      <td>52.0</td>\n",
       "      <td>68.0</td>\n",
       "      <td>61.0</td>\n",
       "      <td>14.0</td>\n",
       "      <td>13.0</td>\n",
       "      <td>34.0</td>\n",
       "      <td>NaN</td>\n",
       "    </tr>\n",
       "    <tr>\n",
       "      <th>5</th>\n",
       "      <td>sub-06</td>\n",
       "      <td>42</td>\n",
       "      <td>m</td>\n",
       "      <td>depr</td>\n",
       "      <td>104.0</td>\n",
       "      <td>F32.0</td>\n",
       "      <td>NaN</td>\n",
       "      <td>42.0</td>\n",
       "      <td>16.0</td>\n",
       "      <td>NaN</td>\n",
       "      <td>NaN</td>\n",
       "      <td>13.0</td>\n",
       "      <td>55.0</td>\n",
       "      <td>52.0</td>\n",
       "      <td>50.0</td>\n",
       "      <td>56.0</td>\n",
       "      <td>14.0</td>\n",
       "      <td>12.0</td>\n",
       "      <td>30.0</td>\n",
       "      <td>NaN</td>\n",
       "    </tr>\n",
       "    <tr>\n",
       "      <th>6</th>\n",
       "      <td>sub-07</td>\n",
       "      <td>28</td>\n",
       "      <td>f</td>\n",
       "      <td>depr</td>\n",
       "      <td>94.0</td>\n",
       "      <td>F32.0</td>\n",
       "      <td>NaN</td>\n",
       "      <td>35.0</td>\n",
       "      <td>3.0</td>\n",
       "      <td>NaN</td>\n",
       "      <td>NaN</td>\n",
       "      <td>13.0</td>\n",
       "      <td>51.0</td>\n",
       "      <td>56.0</td>\n",
       "      <td>36.0</td>\n",
       "      <td>44.0</td>\n",
       "      <td>10.0</td>\n",
       "      <td>10.0</td>\n",
       "      <td>24.0</td>\n",
       "      <td>NaN</td>\n",
       "    </tr>\n",
       "    <tr>\n",
       "      <th>7</th>\n",
       "      <td>sub-08</td>\n",
       "      <td>28</td>\n",
       "      <td>m</td>\n",
       "      <td>depr</td>\n",
       "      <td>92.0</td>\n",
       "      <td>F32.0</td>\n",
       "      <td>NaN</td>\n",
       "      <td>NaN</td>\n",
       "      <td>NaN</td>\n",
       "      <td>NaN</td>\n",
       "      <td>NaN</td>\n",
       "      <td>NaN</td>\n",
       "      <td>NaN</td>\n",
       "      <td>NaN</td>\n",
       "      <td>NaN</td>\n",
       "      <td>NaN</td>\n",
       "      <td>NaN</td>\n",
       "      <td>NaN</td>\n",
       "      <td>NaN</td>\n",
       "      <td>NaN</td>\n",
       "    </tr>\n",
       "    <tr>\n",
       "      <th>8</th>\n",
       "      <td>sub-09</td>\n",
       "      <td>52</td>\n",
       "      <td>f</td>\n",
       "      <td>depr</td>\n",
       "      <td>77.0</td>\n",
       "      <td>F32.0</td>\n",
       "      <td>NaN</td>\n",
       "      <td>50.0</td>\n",
       "      <td>12.0</td>\n",
       "      <td>NaN</td>\n",
       "      <td>NaN</td>\n",
       "      <td>13.0</td>\n",
       "      <td>77.0</td>\n",
       "      <td>52.0</td>\n",
       "      <td>52.0</td>\n",
       "      <td>46.0</td>\n",
       "      <td>12.0</td>\n",
       "      <td>10.0</td>\n",
       "      <td>24.0</td>\n",
       "      <td>NaN</td>\n",
       "    </tr>\n",
       "    <tr>\n",
       "      <th>9</th>\n",
       "      <td>sub-10</td>\n",
       "      <td>24</td>\n",
       "      <td>m</td>\n",
       "      <td>depr</td>\n",
       "      <td>99.0</td>\n",
       "      <td>F34.1</td>\n",
       "      <td>NaN</td>\n",
       "      <td>42.0</td>\n",
       "      <td>22.0</td>\n",
       "      <td>NaN</td>\n",
       "      <td>NaN</td>\n",
       "      <td>12.0</td>\n",
       "      <td>79.0</td>\n",
       "      <td>72.0</td>\n",
       "      <td>59.0</td>\n",
       "      <td>49.0</td>\n",
       "      <td>11.0</td>\n",
       "      <td>11.0</td>\n",
       "      <td>27.0</td>\n",
       "      <td>NaN</td>\n",
       "    </tr>\n",
       "  </tbody>\n",
       "</table>\n",
       "</div>"
      ],
      "text/plain": [
       "  participant_id  age gender group  IQ_Raven ICD-10  MADRS  Zung_SDS   BDI  \\\n",
       "0         sub-01   39      m  depr     113.0  F32.0    NaN      43.0  17.0   \n",
       "1         sub-02   50      m  depr      80.0  F32.0    NaN      47.0  10.0   \n",
       "2         sub-03   47      f  depr      87.0  F32.0    NaN      44.0  19.0   \n",
       "3         sub-04   32      f  depr     100.0  F32.0    NaN      34.0   6.0   \n",
       "4         sub-05   26      f  depr     104.0  F32.0    NaN      48.0  17.0   \n",
       "5         sub-06   42      m  depr     104.0  F32.0    NaN      42.0  16.0   \n",
       "6         sub-07   28      f  depr      94.0  F32.0    NaN      35.0   3.0   \n",
       "7         sub-08   28      m  depr      92.0  F32.0    NaN       NaN   NaN   \n",
       "8         sub-09   52      f  depr      77.0  F32.0    NaN      50.0  12.0   \n",
       "9         sub-10   24      m  depr      99.0  F34.1    NaN      42.0  22.0   \n",
       "\n",
       "   HADS-anx  HADS-depr  MC-SDS  TAS-26  ECR-avoid  ECR-anx  RRS-sum  \\\n",
       "0       NaN        NaN     9.0    81.0       66.0     60.0     53.0   \n",
       "1       NaN        NaN    15.0    54.0       62.0     78.0     59.0   \n",
       "2       NaN        NaN    15.0    80.0       42.0     54.0     47.0   \n",
       "3       NaN        NaN    10.0    71.0       42.0     39.0     37.0   \n",
       "4       NaN        NaN    10.0    65.0       52.0     68.0     61.0   \n",
       "5       NaN        NaN    13.0    55.0       52.0     50.0     56.0   \n",
       "6       NaN        NaN    13.0    51.0       56.0     36.0     44.0   \n",
       "7       NaN        NaN     NaN     NaN        NaN      NaN      NaN   \n",
       "8       NaN        NaN    13.0    77.0       52.0     52.0     46.0   \n",
       "9       NaN        NaN    12.0    79.0       72.0     59.0     49.0   \n",
       "\n",
       "   RRS-reflection  RRS-brooding  RRS-depr  Edinburgh  \n",
       "0            12.0          14.0      27.0        NaN  \n",
       "1            14.0          12.0      33.0        NaN  \n",
       "2            11.0           9.0      27.0        NaN  \n",
       "3             9.0           9.0      19.0        NaN  \n",
       "4            14.0          13.0      34.0        NaN  \n",
       "5            14.0          12.0      30.0        NaN  \n",
       "6            10.0          10.0      24.0        NaN  \n",
       "7             NaN           NaN       NaN        NaN  \n",
       "8            12.0          10.0      24.0        NaN  \n",
       "9            11.0          11.0      27.0        NaN  "
      ]
     },
     "execution_count": 7,
     "metadata": {},
     "output_type": "execute_result"
    }
   ],
   "source": [
    "import pandas as pd\n",
    "\n",
    "# Load the .tsv file into a pandas DataFrame\n",
    "participants_df = pd.read_csv(r\"C:\\Users\\MONSTER\\Desktop\\Samsung Inv. Campus\\participants.tsv\", sep='\\t')\n",
    "\n",
    "# View the first 10 rows of the DataFrame\n",
    "participants_df.head(10)"
   ]
  },
  {
   "cell_type": "code",
   "execution_count": 8,
   "metadata": {
    "colab": {
     "base_uri": "https://localhost:8080/",
     "height": 423
    },
    "id": "_rFqmbzjbyTn",
    "outputId": "b1a306d2-fe03-4bdd-c713-1c302612388e",
    "tags": []
   },
   "outputs": [
    {
     "name": "stdout",
     "output_type": "stream",
     "text": [
      "Atlas ROIs are located in nifti image (4D) at: C:\\Users\\MONSTER/nilearn_data\\basc_multiscale_2015\\template_cambridge_basc_multiscale_nii_sym\\template_cambridge_basc_multiscale_sym_scale064.nii.gz\n"
     ]
    },
    {
     "data": {
      "text/plain": [
       "<nilearn.plotting.displays._slicers.OrthoSlicer at 0x1ccfdafd510>"
      ]
     },
     "execution_count": 8,
     "metadata": {},
     "output_type": "execute_result"
    },
    {
     "data": {
      "image/png": "[encoded data removed]",
      "text/plain": [
       "<Figure size 660x350 with 4 Axes>"
      ]
     },
     "metadata": {},
     "output_type": "display_data"
    }
   ],
   "source": [
    "from nilearn import datasets\n",
    "from nilearn.input_data import NiftiLabelsMasker\n",
    "from nilearn.connectome import ConnectivityMeasure\n",
    "\n",
    "parcellations = datasets.fetch_atlas_basc_multiscale_2015(version='sym')\n",
    "atlas_filename = parcellations.scale064\n",
    "\n",
    "\n",
    "print('Atlas ROIs are located in nifti image (4D) at: %s' %\n",
    "       atlas_filename)\n",
    "# initialize masker (change verbosity)\n",
    "masker = NiftiLabelsMasker(labels_img=atlas_filename, standardize=True,\n",
    "                           memory='nilearn_cache', verbose=0)\n",
    "\n",
    "# initialize correlation measure, set to vectorize\n",
    "correlation_measure = ConnectivityMeasure(kind='correlation',\n",
    "                                         )\n",
    "from nilearn import plotting\n",
    "\n",
    "plotting.plot_roi(atlas_filename, draw_cross=False)"
   ]
  },
  {
   "cell_type": "code",
   "execution_count": 9,
   "metadata": {
    "colab": {
     "base_uri": "https://localhost:8080/"
    },
    "id": "WBvFdCpwcPCE",
    "outputId": "857142b0-4fff-4296-9170-8e6c08f54e05",
    "tags": []
   },
   "outputs": [
    {
     "name": "stdout",
     "output_type": "stream",
     "text": [
      "Time series shape: (100, 64)\n",
      "Correlation matrix shape: (64, 64)\n",
      "Finished 1 of 72\n"
     ]
    },
    {
     "name": "stderr",
     "output_type": "stream",
     "text": [
      "C:\\Users\\MONSTER\\anaconda3\\Lib\\site-packages\\nilearn\\connectome\\connectivity_matrices.py:509: FutureWarning: The default strategy for standardize is currently 'zscore' which incorrectly uses population std to calculate sample zscores. The new strategy 'zscore_sample' corrects this behavior by using the sample std. In release 0.13, the default strategy will be replaced by the new strategy and the 'zscore' option will be removed. Please use 'zscore_sample' instead.\n",
      "  covariances_std = [\n"
     ]
    },
    {
     "name": "stdout",
     "output_type": "stream",
     "text": [
      "Time series shape: (100, 64)\n",
      "Correlation matrix shape: (64, 64)\n",
      "Finished 2 of 72\n"
     ]
    },
    {
     "name": "stderr",
     "output_type": "stream",
     "text": [
      "C:\\Users\\MONSTER\\anaconda3\\Lib\\site-packages\\nilearn\\connectome\\connectivity_matrices.py:509: FutureWarning: The default strategy for standardize is currently 'zscore' which incorrectly uses population std to calculate sample zscores. The new strategy 'zscore_sample' corrects this behavior by using the sample std. In release 0.13, the default strategy will be replaced by the new strategy and the 'zscore' option will be removed. Please use 'zscore_sample' instead.\n",
      "  covariances_std = [\n"
     ]
    },
    {
     "name": "stdout",
     "output_type": "stream",
     "text": [
      "Time series shape: (100, 64)\n",
      "Correlation matrix shape: (64, 64)\n",
      "Finished 3 of 72\n"
     ]
    },
    {
     "name": "stderr",
     "output_type": "stream",
     "text": [
      "C:\\Users\\MONSTER\\anaconda3\\Lib\\site-packages\\nilearn\\connectome\\connectivity_matrices.py:509: FutureWarning: The default strategy for standardize is currently 'zscore' which incorrectly uses population std to calculate sample zscores. The new strategy 'zscore_sample' corrects this behavior by using the sample std. In release 0.13, the default strategy will be replaced by the new strategy and the 'zscore' option will be removed. Please use 'zscore_sample' instead.\n",
      "  covariances_std = [\n"
     ]
    },
    {
     "name": "stdout",
     "output_type": "stream",
     "text": [
      "Time series shape: (100, 64)\n",
      "Correlation matrix shape: (64, 64)\n",
      "Finished 4 of 72\n"
     ]
    },
    {
     "name": "stderr",
     "output_type": "stream",
     "text": [
      "C:\\Users\\MONSTER\\anaconda3\\Lib\\site-packages\\nilearn\\connectome\\connectivity_matrices.py:509: FutureWarning: The default strategy for standardize is currently 'zscore' which incorrectly uses population std to calculate sample zscores. The new strategy 'zscore_sample' corrects this behavior by using the sample std. In release 0.13, the default strategy will be replaced by the new strategy and the 'zscore' option will be removed. Please use 'zscore_sample' instead.\n",
      "  covariances_std = [\n"
     ]
    },
    {
     "name": "stdout",
     "output_type": "stream",
     "text": [
      "Time series shape: (100, 64)\n",
      "Correlation matrix shape: (64, 64)\n",
      "Finished 5 of 72\n"
     ]
    },
    {
     "name": "stderr",
     "output_type": "stream",
     "text": [
      "C:\\Users\\MONSTER\\anaconda3\\Lib\\site-packages\\nilearn\\connectome\\connectivity_matrices.py:509: FutureWarning: The default strategy for standardize is currently 'zscore' which incorrectly uses population std to calculate sample zscores. The new strategy 'zscore_sample' corrects this behavior by using the sample std. In release 0.13, the default strategy will be replaced by the new strategy and the 'zscore' option will be removed. Please use 'zscore_sample' instead.\n",
      "  covariances_std = [\n"
     ]
    },
    {
     "name": "stdout",
     "output_type": "stream",
     "text": [
      "Time series shape: (100, 64)\n",
      "Correlation matrix shape: (64, 64)\n",
      "Finished 6 of 72\n"
     ]
    },
    {
     "name": "stderr",
     "output_type": "stream",
     "text": [
      "C:\\Users\\MONSTER\\anaconda3\\Lib\\site-packages\\nilearn\\connectome\\connectivity_matrices.py:509: FutureWarning: The default strategy for standardize is currently 'zscore' which incorrectly uses population std to calculate sample zscores. The new strategy 'zscore_sample' corrects this behavior by using the sample std. In release 0.13, the default strategy will be replaced by the new strategy and the 'zscore' option will be removed. Please use 'zscore_sample' instead.\n",
      "  covariances_std = [\n"
     ]
    },
    {
     "name": "stdout",
     "output_type": "stream",
     "text": [
      "Time series shape: (100, 63)\n",
      "Correlation matrix shape: (63, 63)\n",
      "Finished 7 of 72\n"
     ]
    },
    {
     "name": "stderr",
     "output_type": "stream",
     "text": [
      "C:\\Users\\MONSTER\\anaconda3\\Lib\\site-packages\\nilearn\\connectome\\connectivity_matrices.py:509: FutureWarning: The default strategy for standardize is currently 'zscore' which incorrectly uses population std to calculate sample zscores. The new strategy 'zscore_sample' corrects this behavior by using the sample std. In release 0.13, the default strategy will be replaced by the new strategy and the 'zscore' option will be removed. Please use 'zscore_sample' instead.\n",
      "  covariances_std = [\n"
     ]
    },
    {
     "name": "stdout",
     "output_type": "stream",
     "text": [
      "Time series shape: (100, 64)\n",
      "Correlation matrix shape: (64, 64)\n",
      "Finished 8 of 72\n"
     ]
    },
    {
     "name": "stderr",
     "output_type": "stream",
     "text": [
      "C:\\Users\\MONSTER\\anaconda3\\Lib\\site-packages\\nilearn\\connectome\\connectivity_matrices.py:509: FutureWarning: The default strategy for standardize is currently 'zscore' which incorrectly uses population std to calculate sample zscores. The new strategy 'zscore_sample' corrects this behavior by using the sample std. In release 0.13, the default strategy will be replaced by the new strategy and the 'zscore' option will be removed. Please use 'zscore_sample' instead.\n",
      "  covariances_std = [\n"
     ]
    },
    {
     "name": "stdout",
     "output_type": "stream",
     "text": [
      "Time series shape: (100, 64)\n",
      "Correlation matrix shape: (64, 64)\n",
      "Finished 9 of 72\n"
     ]
    },
    {
     "name": "stderr",
     "output_type": "stream",
     "text": [
      "C:\\Users\\MONSTER\\anaconda3\\Lib\\site-packages\\nilearn\\connectome\\connectivity_matrices.py:509: FutureWarning: The default strategy for standardize is currently 'zscore' which incorrectly uses population std to calculate sample zscores. The new strategy 'zscore_sample' corrects this behavior by using the sample std. In release 0.13, the default strategy will be replaced by the new strategy and the 'zscore' option will be removed. Please use 'zscore_sample' instead.\n",
      "  covariances_std = [\n"
     ]
    },
    {
     "name": "stdout",
     "output_type": "stream",
     "text": [
      "Time series shape: (100, 64)\n",
      "Correlation matrix shape: (64, 64)\n",
      "Finished 10 of 72\n"
     ]
    },
    {
     "name": "stderr",
     "output_type": "stream",
     "text": [
      "C:\\Users\\MONSTER\\anaconda3\\Lib\\site-packages\\nilearn\\connectome\\connectivity_matrices.py:509: FutureWarning: The default strategy for standardize is currently 'zscore' which incorrectly uses population std to calculate sample zscores. The new strategy 'zscore_sample' corrects this behavior by using the sample std. In release 0.13, the default strategy will be replaced by the new strategy and the 'zscore' option will be removed. Please use 'zscore_sample' instead.\n",
      "  covariances_std = [\n"
     ]
    },
    {
     "name": "stdout",
     "output_type": "stream",
     "text": [
      "Time series shape: (100, 64)\n",
      "Correlation matrix shape: (64, 64)\n",
      "Finished 11 of 72\n"
     ]
    },
    {
     "name": "stderr",
     "output_type": "stream",
     "text": [
      "C:\\Users\\MONSTER\\anaconda3\\Lib\\site-packages\\nilearn\\connectome\\connectivity_matrices.py:509: FutureWarning: The default strategy for standardize is currently 'zscore' which incorrectly uses population std to calculate sample zscores. The new strategy 'zscore_sample' corrects this behavior by using the sample std. In release 0.13, the default strategy will be replaced by the new strategy and the 'zscore' option will be removed. Please use 'zscore_sample' instead.\n",
      "  covariances_std = [\n"
     ]
    },
    {
     "name": "stdout",
     "output_type": "stream",
     "text": [
      "Time series shape: (100, 64)\n",
      "Correlation matrix shape: (64, 64)\n",
      "Finished 12 of 72\n"
     ]
    },
    {
     "name": "stderr",
     "output_type": "stream",
     "text": [
      "C:\\Users\\MONSTER\\anaconda3\\Lib\\site-packages\\nilearn\\connectome\\connectivity_matrices.py:509: FutureWarning: The default strategy for standardize is currently 'zscore' which incorrectly uses population std to calculate sample zscores. The new strategy 'zscore_sample' corrects this behavior by using the sample std. In release 0.13, the default strategy will be replaced by the new strategy and the 'zscore' option will be removed. Please use 'zscore_sample' instead.\n",
      "  covariances_std = [\n"
     ]
    },
    {
     "name": "stdout",
     "output_type": "stream",
     "text": [
      "Time series shape: (100, 64)\n",
      "Correlation matrix shape: (64, 64)\n",
      "Finished 13 of 72\n"
     ]
    },
    {
     "name": "stderr",
     "output_type": "stream",
     "text": [
      "C:\\Users\\MONSTER\\anaconda3\\Lib\\site-packages\\nilearn\\connectome\\connectivity_matrices.py:509: FutureWarning: The default strategy for standardize is currently 'zscore' which incorrectly uses population std to calculate sample zscores. The new strategy 'zscore_sample' corrects this behavior by using the sample std. In release 0.13, the default strategy will be replaced by the new strategy and the 'zscore' option will be removed. Please use 'zscore_sample' instead.\n",
      "  covariances_std = [\n"
     ]
    },
    {
     "name": "stdout",
     "output_type": "stream",
     "text": [
      "Time series shape: (100, 64)\n",
      "Correlation matrix shape: (64, 64)\n",
      "Finished 14 of 72\n"
     ]
    },
    {
     "name": "stderr",
     "output_type": "stream",
     "text": [
      "C:\\Users\\MONSTER\\anaconda3\\Lib\\site-packages\\nilearn\\connectome\\connectivity_matrices.py:509: FutureWarning: The default strategy for standardize is currently 'zscore' which incorrectly uses population std to calculate sample zscores. The new strategy 'zscore_sample' corrects this behavior by using the sample std. In release 0.13, the default strategy will be replaced by the new strategy and the 'zscore' option will be removed. Please use 'zscore_sample' instead.\n",
      "  covariances_std = [\n"
     ]
    },
    {
     "name": "stdout",
     "output_type": "stream",
     "text": [
      "Time series shape: (100, 64)\n",
      "Correlation matrix shape: (64, 64)\n",
      "Finished 15 of 72\n"
     ]
    },
    {
     "name": "stderr",
     "output_type": "stream",
     "text": [
      "C:\\Users\\MONSTER\\anaconda3\\Lib\\site-packages\\nilearn\\connectome\\connectivity_matrices.py:509: FutureWarning: The default strategy for standardize is currently 'zscore' which incorrectly uses population std to calculate sample zscores. The new strategy 'zscore_sample' corrects this behavior by using the sample std. In release 0.13, the default strategy will be replaced by the new strategy and the 'zscore' option will be removed. Please use 'zscore_sample' instead.\n",
      "  covariances_std = [\n"
     ]
    },
    {
     "name": "stdout",
     "output_type": "stream",
     "text": [
      "Time series shape: (100, 64)\n",
      "Correlation matrix shape: (64, 64)\n",
      "Finished 16 of 72\n"
     ]
    },
    {
     "name": "stderr",
     "output_type": "stream",
     "text": [
      "C:\\Users\\MONSTER\\anaconda3\\Lib\\site-packages\\nilearn\\connectome\\connectivity_matrices.py:509: FutureWarning: The default strategy for standardize is currently 'zscore' which incorrectly uses population std to calculate sample zscores. The new strategy 'zscore_sample' corrects this behavior by using the sample std. In release 0.13, the default strategy will be replaced by the new strategy and the 'zscore' option will be removed. Please use 'zscore_sample' instead.\n",
      "  covariances_std = [\n"
     ]
    },
    {
     "name": "stdout",
     "output_type": "stream",
     "text": [
      "Time series shape: (100, 64)\n",
      "Correlation matrix shape: (64, 64)\n",
      "Finished 17 of 72\n"
     ]
    },
    {
     "name": "stderr",
     "output_type": "stream",
     "text": [
      "C:\\Users\\MONSTER\\anaconda3\\Lib\\site-packages\\nilearn\\connectome\\connectivity_matrices.py:509: FutureWarning: The default strategy for standardize is currently 'zscore' which incorrectly uses population std to calculate sample zscores. The new strategy 'zscore_sample' corrects this behavior by using the sample std. In release 0.13, the default strategy will be replaced by the new strategy and the 'zscore' option will be removed. Please use 'zscore_sample' instead.\n",
      "  covariances_std = [\n"
     ]
    },
    {
     "name": "stdout",
     "output_type": "stream",
     "text": [
      "Time series shape: (100, 64)\n",
      "Correlation matrix shape: (64, 64)\n",
      "Finished 18 of 72\n"
     ]
    },
    {
     "name": "stderr",
     "output_type": "stream",
     "text": [
      "C:\\Users\\MONSTER\\anaconda3\\Lib\\site-packages\\nilearn\\connectome\\connectivity_matrices.py:509: FutureWarning: The default strategy for standardize is currently 'zscore' which incorrectly uses population std to calculate sample zscores. The new strategy 'zscore_sample' corrects this behavior by using the sample std. In release 0.13, the default strategy will be replaced by the new strategy and the 'zscore' option will be removed. Please use 'zscore_sample' instead.\n",
      "  covariances_std = [\n"
     ]
    },
    {
     "name": "stdout",
     "output_type": "stream",
     "text": [
      "Time series shape: (100, 64)\n",
      "Correlation matrix shape: (64, 64)\n",
      "Finished 19 of 72\n"
     ]
    },
    {
     "name": "stderr",
     "output_type": "stream",
     "text": [
      "C:\\Users\\MONSTER\\anaconda3\\Lib\\site-packages\\nilearn\\connectome\\connectivity_matrices.py:509: FutureWarning: The default strategy for standardize is currently 'zscore' which incorrectly uses population std to calculate sample zscores. The new strategy 'zscore_sample' corrects this behavior by using the sample std. In release 0.13, the default strategy will be replaced by the new strategy and the 'zscore' option will be removed. Please use 'zscore_sample' instead.\n",
      "  covariances_std = [\n"
     ]
    },
    {
     "name": "stdout",
     "output_type": "stream",
     "text": [
      "Time series shape: (100, 64)\n",
      "Correlation matrix shape: (64, 64)\n",
      "Finished 20 of 72\n"
     ]
    },
    {
     "name": "stderr",
     "output_type": "stream",
     "text": [
      "C:\\Users\\MONSTER\\anaconda3\\Lib\\site-packages\\nilearn\\connectome\\connectivity_matrices.py:509: FutureWarning: The default strategy for standardize is currently 'zscore' which incorrectly uses population std to calculate sample zscores. The new strategy 'zscore_sample' corrects this behavior by using the sample std. In release 0.13, the default strategy will be replaced by the new strategy and the 'zscore' option will be removed. Please use 'zscore_sample' instead.\n",
      "  covariances_std = [\n"
     ]
    },
    {
     "name": "stdout",
     "output_type": "stream",
     "text": [
      "Time series shape: (100, 64)\n",
      "Correlation matrix shape: (64, 64)\n",
      "Finished 21 of 72\n"
     ]
    },
    {
     "name": "stderr",
     "output_type": "stream",
     "text": [
      "C:\\Users\\MONSTER\\anaconda3\\Lib\\site-packages\\nilearn\\connectome\\connectivity_matrices.py:509: FutureWarning: The default strategy for standardize is currently 'zscore' which incorrectly uses population std to calculate sample zscores. The new strategy 'zscore_sample' corrects this behavior by using the sample std. In release 0.13, the default strategy will be replaced by the new strategy and the 'zscore' option will be removed. Please use 'zscore_sample' instead.\n",
      "  covariances_std = [\n"
     ]
    },
    {
     "name": "stdout",
     "output_type": "stream",
     "text": [
      "Time series shape: (100, 64)\n",
      "Correlation matrix shape: (64, 64)\n",
      "Finished 22 of 72\n"
     ]
    },
    {
     "name": "stderr",
     "output_type": "stream",
     "text": [
      "C:\\Users\\MONSTER\\anaconda3\\Lib\\site-packages\\nilearn\\connectome\\connectivity_matrices.py:509: FutureWarning: The default strategy for standardize is currently 'zscore' which incorrectly uses population std to calculate sample zscores. The new strategy 'zscore_sample' corrects this behavior by using the sample std. In release 0.13, the default strategy will be replaced by the new strategy and the 'zscore' option will be removed. Please use 'zscore_sample' instead.\n",
      "  covariances_std = [\n"
     ]
    },
    {
     "name": "stdout",
     "output_type": "stream",
     "text": [
      "Time series shape: (100, 64)\n",
      "Correlation matrix shape: (64, 64)\n",
      "Finished 23 of 72\n"
     ]
    },
    {
     "name": "stderr",
     "output_type": "stream",
     "text": [
      "C:\\Users\\MONSTER\\anaconda3\\Lib\\site-packages\\nilearn\\connectome\\connectivity_matrices.py:509: FutureWarning: The default strategy for standardize is currently 'zscore' which incorrectly uses population std to calculate sample zscores. The new strategy 'zscore_sample' corrects this behavior by using the sample std. In release 0.13, the default strategy will be replaced by the new strategy and the 'zscore' option will be removed. Please use 'zscore_sample' instead.\n",
      "  covariances_std = [\n"
     ]
    },
    {
     "name": "stdout",
     "output_type": "stream",
     "text": [
      "Time series shape: (100, 64)\n",
      "Correlation matrix shape: (64, 64)\n",
      "Finished 24 of 72\n"
     ]
    },
    {
     "name": "stderr",
     "output_type": "stream",
     "text": [
      "C:\\Users\\MONSTER\\anaconda3\\Lib\\site-packages\\nilearn\\connectome\\connectivity_matrices.py:509: FutureWarning: The default strategy for standardize is currently 'zscore' which incorrectly uses population std to calculate sample zscores. The new strategy 'zscore_sample' corrects this behavior by using the sample std. In release 0.13, the default strategy will be replaced by the new strategy and the 'zscore' option will be removed. Please use 'zscore_sample' instead.\n",
      "  covariances_std = [\n"
     ]
    },
    {
     "name": "stdout",
     "output_type": "stream",
     "text": [
      "Time series shape: (100, 64)\n",
      "Correlation matrix shape: (64, 64)\n",
      "Finished 25 of 72\n"
     ]
    },
    {
     "name": "stderr",
     "output_type": "stream",
     "text": [
      "C:\\Users\\MONSTER\\anaconda3\\Lib\\site-packages\\nilearn\\connectome\\connectivity_matrices.py:509: FutureWarning: The default strategy for standardize is currently 'zscore' which incorrectly uses population std to calculate sample zscores. The new strategy 'zscore_sample' corrects this behavior by using the sample std. In release 0.13, the default strategy will be replaced by the new strategy and the 'zscore' option will be removed. Please use 'zscore_sample' instead.\n",
      "  covariances_std = [\n"
     ]
    },
    {
     "name": "stdout",
     "output_type": "stream",
     "text": [
      "Time series shape: (100, 64)\n",
      "Correlation matrix shape: (64, 64)\n",
      "Finished 26 of 72\n"
     ]
    },
    {
     "name": "stderr",
     "output_type": "stream",
     "text": [
      "C:\\Users\\MONSTER\\anaconda3\\Lib\\site-packages\\nilearn\\connectome\\connectivity_matrices.py:509: FutureWarning: The default strategy for standardize is currently 'zscore' which incorrectly uses population std to calculate sample zscores. The new strategy 'zscore_sample' corrects this behavior by using the sample std. In release 0.13, the default strategy will be replaced by the new strategy and the 'zscore' option will be removed. Please use 'zscore_sample' instead.\n",
      "  covariances_std = [\n"
     ]
    },
    {
     "name": "stdout",
     "output_type": "stream",
     "text": [
      "Time series shape: (100, 64)\n",
      "Correlation matrix shape: (64, 64)\n",
      "Finished 27 of 72\n"
     ]
    },
    {
     "name": "stderr",
     "output_type": "stream",
     "text": [
      "C:\\Users\\MONSTER\\anaconda3\\Lib\\site-packages\\nilearn\\connectome\\connectivity_matrices.py:509: FutureWarning: The default strategy for standardize is currently 'zscore' which incorrectly uses population std to calculate sample zscores. The new strategy 'zscore_sample' corrects this behavior by using the sample std. In release 0.13, the default strategy will be replaced by the new strategy and the 'zscore' option will be removed. Please use 'zscore_sample' instead.\n",
      "  covariances_std = [\n"
     ]
    },
    {
     "name": "stdout",
     "output_type": "stream",
     "text": [
      "Time series shape: (100, 63)\n",
      "Correlation matrix shape: (63, 63)\n",
      "Finished 28 of 72\n"
     ]
    },
    {
     "name": "stderr",
     "output_type": "stream",
     "text": [
      "C:\\Users\\MONSTER\\anaconda3\\Lib\\site-packages\\nilearn\\connectome\\connectivity_matrices.py:509: FutureWarning: The default strategy for standardize is currently 'zscore' which incorrectly uses population std to calculate sample zscores. The new strategy 'zscore_sample' corrects this behavior by using the sample std. In release 0.13, the default strategy will be replaced by the new strategy and the 'zscore' option will be removed. Please use 'zscore_sample' instead.\n",
      "  covariances_std = [\n"
     ]
    },
    {
     "name": "stdout",
     "output_type": "stream",
     "text": [
      "Time series shape: (100, 64)\n",
      "Correlation matrix shape: (64, 64)\n",
      "Finished 29 of 72\n"
     ]
    },
    {
     "name": "stderr",
     "output_type": "stream",
     "text": [
      "C:\\Users\\MONSTER\\anaconda3\\Lib\\site-packages\\nilearn\\connectome\\connectivity_matrices.py:509: FutureWarning: The default strategy for standardize is currently 'zscore' which incorrectly uses population std to calculate sample zscores. The new strategy 'zscore_sample' corrects this behavior by using the sample std. In release 0.13, the default strategy will be replaced by the new strategy and the 'zscore' option will be removed. Please use 'zscore_sample' instead.\n",
      "  covariances_std = [\n"
     ]
    },
    {
     "name": "stdout",
     "output_type": "stream",
     "text": [
      "Time series shape: (100, 64)\n",
      "Correlation matrix shape: (64, 64)\n",
      "Finished 30 of 72\n"
     ]
    },
    {
     "name": "stderr",
     "output_type": "stream",
     "text": [
      "C:\\Users\\MONSTER\\anaconda3\\Lib\\site-packages\\nilearn\\connectome\\connectivity_matrices.py:509: FutureWarning: The default strategy for standardize is currently 'zscore' which incorrectly uses population std to calculate sample zscores. The new strategy 'zscore_sample' corrects this behavior by using the sample std. In release 0.13, the default strategy will be replaced by the new strategy and the 'zscore' option will be removed. Please use 'zscore_sample' instead.\n",
      "  covariances_std = [\n"
     ]
    },
    {
     "name": "stdout",
     "output_type": "stream",
     "text": [
      "Time series shape: (100, 51)\n",
      "Correlation matrix shape: (51, 51)\n",
      "Finished 31 of 72\n"
     ]
    },
    {
     "name": "stderr",
     "output_type": "stream",
     "text": [
      "C:\\Users\\MONSTER\\anaconda3\\Lib\\site-packages\\nilearn\\connectome\\connectivity_matrices.py:509: FutureWarning: The default strategy for standardize is currently 'zscore' which incorrectly uses population std to calculate sample zscores. The new strategy 'zscore_sample' corrects this behavior by using the sample std. In release 0.13, the default strategy will be replaced by the new strategy and the 'zscore' option will be removed. Please use 'zscore_sample' instead.\n",
      "  covariances_std = [\n"
     ]
    },
    {
     "name": "stdout",
     "output_type": "stream",
     "text": [
      "Time series shape: (100, 60)\n",
      "Correlation matrix shape: (60, 60)\n",
      "Finished 32 of 72\n"
     ]
    },
    {
     "name": "stderr",
     "output_type": "stream",
     "text": [
      "C:\\Users\\MONSTER\\anaconda3\\Lib\\site-packages\\nilearn\\connectome\\connectivity_matrices.py:509: FutureWarning: The default strategy for standardize is currently 'zscore' which incorrectly uses population std to calculate sample zscores. The new strategy 'zscore_sample' corrects this behavior by using the sample std. In release 0.13, the default strategy will be replaced by the new strategy and the 'zscore' option will be removed. Please use 'zscore_sample' instead.\n",
      "  covariances_std = [\n"
     ]
    },
    {
     "name": "stdout",
     "output_type": "stream",
     "text": [
      "Time series shape: (100, 58)\n",
      "Correlation matrix shape: (58, 58)\n",
      "Finished 33 of 72\n"
     ]
    },
    {
     "name": "stderr",
     "output_type": "stream",
     "text": [
      "C:\\Users\\MONSTER\\anaconda3\\Lib\\site-packages\\nilearn\\connectome\\connectivity_matrices.py:509: FutureWarning: The default strategy for standardize is currently 'zscore' which incorrectly uses population std to calculate sample zscores. The new strategy 'zscore_sample' corrects this behavior by using the sample std. In release 0.13, the default strategy will be replaced by the new strategy and the 'zscore' option will be removed. Please use 'zscore_sample' instead.\n",
      "  covariances_std = [\n"
     ]
    },
    {
     "name": "stdout",
     "output_type": "stream",
     "text": [
      "Time series shape: (100, 41)\n",
      "Correlation matrix shape: (41, 41)\n",
      "Finished 34 of 72\n"
     ]
    },
    {
     "name": "stderr",
     "output_type": "stream",
     "text": [
      "C:\\Users\\MONSTER\\anaconda3\\Lib\\site-packages\\nilearn\\connectome\\connectivity_matrices.py:509: FutureWarning: The default strategy for standardize is currently 'zscore' which incorrectly uses population std to calculate sample zscores. The new strategy 'zscore_sample' corrects this behavior by using the sample std. In release 0.13, the default strategy will be replaced by the new strategy and the 'zscore' option will be removed. Please use 'zscore_sample' instead.\n",
      "  covariances_std = [\n"
     ]
    },
    {
     "name": "stdout",
     "output_type": "stream",
     "text": [
      "Time series shape: (100, 64)\n",
      "Correlation matrix shape: (64, 64)\n",
      "Finished 35 of 72\n"
     ]
    },
    {
     "name": "stderr",
     "output_type": "stream",
     "text": [
      "C:\\Users\\MONSTER\\anaconda3\\Lib\\site-packages\\nilearn\\connectome\\connectivity_matrices.py:509: FutureWarning: The default strategy for standardize is currently 'zscore' which incorrectly uses population std to calculate sample zscores. The new strategy 'zscore_sample' corrects this behavior by using the sample std. In release 0.13, the default strategy will be replaced by the new strategy and the 'zscore' option will be removed. Please use 'zscore_sample' instead.\n",
      "  covariances_std = [\n"
     ]
    },
    {
     "name": "stdout",
     "output_type": "stream",
     "text": [
      "Time series shape: (100, 61)\n",
      "Correlation matrix shape: (61, 61)\n",
      "Finished 36 of 72\n"
     ]
    },
    {
     "name": "stderr",
     "output_type": "stream",
     "text": [
      "C:\\Users\\MONSTER\\anaconda3\\Lib\\site-packages\\nilearn\\connectome\\connectivity_matrices.py:509: FutureWarning: The default strategy for standardize is currently 'zscore' which incorrectly uses population std to calculate sample zscores. The new strategy 'zscore_sample' corrects this behavior by using the sample std. In release 0.13, the default strategy will be replaced by the new strategy and the 'zscore' option will be removed. Please use 'zscore_sample' instead.\n",
      "  covariances_std = [\n"
     ]
    },
    {
     "name": "stdout",
     "output_type": "stream",
     "text": [
      "Time series shape: (100, 64)\n",
      "Correlation matrix shape: (64, 64)\n",
      "Finished 37 of 72\n"
     ]
    },
    {
     "name": "stderr",
     "output_type": "stream",
     "text": [
      "C:\\Users\\MONSTER\\anaconda3\\Lib\\site-packages\\nilearn\\connectome\\connectivity_matrices.py:509: FutureWarning: The default strategy for standardize is currently 'zscore' which incorrectly uses population std to calculate sample zscores. The new strategy 'zscore_sample' corrects this behavior by using the sample std. In release 0.13, the default strategy will be replaced by the new strategy and the 'zscore' option will be removed. Please use 'zscore_sample' instead.\n",
      "  covariances_std = [\n"
     ]
    },
    {
     "name": "stdout",
     "output_type": "stream",
     "text": [
      "Time series shape: (100, 64)\n",
      "Correlation matrix shape: (64, 64)\n",
      "Finished 38 of 72\n"
     ]
    },
    {
     "name": "stderr",
     "output_type": "stream",
     "text": [
      "C:\\Users\\MONSTER\\anaconda3\\Lib\\site-packages\\nilearn\\connectome\\connectivity_matrices.py:509: FutureWarning: The default strategy for standardize is currently 'zscore' which incorrectly uses population std to calculate sample zscores. The new strategy 'zscore_sample' corrects this behavior by using the sample std. In release 0.13, the default strategy will be replaced by the new strategy and the 'zscore' option will be removed. Please use 'zscore_sample' instead.\n",
      "  covariances_std = [\n"
     ]
    },
    {
     "name": "stdout",
     "output_type": "stream",
     "text": [
      "Time series shape: (100, 64)\n",
      "Correlation matrix shape: (64, 64)\n",
      "Finished 39 of 72\n"
     ]
    },
    {
     "name": "stderr",
     "output_type": "stream",
     "text": [
      "C:\\Users\\MONSTER\\anaconda3\\Lib\\site-packages\\nilearn\\connectome\\connectivity_matrices.py:509: FutureWarning: The default strategy for standardize is currently 'zscore' which incorrectly uses population std to calculate sample zscores. The new strategy 'zscore_sample' corrects this behavior by using the sample std. In release 0.13, the default strategy will be replaced by the new strategy and the 'zscore' option will be removed. Please use 'zscore_sample' instead.\n",
      "  covariances_std = [\n"
     ]
    },
    {
     "name": "stdout",
     "output_type": "stream",
     "text": [
      "Time series shape: (100, 56)\n",
      "Correlation matrix shape: (56, 56)\n",
      "Finished 40 of 72\n"
     ]
    },
    {
     "name": "stderr",
     "output_type": "stream",
     "text": [
      "C:\\Users\\MONSTER\\anaconda3\\Lib\\site-packages\\nilearn\\connectome\\connectivity_matrices.py:509: FutureWarning: The default strategy for standardize is currently 'zscore' which incorrectly uses population std to calculate sample zscores. The new strategy 'zscore_sample' corrects this behavior by using the sample std. In release 0.13, the default strategy will be replaced by the new strategy and the 'zscore' option will be removed. Please use 'zscore_sample' instead.\n",
      "  covariances_std = [\n"
     ]
    },
    {
     "name": "stdout",
     "output_type": "stream",
     "text": [
      "Time series shape: (100, 58)\n",
      "Correlation matrix shape: (58, 58)\n",
      "Finished 41 of 72\n"
     ]
    },
    {
     "name": "stderr",
     "output_type": "stream",
     "text": [
      "C:\\Users\\MONSTER\\anaconda3\\Lib\\site-packages\\nilearn\\connectome\\connectivity_matrices.py:509: FutureWarning: The default strategy for standardize is currently 'zscore' which incorrectly uses population std to calculate sample zscores. The new strategy 'zscore_sample' corrects this behavior by using the sample std. In release 0.13, the default strategy will be replaced by the new strategy and the 'zscore' option will be removed. Please use 'zscore_sample' instead.\n",
      "  covariances_std = [\n"
     ]
    },
    {
     "name": "stdout",
     "output_type": "stream",
     "text": [
      "Time series shape: (100, 64)\n",
      "Correlation matrix shape: (64, 64)\n",
      "Finished 42 of 72\n"
     ]
    },
    {
     "name": "stderr",
     "output_type": "stream",
     "text": [
      "C:\\Users\\MONSTER\\anaconda3\\Lib\\site-packages\\nilearn\\connectome\\connectivity_matrices.py:509: FutureWarning: The default strategy for standardize is currently 'zscore' which incorrectly uses population std to calculate sample zscores. The new strategy 'zscore_sample' corrects this behavior by using the sample std. In release 0.13, the default strategy will be replaced by the new strategy and the 'zscore' option will be removed. Please use 'zscore_sample' instead.\n",
      "  covariances_std = [\n"
     ]
    },
    {
     "name": "stdout",
     "output_type": "stream",
     "text": [
      "Time series shape: (100, 64)\n",
      "Correlation matrix shape: (64, 64)\n",
      "Finished 43 of 72\n"
     ]
    },
    {
     "name": "stderr",
     "output_type": "stream",
     "text": [
      "C:\\Users\\MONSTER\\anaconda3\\Lib\\site-packages\\nilearn\\connectome\\connectivity_matrices.py:509: FutureWarning: The default strategy for standardize is currently 'zscore' which incorrectly uses population std to calculate sample zscores. The new strategy 'zscore_sample' corrects this behavior by using the sample std. In release 0.13, the default strategy will be replaced by the new strategy and the 'zscore' option will be removed. Please use 'zscore_sample' instead.\n",
      "  covariances_std = [\n"
     ]
    },
    {
     "name": "stdout",
     "output_type": "stream",
     "text": [
      "Time series shape: (100, 64)\n",
      "Correlation matrix shape: (64, 64)\n",
      "Finished 44 of 72\n"
     ]
    },
    {
     "name": "stderr",
     "output_type": "stream",
     "text": [
      "C:\\Users\\MONSTER\\anaconda3\\Lib\\site-packages\\nilearn\\connectome\\connectivity_matrices.py:509: FutureWarning: The default strategy for standardize is currently 'zscore' which incorrectly uses population std to calculate sample zscores. The new strategy 'zscore_sample' corrects this behavior by using the sample std. In release 0.13, the default strategy will be replaced by the new strategy and the 'zscore' option will be removed. Please use 'zscore_sample' instead.\n",
      "  covariances_std = [\n"
     ]
    },
    {
     "name": "stdout",
     "output_type": "stream",
     "text": [
      "Time series shape: (100, 64)\n",
      "Correlation matrix shape: (64, 64)\n",
      "Finished 45 of 72\n"
     ]
    },
    {
     "name": "stderr",
     "output_type": "stream",
     "text": [
      "C:\\Users\\MONSTER\\anaconda3\\Lib\\site-packages\\nilearn\\connectome\\connectivity_matrices.py:509: FutureWarning: The default strategy for standardize is currently 'zscore' which incorrectly uses population std to calculate sample zscores. The new strategy 'zscore_sample' corrects this behavior by using the sample std. In release 0.13, the default strategy will be replaced by the new strategy and the 'zscore' option will be removed. Please use 'zscore_sample' instead.\n",
      "  covariances_std = [\n"
     ]
    },
    {
     "name": "stdout",
     "output_type": "stream",
     "text": [
      "Time series shape: (100, 64)\n",
      "Correlation matrix shape: (64, 64)\n",
      "Finished 46 of 72\n"
     ]
    },
    {
     "name": "stderr",
     "output_type": "stream",
     "text": [
      "C:\\Users\\MONSTER\\anaconda3\\Lib\\site-packages\\nilearn\\connectome\\connectivity_matrices.py:509: FutureWarning: The default strategy for standardize is currently 'zscore' which incorrectly uses population std to calculate sample zscores. The new strategy 'zscore_sample' corrects this behavior by using the sample std. In release 0.13, the default strategy will be replaced by the new strategy and the 'zscore' option will be removed. Please use 'zscore_sample' instead.\n",
      "  covariances_std = [\n"
     ]
    },
    {
     "name": "stdout",
     "output_type": "stream",
     "text": [
      "Time series shape: (100, 60)\n",
      "Correlation matrix shape: (60, 60)\n",
      "Finished 47 of 72\n"
     ]
    },
    {
     "name": "stderr",
     "output_type": "stream",
     "text": [
      "C:\\Users\\MONSTER\\anaconda3\\Lib\\site-packages\\nilearn\\connectome\\connectivity_matrices.py:509: FutureWarning: The default strategy for standardize is currently 'zscore' which incorrectly uses population std to calculate sample zscores. The new strategy 'zscore_sample' corrects this behavior by using the sample std. In release 0.13, the default strategy will be replaced by the new strategy and the 'zscore' option will be removed. Please use 'zscore_sample' instead.\n",
      "  covariances_std = [\n"
     ]
    },
    {
     "name": "stdout",
     "output_type": "stream",
     "text": [
      "Time series shape: (100, 49)\n",
      "Correlation matrix shape: (49, 49)\n",
      "Finished 48 of 72\n"
     ]
    },
    {
     "name": "stderr",
     "output_type": "stream",
     "text": [
      "C:\\Users\\MONSTER\\anaconda3\\Lib\\site-packages\\nilearn\\connectome\\connectivity_matrices.py:509: FutureWarning: The default strategy for standardize is currently 'zscore' which incorrectly uses population std to calculate sample zscores. The new strategy 'zscore_sample' corrects this behavior by using the sample std. In release 0.13, the default strategy will be replaced by the new strategy and the 'zscore' option will be removed. Please use 'zscore_sample' instead.\n",
      "  covariances_std = [\n"
     ]
    },
    {
     "name": "stdout",
     "output_type": "stream",
     "text": [
      "Time series shape: (100, 63)\n",
      "Correlation matrix shape: (63, 63)\n",
      "Finished 49 of 72\n"
     ]
    },
    {
     "name": "stderr",
     "output_type": "stream",
     "text": [
      "C:\\Users\\MONSTER\\anaconda3\\Lib\\site-packages\\nilearn\\connectome\\connectivity_matrices.py:509: FutureWarning: The default strategy for standardize is currently 'zscore' which incorrectly uses population std to calculate sample zscores. The new strategy 'zscore_sample' corrects this behavior by using the sample std. In release 0.13, the default strategy will be replaced by the new strategy and the 'zscore' option will be removed. Please use 'zscore_sample' instead.\n",
      "  covariances_std = [\n"
     ]
    },
    {
     "name": "stdout",
     "output_type": "stream",
     "text": [
      "Time series shape: (100, 55)\n",
      "Correlation matrix shape: (55, 55)\n",
      "Finished 50 of 72\n"
     ]
    },
    {
     "name": "stderr",
     "output_type": "stream",
     "text": [
      "C:\\Users\\MONSTER\\anaconda3\\Lib\\site-packages\\nilearn\\connectome\\connectivity_matrices.py:509: FutureWarning: The default strategy for standardize is currently 'zscore' which incorrectly uses population std to calculate sample zscores. The new strategy 'zscore_sample' corrects this behavior by using the sample std. In release 0.13, the default strategy will be replaced by the new strategy and the 'zscore' option will be removed. Please use 'zscore_sample' instead.\n",
      "  covariances_std = [\n"
     ]
    },
    {
     "name": "stdout",
     "output_type": "stream",
     "text": [
      "Time series shape: (100, 64)\n",
      "Correlation matrix shape: (64, 64)\n",
      "Finished 51 of 72\n"
     ]
    },
    {
     "name": "stderr",
     "output_type": "stream",
     "text": [
      "C:\\Users\\MONSTER\\anaconda3\\Lib\\site-packages\\nilearn\\connectome\\connectivity_matrices.py:509: FutureWarning: The default strategy for standardize is currently 'zscore' which incorrectly uses population std to calculate sample zscores. The new strategy 'zscore_sample' corrects this behavior by using the sample std. In release 0.13, the default strategy will be replaced by the new strategy and the 'zscore' option will be removed. Please use 'zscore_sample' instead.\n",
      "  covariances_std = [\n"
     ]
    },
    {
     "name": "stdout",
     "output_type": "stream",
     "text": [
      "Time series shape: (100, 64)\n",
      "Correlation matrix shape: (64, 64)\n",
      "Finished 52 of 72\n"
     ]
    },
    {
     "name": "stderr",
     "output_type": "stream",
     "text": [
      "C:\\Users\\MONSTER\\anaconda3\\Lib\\site-packages\\nilearn\\connectome\\connectivity_matrices.py:509: FutureWarning: The default strategy for standardize is currently 'zscore' which incorrectly uses population std to calculate sample zscores. The new strategy 'zscore_sample' corrects this behavior by using the sample std. In release 0.13, the default strategy will be replaced by the new strategy and the 'zscore' option will be removed. Please use 'zscore_sample' instead.\n",
      "  covariances_std = [\n"
     ]
    },
    {
     "name": "stdout",
     "output_type": "stream",
     "text": [
      "Time series shape: (100, 64)\n",
      "Correlation matrix shape: (64, 64)\n",
      "Finished 53 of 72\n"
     ]
    },
    {
     "name": "stderr",
     "output_type": "stream",
     "text": [
      "C:\\Users\\MONSTER\\anaconda3\\Lib\\site-packages\\nilearn\\connectome\\connectivity_matrices.py:509: FutureWarning: The default strategy for standardize is currently 'zscore' which incorrectly uses population std to calculate sample zscores. The new strategy 'zscore_sample' corrects this behavior by using the sample std. In release 0.13, the default strategy will be replaced by the new strategy and the 'zscore' option will be removed. Please use 'zscore_sample' instead.\n",
      "  covariances_std = [\n"
     ]
    },
    {
     "name": "stdout",
     "output_type": "stream",
     "text": [
      "Time series shape: (100, 64)\n",
      "Correlation matrix shape: (64, 64)\n",
      "Finished 54 of 72\n"
     ]
    },
    {
     "name": "stderr",
     "output_type": "stream",
     "text": [
      "C:\\Users\\MONSTER\\anaconda3\\Lib\\site-packages\\nilearn\\connectome\\connectivity_matrices.py:509: FutureWarning: The default strategy for standardize is currently 'zscore' which incorrectly uses population std to calculate sample zscores. The new strategy 'zscore_sample' corrects this behavior by using the sample std. In release 0.13, the default strategy will be replaced by the new strategy and the 'zscore' option will be removed. Please use 'zscore_sample' instead.\n",
      "  covariances_std = [\n"
     ]
    },
    {
     "name": "stdout",
     "output_type": "stream",
     "text": [
      "Time series shape: (100, 64)\n",
      "Correlation matrix shape: (64, 64)\n",
      "Finished 55 of 72\n"
     ]
    },
    {
     "name": "stderr",
     "output_type": "stream",
     "text": [
      "C:\\Users\\MONSTER\\anaconda3\\Lib\\site-packages\\nilearn\\connectome\\connectivity_matrices.py:509: FutureWarning: The default strategy for standardize is currently 'zscore' which incorrectly uses population std to calculate sample zscores. The new strategy 'zscore_sample' corrects this behavior by using the sample std. In release 0.13, the default strategy will be replaced by the new strategy and the 'zscore' option will be removed. Please use 'zscore_sample' instead.\n",
      "  covariances_std = [\n"
     ]
    },
    {
     "name": "stdout",
     "output_type": "stream",
     "text": [
      "Time series shape: (100, 64)\n",
      "Correlation matrix shape: (64, 64)\n",
      "Finished 56 of 72\n"
     ]
    },
    {
     "name": "stderr",
     "output_type": "stream",
     "text": [
      "C:\\Users\\MONSTER\\anaconda3\\Lib\\site-packages\\nilearn\\connectome\\connectivity_matrices.py:509: FutureWarning: The default strategy for standardize is currently 'zscore' which incorrectly uses population std to calculate sample zscores. The new strategy 'zscore_sample' corrects this behavior by using the sample std. In release 0.13, the default strategy will be replaced by the new strategy and the 'zscore' option will be removed. Please use 'zscore_sample' instead.\n",
      "  covariances_std = [\n"
     ]
    },
    {
     "name": "stdout",
     "output_type": "stream",
     "text": [
      "Time series shape: (100, 63)\n",
      "Correlation matrix shape: (63, 63)\n",
      "Finished 57 of 72\n"
     ]
    },
    {
     "name": "stderr",
     "output_type": "stream",
     "text": [
      "C:\\Users\\MONSTER\\anaconda3\\Lib\\site-packages\\nilearn\\connectome\\connectivity_matrices.py:509: FutureWarning: The default strategy for standardize is currently 'zscore' which incorrectly uses population std to calculate sample zscores. The new strategy 'zscore_sample' corrects this behavior by using the sample std. In release 0.13, the default strategy will be replaced by the new strategy and the 'zscore' option will be removed. Please use 'zscore_sample' instead.\n",
      "  covariances_std = [\n"
     ]
    },
    {
     "name": "stdout",
     "output_type": "stream",
     "text": [
      "Time series shape: (100, 64)\n",
      "Correlation matrix shape: (64, 64)\n",
      "Finished 58 of 72\n"
     ]
    },
    {
     "name": "stderr",
     "output_type": "stream",
     "text": [
      "C:\\Users\\MONSTER\\anaconda3\\Lib\\site-packages\\nilearn\\connectome\\connectivity_matrices.py:509: FutureWarning: The default strategy for standardize is currently 'zscore' which incorrectly uses population std to calculate sample zscores. The new strategy 'zscore_sample' corrects this behavior by using the sample std. In release 0.13, the default strategy will be replaced by the new strategy and the 'zscore' option will be removed. Please use 'zscore_sample' instead.\n",
      "  covariances_std = [\n"
     ]
    },
    {
     "name": "stdout",
     "output_type": "stream",
     "text": [
      "Time series shape: (100, 64)\n",
      "Correlation matrix shape: (64, 64)\n",
      "Finished 59 of 72\n"
     ]
    },
    {
     "name": "stderr",
     "output_type": "stream",
     "text": [
      "C:\\Users\\MONSTER\\anaconda3\\Lib\\site-packages\\nilearn\\connectome\\connectivity_matrices.py:509: FutureWarning: The default strategy for standardize is currently 'zscore' which incorrectly uses population std to calculate sample zscores. The new strategy 'zscore_sample' corrects this behavior by using the sample std. In release 0.13, the default strategy will be replaced by the new strategy and the 'zscore' option will be removed. Please use 'zscore_sample' instead.\n",
      "  covariances_std = [\n"
     ]
    },
    {
     "name": "stdout",
     "output_type": "stream",
     "text": [
      "Time series shape: (100, 64)\n",
      "Correlation matrix shape: (64, 64)\n",
      "Finished 60 of 72\n"
     ]
    },
    {
     "name": "stderr",
     "output_type": "stream",
     "text": [
      "C:\\Users\\MONSTER\\anaconda3\\Lib\\site-packages\\nilearn\\connectome\\connectivity_matrices.py:509: FutureWarning: The default strategy for standardize is currently 'zscore' which incorrectly uses population std to calculate sample zscores. The new strategy 'zscore_sample' corrects this behavior by using the sample std. In release 0.13, the default strategy will be replaced by the new strategy and the 'zscore' option will be removed. Please use 'zscore_sample' instead.\n",
      "  covariances_std = [\n"
     ]
    },
    {
     "name": "stdout",
     "output_type": "stream",
     "text": [
      "Time series shape: (100, 62)\n",
      "Correlation matrix shape: (62, 62)\n",
      "Finished 61 of 72\n"
     ]
    },
    {
     "name": "stderr",
     "output_type": "stream",
     "text": [
      "C:\\Users\\MONSTER\\anaconda3\\Lib\\site-packages\\nilearn\\connectome\\connectivity_matrices.py:509: FutureWarning: The default strategy for standardize is currently 'zscore' which incorrectly uses population std to calculate sample zscores. The new strategy 'zscore_sample' corrects this behavior by using the sample std. In release 0.13, the default strategy will be replaced by the new strategy and the 'zscore' option will be removed. Please use 'zscore_sample' instead.\n",
      "  covariances_std = [\n"
     ]
    },
    {
     "name": "stdout",
     "output_type": "stream",
     "text": [
      "Time series shape: (100, 64)\n",
      "Correlation matrix shape: (64, 64)\n",
      "Finished 62 of 72\n"
     ]
    },
    {
     "name": "stderr",
     "output_type": "stream",
     "text": [
      "C:\\Users\\MONSTER\\anaconda3\\Lib\\site-packages\\nilearn\\connectome\\connectivity_matrices.py:509: FutureWarning: The default strategy for standardize is currently 'zscore' which incorrectly uses population std to calculate sample zscores. The new strategy 'zscore_sample' corrects this behavior by using the sample std. In release 0.13, the default strategy will be replaced by the new strategy and the 'zscore' option will be removed. Please use 'zscore_sample' instead.\n",
      "  covariances_std = [\n"
     ]
    },
    {
     "name": "stdout",
     "output_type": "stream",
     "text": [
      "Time series shape: (100, 64)\n",
      "Correlation matrix shape: (64, 64)\n",
      "Finished 63 of 72\n"
     ]
    },
    {
     "name": "stderr",
     "output_type": "stream",
     "text": [
      "C:\\Users\\MONSTER\\anaconda3\\Lib\\site-packages\\nilearn\\connectome\\connectivity_matrices.py:509: FutureWarning: The default strategy for standardize is currently 'zscore' which incorrectly uses population std to calculate sample zscores. The new strategy 'zscore_sample' corrects this behavior by using the sample std. In release 0.13, the default strategy will be replaced by the new strategy and the 'zscore' option will be removed. Please use 'zscore_sample' instead.\n",
      "  covariances_std = [\n"
     ]
    },
    {
     "name": "stdout",
     "output_type": "stream",
     "text": [
      "Time series shape: (100, 63)\n",
      "Correlation matrix shape: (63, 63)\n",
      "Finished 64 of 72\n"
     ]
    },
    {
     "name": "stderr",
     "output_type": "stream",
     "text": [
      "C:\\Users\\MONSTER\\anaconda3\\Lib\\site-packages\\nilearn\\connectome\\connectivity_matrices.py:509: FutureWarning: The default strategy for standardize is currently 'zscore' which incorrectly uses population std to calculate sample zscores. The new strategy 'zscore_sample' corrects this behavior by using the sample std. In release 0.13, the default strategy will be replaced by the new strategy and the 'zscore' option will be removed. Please use 'zscore_sample' instead.\n",
      "  covariances_std = [\n"
     ]
    },
    {
     "name": "stdout",
     "output_type": "stream",
     "text": [
      "Time series shape: (100, 64)\n",
      "Correlation matrix shape: (64, 64)\n",
      "Finished 65 of 72\n"
     ]
    },
    {
     "name": "stderr",
     "output_type": "stream",
     "text": [
      "C:\\Users\\MONSTER\\anaconda3\\Lib\\site-packages\\nilearn\\connectome\\connectivity_matrices.py:509: FutureWarning: The default strategy for standardize is currently 'zscore' which incorrectly uses population std to calculate sample zscores. The new strategy 'zscore_sample' corrects this behavior by using the sample std. In release 0.13, the default strategy will be replaced by the new strategy and the 'zscore' option will be removed. Please use 'zscore_sample' instead.\n",
      "  covariances_std = [\n"
     ]
    },
    {
     "name": "stdout",
     "output_type": "stream",
     "text": [
      "Time series shape: (100, 64)\n",
      "Correlation matrix shape: (64, 64)\n",
      "Finished 66 of 72\n"
     ]
    },
    {
     "name": "stderr",
     "output_type": "stream",
     "text": [
      "C:\\Users\\MONSTER\\anaconda3\\Lib\\site-packages\\nilearn\\connectome\\connectivity_matrices.py:509: FutureWarning: The default strategy for standardize is currently 'zscore' which incorrectly uses population std to calculate sample zscores. The new strategy 'zscore_sample' corrects this behavior by using the sample std. In release 0.13, the default strategy will be replaced by the new strategy and the 'zscore' option will be removed. Please use 'zscore_sample' instead.\n",
      "  covariances_std = [\n"
     ]
    },
    {
     "name": "stdout",
     "output_type": "stream",
     "text": [
      "Time series shape: (100, 64)\n",
      "Correlation matrix shape: (64, 64)\n",
      "Finished 67 of 72\n"
     ]
    },
    {
     "name": "stderr",
     "output_type": "stream",
     "text": [
      "C:\\Users\\MONSTER\\anaconda3\\Lib\\site-packages\\nilearn\\connectome\\connectivity_matrices.py:509: FutureWarning: The default strategy for standardize is currently 'zscore' which incorrectly uses population std to calculate sample zscores. The new strategy 'zscore_sample' corrects this behavior by using the sample std. In release 0.13, the default strategy will be replaced by the new strategy and the 'zscore' option will be removed. Please use 'zscore_sample' instead.\n",
      "  covariances_std = [\n"
     ]
    },
    {
     "name": "stdout",
     "output_type": "stream",
     "text": [
      "Time series shape: (100, 61)\n",
      "Correlation matrix shape: (61, 61)\n",
      "Finished 68 of 72\n"
     ]
    },
    {
     "name": "stderr",
     "output_type": "stream",
     "text": [
      "C:\\Users\\MONSTER\\anaconda3\\Lib\\site-packages\\nilearn\\connectome\\connectivity_matrices.py:509: FutureWarning: The default strategy for standardize is currently 'zscore' which incorrectly uses population std to calculate sample zscores. The new strategy 'zscore_sample' corrects this behavior by using the sample std. In release 0.13, the default strategy will be replaced by the new strategy and the 'zscore' option will be removed. Please use 'zscore_sample' instead.\n",
      "  covariances_std = [\n"
     ]
    },
    {
     "name": "stdout",
     "output_type": "stream",
     "text": [
      "Time series shape: (100, 55)\n",
      "Correlation matrix shape: (55, 55)\n",
      "Finished 69 of 72\n"
     ]
    },
    {
     "name": "stderr",
     "output_type": "stream",
     "text": [
      "C:\\Users\\MONSTER\\anaconda3\\Lib\\site-packages\\nilearn\\connectome\\connectivity_matrices.py:509: FutureWarning: The default strategy for standardize is currently 'zscore' which incorrectly uses population std to calculate sample zscores. The new strategy 'zscore_sample' corrects this behavior by using the sample std. In release 0.13, the default strategy will be replaced by the new strategy and the 'zscore' option will be removed. Please use 'zscore_sample' instead.\n",
      "  covariances_std = [\n"
     ]
    },
    {
     "name": "stdout",
     "output_type": "stream",
     "text": [
      "Time series shape: (100, 62)\n",
      "Correlation matrix shape: (62, 62)\n",
      "Finished 70 of 72\n"
     ]
    },
    {
     "name": "stderr",
     "output_type": "stream",
     "text": [
      "C:\\Users\\MONSTER\\anaconda3\\Lib\\site-packages\\nilearn\\connectome\\connectivity_matrices.py:509: FutureWarning: The default strategy for standardize is currently 'zscore' which incorrectly uses population std to calculate sample zscores. The new strategy 'zscore_sample' corrects this behavior by using the sample std. In release 0.13, the default strategy will be replaced by the new strategy and the 'zscore' option will be removed. Please use 'zscore_sample' instead.\n",
      "  covariances_std = [\n"
     ]
    },
    {
     "name": "stdout",
     "output_type": "stream",
     "text": [
      "Time series shape: (100, 64)\n",
      "Correlation matrix shape: (64, 64)\n",
      "Finished 71 of 72\n"
     ]
    },
    {
     "name": "stderr",
     "output_type": "stream",
     "text": [
      "C:\\Users\\MONSTER\\anaconda3\\Lib\\site-packages\\nilearn\\connectome\\connectivity_matrices.py:509: FutureWarning: The default strategy for standardize is currently 'zscore' which incorrectly uses population std to calculate sample zscores. The new strategy 'zscore_sample' corrects this behavior by using the sample std. In release 0.13, the default strategy will be replaced by the new strategy and the 'zscore' option will be removed. Please use 'zscore_sample' instead.\n",
      "  covariances_std = [\n"
     ]
    },
    {
     "name": "stdout",
     "output_type": "stream",
     "text": [
      "Time series shape: (100, 64)\n",
      "Correlation matrix shape: (64, 64)\n",
      "Finished 72 of 72\n"
     ]
    },
    {
     "name": "stderr",
     "output_type": "stream",
     "text": [
      "C:\\Users\\MONSTER\\anaconda3\\Lib\\site-packages\\nilearn\\connectome\\connectivity_matrices.py:509: FutureWarning: The default strategy for standardize is currently 'zscore' which incorrectly uses population std to calculate sample zscores. The new strategy 'zscore_sample' corrects this behavior by using the sample std. In release 0.13, the default strategy will be replaced by the new strategy and the 'zscore' option will be removed. Please use 'zscore_sample' instead.\n",
      "  covariances_std = [\n"
     ]
    }
   ],
   "source": [
    "from nilearn.connectome import ConnectivityMeasure\n",
    "from nilearn.input_data import NiftiLabelsMasker\n",
    "import numpy as np\n",
    "from nilearn.image import resample_to_img\n",
    "\n",
    "# Initialize ConnectivityMeasure object\n",
    "correlation_measure = ConnectivityMeasure(kind='correlation')\n",
    "\n",
    "all_features = []  # Initialize the container for data\n",
    "\n",
    "for i, sub in enumerate(bold_files):\n",
    "    try:\n",
    "        # Load data image\n",
    "        data_img = sub\n",
    "\n",
    "        # Resample label image to match data image\n",
    "        resampled_label_img = resample_to_img(atlas_filename, data_img, interpolation='nearest')\n",
    "\n",
    "        # Create NiftiLabelsMasker with resampled label image\n",
    "        masker = NiftiLabelsMasker(labels_img=resampled_label_img)\n",
    "\n",
    "        # Extract time series from data image\n",
    "        time_series = masker.fit_transform(data_img)\n",
    "        print(\"Time series shape:\", time_series.shape)  # Debugging line\n",
    "\n",
    "        # Compute correlation matrices\n",
    "        correlation_matrices = correlation_measure.fit_transform([time_series])\n",
    "\n",
    "        # Ensure correlation_matrices is a list of correlation matrices\n",
    "        correlation_matrix = correlation_matrices[0]\n",
    "        print(\"Correlation matrix shape:\", correlation_matrix.shape)  # Debugging line\n",
    "\n",
    "        all_features.append(correlation_matrix)\n",
    "        print('Finished %s of %s' % (i + 1, len(bold_files)))\n",
    "    except EOFError as e:\n",
    "        print(f\"Skipping file due to EOFError: {sub}\")\n"
   ]
  },
  {
   "cell_type": "code",
   "execution_count": 10,
   "metadata": {
    "id": "bmZC7XzVI40B",
    "tags": []
   },
   "outputs": [],
   "source": [
    "from nilearn import plotting\n",
    "%matplotlib inline\n",
    "import numpy as np\n",
    "import nibabel as nb\n",
    "import matplotlib.pyplot as plt\n",
    "import seaborn as sns\n",
    "sns.set(style=\"darkgrid\")"
   ]
  },
  {
   "cell_type": "code",
   "execution_count": 11,
   "metadata": {
    "id": "PZjrLxHxGRxX",
    "tags": []
   },
   "outputs": [],
   "source": [
    "from numpy.random import seed\n",
    "seed(0)"
   ]
  },
  {
   "cell_type": "code",
   "execution_count": 12,
   "metadata": {
    "id": "RXYyISUzXi-0",
    "tags": []
   },
   "outputs": [],
   "source": [
    "file_path = r\"C:\\Users\\MONSTER\\Desktop\\Samsung Inv. Campus\\participants.tsv\"\n",
    "\n",
    "# Read the TSV file\n",
    "participants_csv = pd.read_csv(file_path, sep=\"\\t\")\n",
    "labels = participants_csv[\"group\"][:72]"
   ]
  },
  {
   "cell_type": "code",
   "execution_count": 13,
   "metadata": {
    "colab": {
     "base_uri": "https://localhost:8080/"
    },
    "id": "BoLrsXw_XmED",
    "outputId": "c08c3130-97d3-47e6-ce6e-807c852de6dd",
    "tags": []
   },
   "outputs": [
    {
     "name": "stdout",
     "output_type": "stream",
     "text": [
      "0        depr\n",
      "1        depr\n",
      "2        depr\n",
      "3        depr\n",
      "4        depr\n",
      "       ...   \n",
      "67    control\n",
      "68    control\n",
      "69    control\n",
      "70    control\n",
      "71    control\n",
      "Name: group, Length: 72, dtype: object\n"
     ]
    }
   ],
   "source": [
    "print(labels)"
   ]
  },
  {
   "cell_type": "code",
   "execution_count": 14,
   "metadata": {
    "colab": {
     "base_uri": "https://localhost:8080/"
    },
    "id": "CO4Pch9CYykM",
    "outputId": "7cfc5378-c34d-41e6-f984-f0660f18d3f1",
    "tags": []
   },
   "outputs": [
    {
     "name": "stdout",
     "output_type": "stream",
     "text": [
      "Number of time points: 100\n",
      "Dimensions (x, y, z): 112 112 25\n",
      "Voxel size (mm): (1.9642857, 1.9642857, 5.0, 2.5)\n"
     ]
    }
   ],
   "source": [
    "import nibabel as nib\n",
    "\n",
    "# Örnek bir fMRI dosyasının yolunu tanımlayın\n",
    "fMRI_file_path =bold_files[0]\n",
    "\n",
    "# fMRI dosyasını yükle\n",
    "fMRI_img = nib.load(fMRI_file_path)\n",
    "\n",
    "# fMRI görüntüsünün veri matrisini alın\n",
    "fMRI_data = fMRI_img.get_fdata()\n",
    "\n",
    "# fMRI veri matrisinin şeklini kontrol edin (zaman noktalarını içerir)\n",
    "num_time_points = fMRI_data.shape[-1]\n",
    "print(\"Number of time points:\", num_time_points)\n",
    "\n",
    "# fMRI veri matrisinin diğer boyutlarını kontrol edin\n",
    "x_dimension = fMRI_data.shape[0]\n",
    "y_dimension = fMRI_data.shape[1]\n",
    "z_dimension = fMRI_data.shape[2]\n",
    "print(\"Dimensions (x, y, z):\", x_dimension, y_dimension, z_dimension)\n",
    "\n",
    "# fMRI veri matrisinin voxel boyutlarını kontrol edin\n",
    "voxel_size = fMRI_img.header.get_zooms()\n",
    "print(\"Voxel size (mm):\", voxel_size)\n"
   ]
  },
  {
   "cell_type": "code",
   "execution_count": 16,
   "metadata": {
    "tags": []
   },
   "outputs": [
    {
     "data": {
      "text/plain": [
       "(4608, 64)"
      ]
     },
     "execution_count": 16,
     "metadata": {},
     "output_type": "execute_result"
    }
   ],
   "source": [
    "X_train=all_features\n",
    "# En büyük boyuta sahip olan diziyi bul\n",
    "max_shape = max([array.shape for array in X_train])\n",
    "\n",
    "# Dizileri aynı boyuta getir\n",
    "X_train_resized = [np.pad(array, ((0, max_shape[0]-array.shape[0]), (0, max_shape[1]-array.shape[1])), mode='constant') for array in X_train]\n",
    "\n",
    "# Şimdi farklı boyutlara sahip dizileri birleştirebilirsiniz\n",
    "combined_data = np.concatenate(X_train_resized)\n",
    "combined_data.shape"
   ]
  },
  {
   "cell_type": "code",
   "execution_count": 17,
   "metadata": {
    "tags": []
   },
   "outputs": [],
   "source": [
    "labels_repeated = np.repeat(labels, 64)"
   ]
  },
  {
   "cell_type": "code",
   "execution_count": 18,
   "metadata": {
    "tags": []
   },
   "outputs": [
    {
     "name": "stdout",
     "output_type": "stream",
     "text": [
      "0        depr\n",
      "0        depr\n",
      "0        depr\n",
      "0        depr\n",
      "0        depr\n",
      "       ...   \n",
      "71    control\n",
      "71    control\n",
      "71    control\n",
      "71    control\n",
      "71    control\n",
      "Name: group, Length: 4608, dtype: object\n"
     ]
    }
   ],
   "source": [
    "print(labels_repeated)"
   ]
  },
  {
   "cell_type": "code",
   "execution_count": 19,
   "metadata": {
    "tags": []
   },
   "outputs": [],
   "source": [
    "X=combined_data\n",
    "y=np.array(labels_repeated)"
   ]
  },
  {
   "cell_type": "code",
   "execution_count": 20,
   "metadata": {
    "tags": []
   },
   "outputs": [
    {
     "name": "stdout",
     "output_type": "stream",
     "text": [
      "Accuracy: 0.9436008676789588\n"
     ]
    }
   ],
   "source": [
    "from sklearn.svm import SVC\n",
    "from sklearn.metrics import accuracy_score\n",
    "from sklearn.model_selection import train_test_split\n",
    "\n",
    "X_train, X_test, y_train, y_test = train_test_split(X,y, test_size=0.2, random_state=42)\n",
    "\n",
    "\n",
    "# Initialize a Support Vector Classifier\n",
    "clf = SVC()\n",
    "\n",
    "# Train the classifier\n",
    "clf.fit(X_train, y_train)\n",
    "\n",
    "# Predict labels for the test set\n",
    "y_pred = clf.predict(X_test)\n",
    "\n",
    "# Calculate accuracy\n",
    "accuracy = accuracy_score(y_test, y_pred)\n",
    "print(\"Accuracy:\", accuracy)"
   ]
  },
  {
   "cell_type": "code",
   "execution_count": 21,
   "metadata": {
    "tags": []
   },
   "outputs": [
    {
     "name": "stdout",
     "output_type": "stream",
     "text": [
      "Cross Validation Accuracy: 0.68 (+/- 0.11)\n"
     ]
    }
   ],
   "source": [
    "from sklearn.model_selection import cross_val_score\n",
    "\n",
    "# SVC modeli için\n",
    "clf = SVC()\n",
    "\n",
    "# k-Kat Çapraz Doğrulama ile modelin doğruluğunu hesaplama\n",
    "scores = cross_val_score(clf, X, y, cv=5)  # 'cv' parametresi k'nin değerini belirtir.\n",
    "\n",
    "print(\"Cross Validation Accuracy: %0.2f (+/- %0.2f)\" % (scores.mean(), scores.std() * 2))"
   ]
  },
  {
   "cell_type": "code",
   "execution_count": 22,
   "metadata": {
    "tags": []
   },
   "outputs": [
    {
     "name": "stdout",
     "output_type": "stream",
     "text": [
      "En İyi Parametreler: {'C': 10.0, 'gamma': 1.0, 'kernel': 'rbf'}\n",
      "En İyi Skor: 0.7393632781495167\n"
     ]
    }
   ],
   "source": [
    "from sklearn.model_selection import GridSearchCV\n",
    "from sklearn.svm import SVC\n",
    "import numpy as np\n",
    "\n",
    "# SVC modeli için parametre ızgarasını tanımlama\n",
    "param_grid = {\n",
    "    'C': np.logspace(-3, 2, 6),\n",
    "    'gamma': np.logspace(-3, 2, 6),\n",
    "    'kernel': ['rbf', 'linear']\n",
    "}\n",
    "\n",
    "# GridSearchCV nesnesi oluşturma\n",
    "svc = SVC()\n",
    "grid_search = GridSearchCV(svc, param_grid, cv=5, scoring='accuracy')\n",
    "\n",
    "# Grid aramasını çalıştırma\n",
    "grid_search.fit(X, y)\n",
    "\n",
    "# En iyi parametreleri ve skoru yazdırma\n",
    "print(\"En İyi Parametreler:\", grid_search.best_params_)\n",
    "print(\"En İyi Skor:\", grid_search.best_score_)"
   ]
  },
  {
   "cell_type": "code",
   "execution_count": 23,
   "metadata": {
    "tags": []
   },
   "outputs": [
    {
     "name": "stdout",
     "output_type": "stream",
     "text": [
      "Optimize Edilmiş SVC Modelinin Doğruluk Skoru: 0.96\n"
     ]
    }
   ],
   "source": [
    "from sklearn.svm import SVC\n",
    "from sklearn.metrics import accuracy_score\n",
    "from sklearn.model_selection import train_test_split\n",
    "\n",
    "# Veri setini eğitim ve test setlerine ayırma\n",
    "X_train, X_test, y_train, y_test = train_test_split(X, y, test_size=0.2, random_state=42)\n",
    "\n",
    "# En iyi parametrelerle SVC modelini oluşturma ve eğitme\n",
    "svc_optimized = SVC(C=10.0, gamma=1.0, kernel='rbf')\n",
    "svc_optimized.fit(X_train, y_train)\n",
    "\n",
    "# Test seti üzerinde tahmin yapma ve doğruluk hesaplama\n",
    "y_pred = svc_optimized.predict(X_test)\n",
    "accuracy = accuracy_score(y_test, y_pred)\n",
    "print(f\"Optimize Edilmiş SVC Modelinin Doğruluk Skoru: {accuracy:.2f}\")"
   ]
  },
  {
   "cell_type": "code",
   "execution_count": 24,
   "metadata": {
    "tags": []
   },
   "outputs": [
    {
     "name": "stdout",
     "output_type": "stream",
     "text": [
      "Optimize Edilmiş SVC Modelinin Çapraz Doğrulama Doğruluk Skoru: 0.74 (+/- 0.04)\n"
     ]
    }
   ],
   "source": [
    "from sklearn.model_selection import cross_val_score\n",
    "\n",
    "# En iyi parametrelerle SVC modeli için k-kat çapraz doğrulama\n",
    "cv_scores = cross_val_score(svc_optimized, X, y, cv=5)\n",
    "print(f\"Optimize Edilmiş SVC Modelinin Çapraz Doğrulama Doğruluk Skoru: {np.mean(cv_scores):.2f} (+/- {np.std(cv_scores) * 2:.2f})\")"
   ]
  },
  {
   "cell_type": "code",
   "execution_count": 25,
   "metadata": {
    "tags": []
   },
   "outputs": [
    {
     "data": {
      "image/png": "[encoded data removed]",
      "text/plain": [
       "<Figure size 1000x700 with 2 Axes>"
      ]
     },
     "metadata": {},
     "output_type": "display_data"
    }
   ],
   "source": [
    "from sklearn.metrics import confusion_matrix\n",
    "import seaborn as sns\n",
    "import matplotlib.pyplot as plt\n",
    "\n",
    "# Optimize edilmiş SVC modelinizle test seti üzerinde tahmin yapma\n",
    "y_pred_svc = svc_optimized.predict(X_test)  # svc_optimized, optimize edilmiş SVC modelinizi temsil ediyor\n",
    "\n",
    "# Karışıklık matrisini hesaplama\n",
    "cm_svc = confusion_matrix(y_test, y_pred_svc)\n",
    "\n",
    "# Karışıklık matrisini görselleştirme\n",
    "plt.figure(figsize=(10,7))\n",
    "sns.heatmap(cm_svc, annot=True, fmt=\"d\", cmap=\"Blues\")\n",
    "plt.title('SVC Karışıklık Matrisi')\n",
    "plt.xlabel('Tahmin Edilen Etiket')\n",
    "plt.ylabel('Gerçek Etiket')\n",
    "plt.show()"
   ]
  },
  {
   "cell_type": "code",
   "execution_count": 27,
   "metadata": {
    "tags": []
   },
   "outputs": [
    {
     "name": "stdout",
     "output_type": "stream",
     "text": [
      "Logistic Regression Accuracy: 0.75\n"
     ]
    }
   ],
   "source": [
    "from sklearn.linear_model import LogisticRegression\n",
    "from sklearn.model_selection import train_test_split\n",
    "from sklearn.metrics import accuracy_score\n",
    "\n",
    "# Veri setini eğitim ve test setlerine ayırma\n",
    "X_train, X_test, y_train, y_test = train_test_split(X, y, test_size=0.2, random_state=42)\n",
    "\n",
    "# Logistic Regression modelini oluşturma ve eğitme\n",
    "log_reg = LogisticRegression(max_iter=1000)\n",
    "log_reg.fit(X_train, y_train)\n",
    "\n",
    "# Test seti üzerinde tahmin yapma ve doğruluk hesaplama\n",
    "y_pred = log_reg.predict(X_test)\n",
    "accuracy = accuracy_score(y_test, y_pred)\n",
    "print(f\"Logistic Regression Accuracy: {accuracy:.2f}\")\n"
   ]
  },
  {
   "cell_type": "code",
   "execution_count": 28,
   "metadata": {
    "tags": []
   },
   "outputs": [
    {
     "name": "stdout",
     "output_type": "stream",
     "text": [
      "Logistic Regression Cross Validation Accuracy: 0.62 (+/- 0.05)\n"
     ]
    }
   ],
   "source": [
    "from sklearn.linear_model import LogisticRegression\n",
    "from sklearn.model_selection import cross_val_score\n",
    "import numpy as np\n",
    "\n",
    "# Logistic Regression modelini oluşturma\n",
    "log_reg = LogisticRegression(max_iter=1000)\n",
    "\n",
    "# k-Kat Çapraz Doğrulama ile modelin doğruluğunu hesaplama\n",
    "# cv parametresi çapraz doğrulamanın kaç kat yapıldığını belirtir, örneğin burada 5 kat kullanılmıştır.\n",
    "cv_scores = cross_val_score(log_reg, X, y, cv=5)\n",
    "\n",
    "# Çapraz doğrulama sonuçlarını yazdırma\n",
    "print(f\"Logistic Regression Cross Validation Accuracy: {np.mean(cv_scores):.2f} (+/- {np.std(cv_scores) * 2:.2f})\")\n"
   ]
  },
  {
   "cell_type": "code",
   "execution_count": 24,
   "metadata": {
    "tags": []
   },
   "outputs": [
    {
     "name": "stdout",
     "output_type": "stream",
     "text": [
      "Decision Tree Accuracy: 0.83\n"
     ]
    }
   ],
   "source": [
    "from sklearn.tree import DecisionTreeClassifier\n",
    "from sklearn.model_selection import train_test_split\n",
    "from sklearn.metrics import accuracy_score\n",
    "\n",
    "# Veri setini eğitim ve test setlerine ayırma\n",
    "X_train, X_test, y_train, y_test = train_test_split(X, y, test_size=0.2, random_state=42)\n",
    "\n",
    "# Decision Tree modelini oluşturma ve eğitme\n",
    "dec_tree = DecisionTreeClassifier(random_state=42)\n",
    "dec_tree.fit(X_train, y_train)\n",
    "\n",
    "# Test seti üzerinde tahmin yapma ve doğruluk hesaplama\n",
    "y_pred = dec_tree.predict(X_test)\n",
    "accuracy = accuracy_score(y_test, y_pred)\n",
    "print(f\"Decision Tree Accuracy: {accuracy:.2f}\")"
   ]
  },
  {
   "cell_type": "code",
   "execution_count": 29,
   "metadata": {
    "tags": []
   },
   "outputs": [
    {
     "name": "stdout",
     "output_type": "stream",
     "text": [
      "Decision Tree Cross Validation Accuracy: 0.62 (+/- 0.07)\n"
     ]
    }
   ],
   "source": [
    "from sklearn.tree import DecisionTreeClassifier\n",
    "from sklearn.model_selection import cross_val_score\n",
    "import numpy as np\n",
    "\n",
    "# Decision Tree modelini oluşturma\n",
    "dec_tree = DecisionTreeClassifier(random_state=42)\n",
    "\n",
    "# k-Kat Çapraz Doğrulama ile modelin doğruluğunu hesaplama\n",
    "# cv parametresi çapraz doğrulamanın kaç kat yapıldığını belirtir, örneğin burada 5 kat kullanılmıştır.\n",
    "cv_scores = cross_val_score(dec_tree, X, y, cv=5)\n",
    "\n",
    "# Çapraz doğrulama sonuçlarını yazdırma\n",
    "print(f\"Decision Tree Cross Validation Accuracy: {np.mean(cv_scores):.2f} (+/- {np.std(cv_scores) * 2:.2f})\")\n"
   ]
  },
  {
   "cell_type": "code",
   "execution_count": 35,
   "metadata": {
    "tags": []
   },
   "outputs": [
    {
     "name": "stdout",
     "output_type": "stream",
     "text": [
      "Random Forest Accuracy: 0.92\n"
     ]
    }
   ],
   "source": [
    "from sklearn.ensemble import RandomForestClassifier\n",
    "from sklearn.model_selection import train_test_split\n",
    "from sklearn.metrics import accuracy_score\n",
    "\n",
    "# Veri setini eğitim ve test setlerine ayırma\n",
    "X_train, X_test, y_train, y_test = train_test_split(X, y, test_size=0.2, random_state=42)\n",
    "\n",
    "# Random Forest modelini oluşturma ve eğitme\n",
    "random_forest = RandomForestClassifier(n_estimators=100, random_state=42)\n",
    "random_forest.fit(X_train, y_train)\n",
    "\n",
    "# Test seti üzerinde tahmin yapma ve doğruluk hesaplama\n",
    "y_pred = random_forest.predict(X_test)\n",
    "accuracy = accuracy_score(y_test, y_pred)\n",
    "print(f\"Random Forest Accuracy: {accuracy:.2f}\")"
   ]
  },
  {
   "cell_type": "code",
   "execution_count": 36,
   "metadata": {
    "tags": []
   },
   "outputs": [
    {
     "name": "stdout",
     "output_type": "stream",
     "text": [
      "Random Forest Cross Validation Accuracy: 0.72 (+/- 0.06)\n"
     ]
    }
   ],
   "source": [
    "from sklearn.ensemble import RandomForestClassifier\n",
    "from sklearn.model_selection import cross_val_score\n",
    "import numpy as np\n",
    "\n",
    "# Random Forest modelini oluşturma\n",
    "random_forest = RandomForestClassifier(n_estimators=100, random_state=42)\n",
    "\n",
    "# k-Kat Çapraz Doğrulama ile modelin doğruluğunu hesaplama\n",
    "# cv parametresi çapraz doğrulamanın kaç kat yapıldığını belirtir, örneğin burada 5 kat kullanılmıştır.\n",
    "cv_scores = cross_val_score(random_forest, X, y, cv=5)\n",
    "\n",
    "# Çapraz doğrulama sonuçlarını yazdırma\n",
    "print(f\"Random Forest Cross Validation Accuracy: {np.mean(cv_scores):.2f} (+/- {np.std(cv_scores) * 2:.2f})\")\n"
   ]
  },
  {
   "cell_type": "code",
   "execution_count": 37,
   "metadata": {
    "tags": []
   },
   "outputs": [
    {
     "name": "stdout",
     "output_type": "stream",
     "text": [
      "En İyi Parametreler: {'max_depth': 10, 'min_samples_leaf': 2, 'min_samples_split': 5, 'n_estimators': 300}\n",
      "En İyi Skor: 0.7280858069484973\n"
     ]
    }
   ],
   "source": [
    "from sklearn.model_selection import GridSearchCV\n",
    "from sklearn.ensemble import RandomForestClassifier\n",
    "\n",
    "# Parametre gridini tanımlama\n",
    "param_grid = {\n",
    "    'n_estimators': [100, 200, 300],\n",
    "    'max_depth': [None, 10, 20, 30],\n",
    "    'min_samples_split': [2, 5, 10],\n",
    "    'min_samples_leaf': [1, 2, 4]\n",
    "}\n",
    "\n",
    "# GridSearchCV nesnesi oluşturma\n",
    "rf = RandomForestClassifier(random_state=42)\n",
    "grid_search_rf = GridSearchCV(estimator=rf, param_grid=param_grid, cv=5, n_jobs=-1, scoring='accuracy')\n",
    "\n",
    "# Grid aramasını çalıştırma\n",
    "grid_search_rf.fit(X, y)\n",
    "\n",
    "# En iyi parametreleri ve skoru yazdırma\n",
    "print(\"En İyi Parametreler:\", grid_search_rf.best_params_)\n",
    "print(\"En İyi Skor:\", grid_search_rf.best_score_)"
   ]
  },
  {
   "cell_type": "code",
   "execution_count": 38,
   "metadata": {
    "tags": []
   },
   "outputs": [
    {
     "name": "stdout",
     "output_type": "stream",
     "text": [
      "Optimize Edilmiş RandomForest Modelinin Doğruluk Skoru: 0.89\n"
     ]
    }
   ],
   "source": [
    "from sklearn.ensemble import RandomForestClassifier\n",
    "from sklearn.metrics import accuracy_score\n",
    "from sklearn.model_selection import train_test_split\n",
    "\n",
    "# Veri setini eğitim ve test setlerine ayırma\n",
    "X_train, X_test, y_train, y_test = train_test_split(X, y, test_size=0.2, random_state=42)\n",
    "\n",
    "# En iyi parametrelerle RandomForest modelini oluşturma ve eğitme\n",
    "rf_optimized = RandomForestClassifier(max_depth=10, min_samples_leaf=2, min_samples_split=5, n_estimators=300, random_state=42)\n",
    "rf_optimized.fit(X_train, y_train)\n",
    "\n",
    "# Test seti üzerinde tahmin yapma ve doğruluk hesaplama\n",
    "y_pred = rf_optimized.predict(X_test)\n",
    "accuracy = accuracy_score(y_test, y_pred)\n",
    "print(f\"Optimize Edilmiş RandomForest Modelinin Doğruluk Skoru: {accuracy:.2f}\")"
   ]
  },
  {
   "cell_type": "code",
   "execution_count": 39,
   "metadata": {
    "tags": []
   },
   "outputs": [
    {
     "name": "stdout",
     "output_type": "stream",
     "text": [
      "Optimize Edilmiş RandomForest Modelinin Çapraz Doğrulama Doğruluk Skoru: 0.73 (+/- 0.04)\n"
     ]
    }
   ],
   "source": [
    "from sklearn.model_selection import cross_val_score\n",
    "\n",
    "# En iyi parametrelerle RandomForest modeli için k-kat çapraz doğrulama\n",
    "cv_scores = cross_val_score(rf_optimized, X, y, cv=5)\n",
    "print(f\"Optimize Edilmiş RandomForest Modelinin Çapraz Doğrulama Doğruluk Skoru: {np.mean(cv_scores):.2f} (+/- {np.std(cv_scores) * 2:.2f})\")"
   ]
  },
  {
   "cell_type": "code",
   "execution_count": 40,
   "metadata": {
    "tags": []
   },
   "outputs": [
    {
     "data": {
      "image/png": "[encoded data removed]",
      "text/plain": [
       "<Figure size 1000x700 with 2 Axes>"
      ]
     },
     "metadata": {},
     "output_type": "display_data"
    }
   ],
   "source": [
    "from sklearn.metrics import confusion_matrix\n",
    "import seaborn as sns\n",
    "import matplotlib.pyplot as plt\n",
    "\n",
    "# Optimize edilmiş modelinizle test seti üzerinde tahmin yapma\n",
    "# Örneğin, RandomForestClassifier için optimize edilmiş modeliniz varsayalım\n",
    "y_pred = rf_optimized.predict(X_test)\n",
    "\n",
    "# Karışıklık matrisini hesaplama\n",
    "cm = confusion_matrix(y_test, y_pred)\n",
    "\n",
    "# Karışıklık matrisini görselleştirme\n",
    "plt.figure(figsize=(10,7))\n",
    "sns.heatmap(cm, annot=True, fmt=\"d\", cmap=\"Blues\")\n",
    "plt.title('Karışıklık Matrisi')\n",
    "plt.xlabel('Tahmin Edilen Etiket')\n",
    "plt.ylabel('Gerçek Etiket')\n",
    "plt.show()"
   ]
  },
  {
   "cell_type": "code",
   "execution_count": 26,
   "metadata": {
    "tags": []
   },
   "outputs": [
    {
     "name": "stdout",
     "output_type": "stream",
     "text": [
      "Gradient Boosting Accuracy: 0.89\n"
     ]
    }
   ],
   "source": [
    "from sklearn.ensemble import GradientBoostingClassifier\n",
    "from sklearn.model_selection import train_test_split\n",
    "from sklearn.metrics import accuracy_score\n",
    "\n",
    "# Veri setini eğitim ve test setlerine ayırma\n",
    "X_train, X_test, y_train, y_test = train_test_split(X, y, test_size=0.2, random_state=42)\n",
    "\n",
    "# Gradient Boosting modelini oluşturma ve eğitme\n",
    "gradient_boosting = GradientBoostingClassifier(n_estimators=100, learning_rate=0.1, random_state=42)\n",
    "gradient_boosting.fit(X_train, y_train)\n",
    "\n",
    "# Test seti üzerinde tahmin yapma ve doğruluk hesaplama\n",
    "y_pred = gradient_boosting.predict(X_test)\n",
    "accuracy = accuracy_score(y_test, y_pred)\n",
    "print(f\"Gradient Boosting Accuracy: {accuracy:.2f}\")"
   ]
  },
  {
   "cell_type": "code",
   "execution_count": 31,
   "metadata": {
    "tags": []
   },
   "outputs": [
    {
     "name": "stdout",
     "output_type": "stream",
     "text": [
      "Gradient Boosting Cross Validation Accuracy: 0.68 (+/- 0.08)\n"
     ]
    }
   ],
   "source": [
    "from sklearn.ensemble import GradientBoostingClassifier\n",
    "from sklearn.model_selection import cross_val_score\n",
    "import numpy as np\n",
    "\n",
    "# Gradient Boosting modelini oluşturma\n",
    "gradient_boosting = GradientBoostingClassifier(n_estimators=100, learning_rate=0.1, random_state=42)\n",
    "\n",
    "# k-Kat Çapraz Doğrulama ile modelin doğruluğunu hesaplama\n",
    "# cv parametresi çapraz doğrulamanın kaç kat yapıldığını belirtir, örneğin burada 5 kat kullanılmıştır.\n",
    "cv_scores = cross_val_score(gradient_boosting, X, y, cv=5)\n",
    "\n",
    "# Çapraz doğrulama sonuçlarını yazdırma\n",
    "print(f\"Gradient Boosting Cross Validation Accuracy: {np.mean(cv_scores):.2f} (+/- {np.std(cv_scores) * 2:.2f})\")\n"
   ]
  }
 ],
 "metadata": {
  "colab": {
   "provenance": []
  },
  "kernelspec": {
   "display_name": "Python 3 (ipykernel)",
   "language": "python",
   "name": "python3"
  },
  "language_info": {
   "codemirror_mode": {
    "name": "ipython",
    "version": 3
   },
   "file_extension": ".py",
   "mimetype": "text/x-python",
   "name": "python",
   "nbconvert_exporter": "python",
   "pygments_lexer": "ipython3",
   "version": "3.11.5"
  }
 },
 "nbformat": 4,
 "nbformat_minor": 4
}
