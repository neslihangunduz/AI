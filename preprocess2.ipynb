{
 "cells": [
  {
   "cell_type": "code",
   "execution_count": null,
   "id": "299e894c-177e-4a75-bec5-ec3a822d40b6",
   "metadata": {},
   "outputs": [],
   "source": [
    "data_dir = \"C:\\\\Users\\\\MONSTER\\\\Desktop\\\\Samsung Inv. Campus\"\n",
    "\n",
    "def get_nii_files(data_dir):\n",
    "    nii_files=[]\n",
    "    sub_dirs = os.listdir(data_dir)\n",
    "    for sub_dir in sub_dirs:\n",
    "         if sub_dir.startswith(\"sub\"):\n",
    "            files = glob.glob(os.path.join(data_dir, sub_dir, \"/.nii.gz\"),recursive=True)\n",
    "            nii_files.append(files)\n",
    "            #print(nii_files)\n",
    "           \n",
    "    return nii_files"
   ]
  },
  {
   "cell_type": "code",
   "execution_count": null,
   "id": "38a53bba-3516-4a4d-b5b7-5a872db37500",
   "metadata": {},
   "outputs": [],
   "source": [
    "data_dir = \"C:\\\\Users\\\\MONSTER\\\\Desktop\\\\Samsung Inv. Campus\"\n",
    "\n",
    "def get_nii_files(data_dir):\n",
    "    nii_files=[]\n",
    "    sub_dirs = os.listdir(data_dir)\n",
    "    for sub_dir in sub_dirs:\n",
    "         if sub_dir.startswith(\"sub\"):\n",
    "            files = glob.glob(os.path.join(data_dir, sub_dir, \"/.nii.gz\"),recursive=True)\n",
    "            nii_files.append(files)\n",
    "            #print(nii_files)\n",
    "           \n",
    "    return nii_files"
   ]
  },
  {
   "cell_type": "code",
   "execution_count": null,
   "id": "d1f51f57-5894-437c-b930-246b5ccd9fff",
   "metadata": {},
   "outputs": [],
   "source": [
    "import os"
   ]
  },
  {
   "cell_type": "code",
   "execution_count": null,
   "id": "43870d18-ad41-4383-b468-cb5c93025fc8",
   "metadata": {},
   "outputs": [],
   "source": [
    "data_dir = \"C:\\\\Users\\\\MONSTER\\\\Desktop\\\\Samsung Inv. Campus\"\n",
    "\n",
    "def get_nii_files(data_dir):\n",
    "    nii_files=[]\n",
    "    sub_dirs = os.listdir(data_dir)\n",
    "    for sub_dir in sub_dirs:\n",
    "         if sub_dir.startswith(\"sub\"):\n",
    "            files = glob.glob(os.path.join(data_dir, sub_dir, \"/.nii.gz\"),recursive=True)\n",
    "            nii_files.append(files)\n",
    "            #print(nii_files)\n",
    "           \n",
    "    return nii_files"
   ]
  },
  {
   "cell_type": "code",
   "execution_count": null,
   "id": "90fc1e96-80aa-43f5-90ae-a9ba0da45e8a",
   "metadata": {},
   "outputs": [],
   "source": [
    "import glob"
   ]
  },
  {
   "cell_type": "code",
   "execution_count": null,
   "id": "3d86e38e-2f8d-4436-a04a-b17e0817cbbc",
   "metadata": {},
   "outputs": [],
   "source": [
    "data_dir = \"C:\\\\Users\\\\MONSTER\\\\Desktop\\\\Samsung Inv. Campus\"\n",
    "\n",
    "def get_nii_files(data_dir):\n",
    "    nii_files=[]\n",
    "    sub_dirs = os.listdir(data_dir)\n",
    "    for sub_dir in sub_dirs:\n",
    "         if sub_dir.startswith(\"sub\"):\n",
    "            files = glob.glob(os.path.join(data_dir, sub_dir, \"/.nii.gz\"),recursive=True)\n",
    "            nii_files.append(files)\n",
    "            #print(nii_files)\n",
    "           \n",
    "    return nii_files"
   ]
  },
  {
   "cell_type": "code",
   "execution_count": null,
   "id": "ab9eba27-388b-473e-9328-1d6dd00f9fc6",
   "metadata": {},
   "outputs": [],
   "source": [
    "#Get nii files\n",
    "nii_files = get_nii_files(data_dir)\n",
    "print(len(nii_files))\n",
    "img = nb.load(nii_files[0][0])"
   ]
  },
  {
   "cell_type": "code",
   "execution_count": null,
   "id": "0d8d1bdd-02d6-41de-8ead-e0327dd355f9",
   "metadata": {},
   "outputs": [],
   "source": [
    "# Image settings\n",
    "from nilearn import plotting\n",
    "import pylab as plt\n",
    "%matplotlib inline\n",
    "import os\n",
    "import numpy as np\n",
    "import nibabel as nb\n",
    "import glob"
   ]
  },
  {
   "cell_type": "code",
   "execution_count": null,
   "id": "588215cc-3a95-4311-80a1-210f859a15f5",
   "metadata": {},
   "outputs": [],
   "source": [
    "data_dir = \"C:\\\\Users\\\\MONSTER\\\\Desktop\\\\Samsung Inv. Campus\"\n",
    "\n",
    "def get_nii_files(data_dir):\n",
    "    nii_files=[]\n",
    "    sub_dirs = os.listdir(data_dir)\n",
    "    for sub_dir in sub_dirs:\n",
    "         if sub_dir.startswith(\"sub\"):\n",
    "            files = glob.glob(os.path.join(data_dir, sub_dir, \"/.nii.gz\"),recursive=True)\n",
    "            nii_files.append(files)\n",
    "            #print(nii_files)\n",
    "           \n",
    "    return nii_files"
   ]
  },
  {
   "cell_type": "code",
   "execution_count": null,
   "id": "58fdb2dc-5b7e-4b2a-8f26-3d421f4e36c8",
   "metadata": {},
   "outputs": [],
   "source": [
    "#Get nii files\n",
    "nii_files = get_nii_files(data_dir)\n",
    "print(len(nii_files))\n",
    "img = nb.load(nii_files[0][0])"
   ]
  },
  {
   "cell_type": "code",
   "execution_count": null,
   "id": "6138481f-f308-485d-b0b6-095741d88da5",
   "metadata": {},
   "outputs": [],
   "source": [
    "get_nii_files"
   ]
  },
  {
   "cell_type": "code",
   "execution_count": null,
   "id": "bc75d1ae-1d1a-4d28-9893-9feabe191653",
   "metadata": {},
   "outputs": [],
   "source": [
    "def get_nii_files(data_dir)"
   ]
  },
  {
   "cell_type": "code",
   "execution_count": null,
   "id": "a9b81dd6-8760-45d1-acb6-465049896fe0",
   "metadata": {},
   "outputs": [],
   "source": [
    "import os\n",
    "import glob\n",
    "\n",
    "def get_nii_files(data_dir):\n",
    "    nii_files = []\n",
    "    sub_dirs = os.listdir(data_dir)\n",
    "    for sub_dir in sub_dirs:\n",
    "        # Bu ifade, alt dizin isimlerine bağlı olarak değişebilir. Örneğin, 'sub-' ile başlayan dizinleri arıyorsanız, if sub_dir.startswith('sub-'): olarak ayarlayabilirsiniz.\n",
    "        if sub_dir.startswith(\"sub\"):\n",
    "            # glob.glob kullanarak NIfTI dosyalarını bulun\n",
    "            files = glob.glob(os.path.join(data_dir, sub_dir, \"*.nii.gz\"), recursive=True)\n",
    "            nii_files.extend(files)  # Dosyaları listeye ekleyin\n",
    "    return nii_files\n"
   ]
  },
  {
   "cell_type": "code",
   "execution_count": null,
   "id": "9f19f0f4-4fe5-4922-bd0a-a337697852c3",
   "metadata": {},
   "outputs": [],
   "source": [
    "from nilearn import plotting\n",
    "import pylab as plt\n",
    "%matplotlib inline\n",
    "import numpy as np\n",
    "import nibabel as nib\n",
    "from nilearn import image as nli\n",
    "bold = nib.load('C:\\\\Users\\\\MONSTER\\\\Desktop\\\\Samsung Inv. Campus\\\\sub-01\\\\func\\\\sub-01_task-rest_bold.nii.gz')\n",
    "img = nli.mean_img(bold)\n",
    "plotting.view_img(img, bg_img=img)"
   ]
  },
  {
   "cell_type": "code",
   "execution_count": null,
   "id": "75c5d3cf-a35b-4b31-bd8d-45d71a6b4563",
   "metadata": {},
   "outputs": [],
   "source": [
    "import os\n",
    "import glob\n",
    "import nibabel as nib\n",
    "from nilearn import plotting\n",
    "from nilearn import image as nli\n",
    "\n",
    "data_dir = 'C:\\\\Users\\\\MONSTER\\\\Desktop\\\\Samsung Inv. Campus'\n",
    "\n",
    "# 72 sub dizinini dolaşmak için döngü\n",
    "for i in range(1, 73):\n",
    "    sub_dir = os.path.join(data_dir, f'sub-{str(i).zfill(2)}', 'anat')\n",
    "    \n",
    "    # Anat klasöründe bulunan .nii dosyalarını bulmak için glob kullanın\n",
    "    nii_files = glob.glob(os.path.join(sub_dir, '*.nii'))\n",
    "\n",
    "    for file in nii_files:\n",
    "        # Her bir dosyayı yükleyin\n",
    "        img = nib.load(file)\n",
    "\n",
    "        # Ortalama görüntüyü alın (eğer 4D ise)\n",
    "        if len(img.shape) == 4:\n",
    "            img = nli.mean_img(img)\n",
    "\n",
    "        # Görüntüyü görselleştirin\n",
    "        plotting.view_img(img, bg_img=img, title=os.path.basename(file))"
   ]
  },
  {
   "cell_type": "code",
   "execution_count": null,
   "id": "9b0b12dd-494e-4ae7-9b3f-7d3d908a97c1",
   "metadata": {},
   "outputs": [],
   "source": [
    "import os\n",
    "import glob\n",
    "\n",
    "data_dir = 'C:\\\\Users\\\\MONSTER\\\\Desktop\\\\Samsung Inv. Campus'\n",
    "\n",
    "# 72 sub dizinini dolaşmak için döngü\n",
    "for i in range(1, 73):\n",
    "    sub_dir = os.path.join(data_dir, f'sub-{str(i).zfill(2)}', 'anat')\n",
    "    \n",
    "    # Anat klasöründe bulunan .nii dosyalarının isimlerini bulmak için glob kullanın\n",
    "    nii_files = glob.glob(os.path.join(sub_dir, '*.nii'))\n",
    "\n",
    "    # Dosya isimlerini yazdırın\n",
    "    for file in nii_files:\n",
    "        print(os.path.basename(file))"
   ]
  },
  {
   "cell_type": "code",
   "execution_count": null,
   "id": "da1e9a88-a818-44ee-9a72-e7e0eafef571",
   "metadata": {},
   "outputs": [],
   "source": [
    "import os\n",
    "import glob\n",
    "\n",
    "data_dir = 'C:\\\\Users\\\\MONSTER\\\\Desktop\\\\Samsung Inv. Campus'\n",
    "\n",
    "# 72 sub dizinini dolaşmak için döngü\n",
    "for i in range(1, 73):\n",
    "    sub_dir = os.path.join(data_dir, f'sub-{str(i).zfill(2)}', 'anat')\n",
    "    \n",
    "    # Anat klasöründe bulunan .nii dosyalarının isimlerini bulmak için glob kullanın\n",
    "    nii_files = glob.glob(os.path.join(sub_dir, '*.nii.gz'))\n",
    "\n",
    "    # Dosya isimlerini yazdırın\n",
    "    for file in nii_files:\n",
    "        print(os.path.basename(file))"
   ]
  },
  {
   "cell_type": "code",
   "execution_count": null,
   "id": "64a12611-bf60-43cc-ab89-62245e429e6b",
   "metadata": {},
   "outputs": [],
   "source": [
    "import os\n",
    "import glob\n",
    "\n",
    "data_dir = 'C:\\\\Users\\\\MONSTER\\\\Desktop\\\\Samsung Inv. Campus'\n",
    "\n",
    "# 72 sub dizinini dolaşmak için döngü\n",
    "for i in range(1, 73):\n",
    "    sub_dir = os.path.join(data_dir, f'sub-{str(i).zfill(2)}', 'anat')\n",
    "    \n",
    "    # Anat klasöründe bulunan .nii.gz dosyalarının tam yollarını bulmak için glob kullanın\n",
    "    nii_files = glob.glob(os.path.join(sub_dir, '*.nii.gz'))\n",
    "\n",
    "    # Dosya yollarını tam olarak yazdırın\n",
    "    for file in nii_files:\n",
    "        print(file)"
   ]
  },
  {
   "cell_type": "code",
   "execution_count": null,
   "id": "26a732e1-d580-43d7-a8e2-698294f9016a",
   "metadata": {},
   "outputs": [],
   "source": [
    "import os\n",
    "import glob\n",
    "\n",
    "data_dir = 'C:\\\\Users\\\\MONSTER\\\\Desktop\\\\Samsung Inv. Campus'\n",
    "\n",
    "# 72 sub dizinini dolaşmak için döngü\n",
    "for i in range(1, 73):\n",
    "    sub_dir = os.path.join(data_dir, f'sub-{str(i).zfill(2)}', 'anat')\n",
    "    \n",
    "    # Anat klasöründe bulunan .nii dosyalarının isimlerini bulmak için glob kullanın\n",
    "    nii_files = glob.glob(os.path.join(sub_dir, '*.nii.gz'))\n",
    "\n",
    "    # Dosya isimlerini yazdırın\n",
    "    for file in nii_files:\n",
    "        print(os.path.basename(file))"
   ]
  },
  {
   "cell_type": "code",
   "execution_count": null,
   "id": "37b80d47-4d7b-4408-8d51-f8a4ef064e86",
   "metadata": {},
   "outputs": [],
   "source": [
    "import os\n",
    "import glob\n",
    "\n",
    "def get_nii_files(data_dir):\n",
    "    nii_files = []\n",
    "    sub_dirs = os.listdir(data_dir)\n",
    "    for sub_dir in sub_dirs:\n",
    "        if sub_dir.startswith(\"sub\"):\n",
    "            files = glob.glob(os.path.join(data_dir, sub_dir, \"*.nii.gz\"), recursive=True)\n",
    "            nii_files.extend(files)\n",
    "    return nii_files"
   ]
  },
  {
   "cell_type": "code",
   "execution_count": null,
   "id": "cf96fbab-6bc4-4705-8e19-920661544a18",
   "metadata": {},
   "outputs": [],
   "source": [
    "#Get nii files\n",
    "nii_files = get_nii_files(data_dir)\n",
    "print(len(nii_files))"
   ]
  },
  {
   "cell_type": "code",
   "execution_count": null,
   "id": "6b7d8c26-b04a-4da5-9516-f2766833b59e",
   "metadata": {},
   "outputs": [],
   "source": [
    "img = nb.load(nii_files[0][0])"
   ]
  },
  {
   "cell_type": "code",
   "execution_count": null,
   "id": "7deb98dc-f9a7-4931-a026-e1db25a879df",
   "metadata": {},
   "outputs": [],
   "source": [
    "import os\n",
    "import glob\n",
    "\n",
    "def get_nii_files(data_dir):\n",
    "    nii_files = []\n",
    "    sub_dirs = os.listdir(data_dir)\n",
    "    for sub_dir in sub_dirs:\n",
    "        if sub_dir.startswith(\"sub\"):\n",
    "            # Her bir sub dizinindeki tüm .nii.gz dosyalarını bul\n",
    "            files = glob.glob(os.path.join(data_dir, sub_dir, \"**\", \"*.nii.gz\"), recursive=True)\n",
    "            nii_files.extend(files)\n",
    "\n",
    "    return nii_files\n",
    "\n",
    "# Fonksiyonu kullanarak NIfTI dosyalarını al\n",
    "data_dir = \"C:\\\\Users\\\\MONSTER\\\\Desktop\\\\Samsung Inv. Campus\"\n",
    "nii_files = get_nii_files(data_dir)\n",
    "\n",
    "# Dosya sayısını ve örnek dosya yollarını yazdır\n",
    "print(f\"Toplam dosya sayısı: {len(nii_files)}\")\n",
    "print(\"Örnek dosya yolları:\")\n",
    "for file_path in nii_files[:5]:  # İlk 5 dosyanın yolunu yazdır\n",
    "    print(file_path)"
   ]
  },
  {
   "cell_type": "code",
   "execution_count": null,
   "id": "1ec7ff30-875e-4506-93c8-37a9b9010d63",
   "metadata": {},
   "outputs": [],
   "source": [
    "data = img.get_data()\n",
    "data.shape"
   ]
  },
  {
   "cell_type": "code",
   "execution_count": null,
   "id": "4effca39-ed89-418e-8266-dd1a9f47d385",
   "metadata": {},
   "outputs": [],
   "source": [
    "data = img.get_fdata()\n",
    "data.shape"
   ]
  },
  {
   "cell_type": "code",
   "execution_count": null,
   "id": "3fcc8863-bdf2-470d-b532-18b1e2e597a4",
   "metadata": {},
   "outputs": [],
   "source": [
    "nib-ls sub-01_T1w.nii"
   ]
  },
  {
   "cell_type": "code",
   "execution_count": null,
   "id": "d8399e88-c93f-4427-bb0a-093177859e9c",
   "metadata": {},
   "outputs": [],
   "source": [
    "C:\\\\Users\\\\MONSTER\\\\Desktop\\\\Samsung Inv. Campus\\\\sub-01\\\\anat\\\\sub-01_T1w.nii.gz"
   ]
  },
  {
   "cell_type": "code",
   "execution_count": null,
   "id": "511f01ee-abcb-4b10-a87f-a799d95dec7d",
   "metadata": {},
   "outputs": [],
   "source": [
    "nib-ls sub-01_T1w.nii sub-01_T1w.nii.gz"
   ]
  },
  {
   "cell_type": "code",
   "execution_count": null,
   "id": "0f924891-824f-4316-b097-4bc516e05414",
   "metadata": {},
   "outputs": [],
   "source": [
    "nib-ls sub-01_T1w.nii sub-01_T1w.nii.gz\n"
   ]
  },
  {
   "cell_type": "code",
   "execution_count": null,
   "id": "b34737ea-43c2-4d5a-9e25-3cdd5dc68862",
   "metadata": {},
   "outputs": [],
   "source": [
    "mean = nli.mean_img(bold)\n",
    "print([mean.shape, t1.shape])"
   ]
  },
  {
   "cell_type": "code",
   "execution_count": null,
   "id": "d25b46a7-562f-4a5b-9780-e9ec45ba8d0a",
   "metadata": {},
   "outputs": [],
   "source": [
    "from nilearn import plotting\n",
    "import pylab as plt\n",
    "%matplotlib inline\n",
    "import numpy as np\n",
    "import nibabel as nib\n",
    "from nilearn import image as nli\n",
    "bold = nib.load('C:\\\\Users\\\\MONSTER\\\\Desktop\\\\Samsung Inv. Campus\\\\sub-01\\\\anat\\\\sub-01_T1w.nii.gz')\n",
    "img = nli.mean_img(bold)\n",
    "plotting.view_img(img, bg_img=img)"
   ]
  },
  {
   "cell_type": "code",
   "execution_count": null,
   "id": "139d1322-53b0-4eda-87d1-d8b56a6722ee",
   "metadata": {},
   "outputs": [],
   "source": [
    "TR = bold.header['pixdim'][4]\n",
    "TR"
   ]
  },
  {
   "cell_type": "code",
   "execution_count": null,
   "id": "5948b49c-4628-4534-9bb2-c894602a1ac2",
   "metadata": {},
   "outputs": [],
   "source": [
    "from nilearn import plotting\n",
    "import nibabel as nib\n",
    "\n",
    "# MRI verisini yükle\n",
    "bold = nib.load('C:\\\\Users\\\\MONSTER\\\\Desktop\\\\Samsung Inv. Campus\\\\sub-01\\\\anat\\\\sub-01_T1w.nii.gz')\n",
    "\n",
    "# Görüntüyü göster\n",
    "plotting.view_img(bold, bg_img=bold)"
   ]
  },
  {
   "cell_type": "code",
   "execution_count": null,
   "id": "d4fd6f40-c3bb-4b92-8d34-2b49ee75237c",
   "metadata": {},
   "outputs": [],
   "source": [
    "TR = bold.header['pixdim'][4]\n",
    "TR"
   ]
  },
  {
   "cell_type": "code",
   "execution_count": null,
   "id": "cccd1721-3490-4361-bf2b-7c0704e5aabd",
   "metadata": {},
   "outputs": [],
   "source": [
    "from nilearn import image as nli\n",
    "import nibabel as nib\n",
    "from nilearn import plotting\n",
    "\n",
    "# fMRI veri dosyasının yolunu belirleyin\n",
    "fmri_file = 'C:\\\\Users\\\\MONSTER\\\\Desktop\\\\Samsung Inv. Campus\\\\sub-01\\\\func\\\\sub-01_task-rest_bold.nii.gz'\n",
    "\n",
    "# fMRI verisini yükle\n",
    "func_img = nib.load(fmri_file)\n",
    "\n",
    "# Zaman serisi boyunca ortalama görüntüyü hesapla\n",
    "mean_img = nli.mean_img(func_img)\n",
    "\n",
    "# Ortalama görüntüyü göster\n",
    "plotting.view_img(mean_img, bg_img=mean_img)\n"
   ]
  },
  {
   "cell_type": "code",
   "execution_count": null,
   "id": "e1bd96d5-ab4b-4a36-a6ba-a51eacc7ff99",
   "metadata": {},
   "outputs": [],
   "source": [
    "TR = bold.header['pixdim'][4]\n",
    "TR"
   ]
  },
  {
   "cell_type": "code",
   "execution_count": null,
   "id": "211be5a1-174f-4a4d-bab7-6af79205f365",
   "metadata": {},
   "outputs": [],
   "source": [
    "func_d = nli.clean_img(bold, detrend=True, standardize=False, t_r=TR)"
   ]
  },
  {
   "cell_type": "code",
   "execution_count": null,
   "id": "638232cc-8642-4a7c-95ac-0f8ff62bd0c4",
   "metadata": {},
   "outputs": [],
   "source": [
    "x, y, z = [31, 14, 7]\n",
    "plt.figure(figsize=(12, 4))\n",
    "plt.plot(np.transpose(bold.get_fdata()[x, y, z, :]))\n",
    "plt.plot(np.transpose(func_d.get_fdata()[x, y, z, :]))\n",
    "plt.legend(['Original', 'Detrend']);"
   ]
  },
  {
   "cell_type": "code",
   "execution_count": null,
   "id": "a23111e3-1bbb-481c-9660-06f90a14036b",
   "metadata": {},
   "outputs": [],
   "source": [
    "func_ds = nli.clean_img(bold, detrend=True, standardize=True, t_r=TR)\n",
    "\n",
    "plt.figure(figsize=(12, 4))\n",
    "plt.plot(np.transpose(func_d.get_fdata()[x, y, z, :]))\n",
    "plt.plot(np.transpose(func_ds.get_fdata()[x, y, z, :]))\n",
    "plt.legend(['Detrend', 'Detrend+standardize']);"
   ]
  },
  {
   "cell_type": "code",
   "execution_count": null,
   "id": "b18eb62b-b01e-41e2-a670-023eb9ad8900",
   "metadata": {},
   "outputs": [],
   "source": [
    "func_ds_c = nli.clean_img(bold, detrend=True, standardize=True, t_r=TR,\n",
    "                          confounds=ts_confounds)"
   ]
  },
  {
   "cell_type": "code",
   "execution_count": null,
   "id": "63c03f93-040f-4eb0-b162-0032d67dbd05",
   "metadata": {},
   "outputs": [],
   "source": [
    "from nilearn import image as nli\n",
    "import nibabel as nib\n",
    "from nilearn import plotting"
   ]
  },
  {
   "cell_type": "code",
   "execution_count": null,
   "id": "028a2def-e995-434d-b8d4-c3c2955b4be8",
   "metadata": {},
   "outputs": [],
   "source": [
    "func_ds_c = nli.clean_img(bold, detrend=True, standardize=True, t_r=TR,\n",
    "                          confounds=ts_confounds)"
   ]
  },
  {
   "cell_type": "code",
   "execution_count": null,
   "id": "78284cbe-bdbe-45d5-8c99-24c95711fc62",
   "metadata": {},
   "outputs": [],
   "source": [
    "from nilearn import image as nli\n",
    "import nibabel as nib\n",
    "from nilearn import plotting\n",
    "\n",
    "# fMRI veri dosyasının yolunu belirleyin\n",
    "fmri_file = 'C:\\\\Users\\\\MONSTER\\\\Desktop\\\\Samsung Inv. Campus\\\\sub-01\\\\func\\\\sub-01_task-rest_bold.nii.gz'\n",
    "\n",
    "# fMRI verisini yükle\n",
    "func_img = nib.load(fmri_file)\n",
    "\n",
    "# Zaman serisi boyunca ortalama görüntüyü hesapla\n",
    "mean_img = nli.mean_img(func_img)\n",
    "\n",
    "# Ortalama görüntüyü göster\n",
    "plotting.view_img(mean_img, bg_img=mean_img)"
   ]
  },
  {
   "cell_type": "code",
   "execution_count": null,
   "id": "14d558a9-b441-4c58-ac5b-b69f94d33b2a",
   "metadata": {},
   "outputs": [],
   "source": [
    "TR = bold.header['pixdim'][4]\n",
    "TR"
   ]
  },
  {
   "cell_type": "code",
   "execution_count": null,
   "id": "5d3cac8c-6df5-4a9e-b251-b4075ded4365",
   "metadata": {},
   "outputs": [],
   "source": [
    "from nilearn import image as nli\n",
    "import nibabel as nib\n",
    "from nilearn import plotting\n",
    "\n",
    "# fMRI veri dosyasının yolunu belirleyin\n",
    "fmri_file = 'C:\\\\Users\\\\MONSTER\\\\Desktop\\\\Samsung Inv. Campus\\\\sub-01\\\\func\\\\sub-01_task-rest_bold.nii.gz'\n",
    "\n",
    "# fMRI verisini yükle\n",
    "func_img = nib.load(fmri_file)\n",
    "\n",
    "# Zaman serisi boyunca ortalama görüntüyü hesapla\n",
    "mean_img = nli.mean_img(func_img)\n",
    "\n",
    "# Ortalama görüntüyü göster\n",
    "plotting.view_img(mean_img, bg_img=mean_img)"
   ]
  },
  {
   "cell_type": "code",
   "execution_count": null,
   "id": "933981de-6db0-46f1-8136-0cb37b7da593",
   "metadata": {},
   "outputs": [],
   "source": [
    "TR = bold.header['pixdim'][4]\n",
    "TR"
   ]
  },
  {
   "cell_type": "code",
   "execution_count": null,
   "id": "a17383c3-6fed-451c-8a10-4ec2367125b4",
   "metadata": {},
   "outputs": [],
   "source": [
    "from nilearn import plotting\n",
    "import nibabel as nib\n",
    "\n",
    "# MRI verisini yükle\n",
    "bold = nib.load('C:\\\\Users\\\\MONSTER\\\\Desktop\\\\Samsung Inv. Campus\\\\sub-01\\\\func\\\\sub-01_task-rest_bold.nii.gz')\n",
    "\n",
    "# Görüntüyü göster\n",
    "plotting.view_img(bold, bg_img=bold)"
   ]
  },
  {
   "cell_type": "code",
   "execution_count": null,
   "id": "48c83244-105e-49c3-a2c7-899f6e1eb49a",
   "metadata": {},
   "outputs": [],
   "source": [
    "TR = bold.header['pixdim'][4]\n",
    "TR"
   ]
  },
  {
   "cell_type": "code",
   "execution_count": null,
   "id": "1ae9f1ba-3c36-4fde-ab79-a81fabc7b513",
   "metadata": {},
   "outputs": [],
   "source": [
    "func_d = nli.clean_img(bold, detrend=True, standardize=False, t_r=TR)"
   ]
  },
  {
   "cell_type": "code",
   "execution_count": null,
   "id": "a6f3764b-b04a-43ff-9403-9b77ce430480",
   "metadata": {},
   "outputs": [],
   "source": [
    "# Plot the original and detrended timecourse of a random voxel\n",
    "x, y, z = [31, 14, 7]\n",
    "plt.figure(figsize=(12, 4))\n",
    "plt.plot(np.transpose(bold.get_fdata()[x, y, z, :]))\n",
    "plt.plot(np.transpose(func_d.get_fdata()[x, y, z, :]))\n",
    "plt.legend(['Original', 'Detrend']);"
   ]
  },
  {
   "cell_type": "code",
   "execution_count": null,
   "id": "af352df4-3eb1-4e23-86d7-68e2b493756b",
   "metadata": {},
   "outputs": [],
   "source": [
    "import pylab as plt"
   ]
  },
  {
   "cell_type": "code",
   "execution_count": null,
   "id": "3e547618-b712-4508-b57e-91041579167e",
   "metadata": {},
   "outputs": [],
   "source": [
    "# Plot the original and detrended timecourse of a random voxel\n",
    "x, y, z = [31, 14, 7]\n",
    "plt.figure(figsize=(12, 4))\n",
    "plt.plot(np.transpose(bold.get_fdata()[x, y, z, :]))\n",
    "plt.plot(np.transpose(func_d.get_fdata()[x, y, z, :]))\n",
    "plt.legend(['Original', 'Detrend']);"
   ]
  },
  {
   "cell_type": "code",
   "execution_count": null,
   "id": "a05fd4d7-4e9e-44a1-bfca-27b32deb6aa7",
   "metadata": {},
   "outputs": [],
   "source": [
    "from nilearn import image as nli\n",
    "import nibabel as nib\n",
    "from nilearn import plotting\n",
    "\n",
    "# fMRI veri dosyasının yolunu belirleyin\n",
    "fmri_file = 'C:\\\\Users\\\\MONSTER\\\\Desktop\\\\Samsung Inv. Campus\\\\sub-01\\\\func\\\\sub-01_task-rest_bold.nii.gz'\n",
    "\n",
    "# fMRI verisini yükle\n",
    "func_img = nib.load(fmri_file)\n",
    "\n",
    "# Zaman serisi boyunca ortalama görüntüyü hesapla\n",
    "mean_img = nli.mean_img(func_img)\n",
    "\n",
    "# Ortalama görüntüyü göster\n",
    "plotting.view_img(mean_img, bg_img=mean_img)\n"
   ]
  },
  {
   "cell_type": "code",
   "execution_count": null,
   "id": "8807f95d-192c-4426-9d1c-69dc507a9903",
   "metadata": {},
   "outputs": [],
   "source": [
    "TR = bold.header['pixdim'][4]\n",
    "TR"
   ]
  },
  {
   "cell_type": "code",
   "execution_count": null,
   "id": "cb347f19-189e-4b22-bb47-232b664ab9ed",
   "metadata": {},
   "outputs": [],
   "source": [
    "func_d = nli.clean_img(bold, detrend=True, standardize=False, t_r=TR)"
   ]
  },
  {
   "cell_type": "code",
   "execution_count": null,
   "id": "fc8b60c6-5cb0-4fc3-b1c8-56f167a41daf",
   "metadata": {},
   "outputs": [],
   "source": [
    "x, y, z = [31, 14, 7]\n",
    "plt.figure(figsize=(12, 4))\n",
    "plt.plot(np.transpose(bold.get_fdata()[x, y, z, :]))\n",
    "plt.plot(np.transpose(func_d.get_fdata()[x, y, z, :]))\n",
    "plt.legend(['Original', 'Detrend']);"
   ]
  },
  {
   "cell_type": "code",
   "execution_count": null,
   "id": "36412d87-d535-4477-9a2f-2c291f07df40",
   "metadata": {},
   "outputs": [],
   "source": [
    "import numpy as np\n",
    "import matplotlib.pyplot as plt\n",
    "\n",
    "x, y, z = [31, 14, 7]\n",
    "plt.figure(figsize=(12, 4))\n",
    "plt.plot(np.transpose(bold.get_fdata()[x, y, z, :]))\n",
    "plt.plot(np.transpose(func_d.get_fdata()[x, y, z, :]))\n",
    "plt.legend(['Original', 'Detrend'])\n",
    "plt.show()"
   ]
  },
  {
   "cell_type": "code",
   "execution_count": null,
   "id": "1024f803-ef3f-447b-8bb5-a342206b7f8b",
   "metadata": {},
   "outputs": [],
   "source": [
    "func_ds = nli.clean_img(bold, detrend=True, standardize=True, t_r=TR)\n",
    "\n",
    "plt.figure(figsize=(12, 4))\n",
    "plt.plot(np.transpose(func_d.get_fdata()[x, y, z, :]))\n",
    "plt.plot(np.transpose(func_ds.get_fdata()[x, y, z, :]))\n",
    "plt.legend(['Detrend', 'Detrend+standardize']);"
   ]
  },
  {
   "cell_type": "code",
   "execution_count": null,
   "id": "8898a4b4-e7c7-45b8-b7d8-8624240e6c80",
   "metadata": {},
   "outputs": [],
   "source": [
    "import pandas as pd"
   ]
  },
  {
   "cell_type": "code",
   "execution_count": null,
   "id": "f2d083f4-4107-4a39-bc32-591309058ff9",
   "metadata": {},
   "outputs": [],
   "source": [
    "file_path = r\"C:\\Users\\MONSTER\\Desktop\\Samsung Inv. Campus\\participants.tsv\"\n",
    "\n",
    "data = pd.read_csv(file_path, sep='\\t')\n",
    "\n",
    "print(data.head())\n"
   ]
  },
  {
   "cell_type": "code",
   "execution_count": null,
   "id": "efe0918e-3e19-4308-ae96-1e4669913dc8",
   "metadata": {},
   "outputs": [],
   "source": [
    "import pandas as pd\n",
    "ts_confounds = pd.read_csv('C:\\Users\\MONSTER\\Desktop\\Samsung Inv. Campus\\participants.tsv', sep='\\t')[5:][['X', 'Y', 'Z', 'RotX', 'RotY', 'RotZ']]"
   ]
  },
  {
   "cell_type": "code",
   "execution_count": null,
   "id": "d10f8a37-0427-477c-9c5d-dbc002b542d5",
   "metadata": {},
   "outputs": [],
   "source": [
    "import pandas as pd\n",
    "\n",
    "# Dosya yolu (ham metin olarak işaretlenmiş)\n",
    "file_path = r'C:\\Users\\MONSTER\\Desktop\\Samsung Inv. Campus\\participants.tsv'\n",
    "\n",
    "# .tsv dosyasını okuyup belirli sütunları seçme\n",
    "ts_confounds = pd.read_csv(file_path, sep='\\t')[5:][['X', 'Y', 'Z', 'RotX', 'RotY', 'RotZ']]\n"
   ]
  },
  {
   "cell_type": "code",
   "execution_count": null,
   "id": "796ed88e-3cb3-4656-a472-71a98e01bafc",
   "metadata": {},
   "outputs": [],
   "source": [
    "#And as a final step, let’s also remove the influence of the motion parameters from the signal.\n",
    "import pandas as pd\n",
    "import json\n",
    " \n",
    "# Opening JSON file\n",
    "f = open('C:\\\\Users\\\\MONSTER\\\\Desktop\\\\Samsung Inv. Campus\\\\task-rest_bold.json')\n",
    " \n",
    "# returns JSON object as \n",
    "# a dictionary\n",
    "data = json.load(f)\n",
    " \n",
    "# Iterating through the json\n",
    "# list\n",
    "for i in data[\"SliceTiming\"]:\n",
    "    print(i)\n",
    " \n",
    "# Closing file\n",
    "f.close()"
   ]
  },
  {
   "cell_type": "code",
   "execution_count": null,
   "id": "4208da87-a51f-4b4a-b961-7028f70d4648",
   "metadata": {},
   "outputs": [],
   "source": [
    "from nilearn import image as nli\n",
    "import nibabel as nib\n",
    "from nilearn import plotting\n",
    "\n",
    "fmri_file = 'C:\\\\Users\\\\MONSTER\\\\Desktop\\\\Samsung Inv. Campus\\\\sub-01\\\\func\\\\sub-01_task-rest_bold.nii.gz'\n",
    "\n",
    "func_img = nib.load(fmri_file)\n",
    "\n",
    "tr_value = 2.5\n",
    "\n",
    "# Slice Timing Correction\n",
    "corrected_img = nli.reorder_img(func_img, indices='time', interpolation='nearest', tr=tr_value)\n",
    "\n",
    "mean_corrected_img = nli.mean_img(corrected_img)\n",
    "plotting.view_img(mean_corrected_img, bg_img=mean_corrected_img)\n"
   ]
  },
  {
   "cell_type": "code",
   "execution_count": null,
   "id": "8c45c5ed-9327-42cc-9496-bf89f639acf6",
   "metadata": {},
   "outputs": [],
   "source": [
    "import nipype\n",
    "print(nipype.__version__)"
   ]
  },
  {
   "cell_type": "code",
   "execution_count": null,
   "id": "123d90ff-00af-424f-a50c-3619055f5695",
   "metadata": {},
   "outputs": [],
   "source": [
    "!pip install nipype"
   ]
  },
  {
   "cell_type": "code",
   "execution_count": null,
   "id": "195f4a81-1622-4227-9b67-8fd75f06c7df",
   "metadata": {},
   "outputs": [],
   "source": [
    "sudo apt-get install build-essential python3-dev"
   ]
  },
  {
   "cell_type": "code",
   "execution_count": null,
   "id": "2f895040-b78a-410a-b62b-e982555ecf4f",
   "metadata": {},
   "outputs": [],
   "source": [
    "!pip install wheel"
   ]
  },
  {
   "cell_type": "code",
   "execution_count": null,
   "id": "b13537bf-3d7a-4c4e-a424-f51a5dffa6cf",
   "metadata": {},
   "outputs": [],
   "source": [
    "import pandas as pd\n",
    "\n",
    "# Tüm satırları göstermek için ayar\n",
    "pd.set_option('display.max_rows', None)\n",
    "\n",
    "file_path = r\"C:\\Users\\MONSTER\\Desktop\\Samsung Inv. Campus\\participants.tsv\"\n",
    "data = pd.read_csv(file_path, sep='\\t')\n",
    "\n",
    "print(data)"
   ]
  },
  {
   "cell_type": "code",
   "execution_count": null,
   "id": "cfa73b78-47e7-4540-8523-c4307e659a74",
   "metadata": {},
   "outputs": [],
   "source": [
    "from nilearn import image as nimg\n",
    "from nilearn import plotting as nplot\n",
    "import numpy as np\n",
    "import pandas as pd\n",
    "from bids import BIDSLayout"
   ]
  },
  {
   "cell_type": "code",
   "execution_count": null,
   "id": "1ef51a8d-cbf9-436b-a7fe-6f24768f1e00",
   "metadata": {},
   "outputs": [],
   "source": [
    "!pip install bids"
   ]
  },
  {
   "cell_type": "code",
   "execution_count": null,
   "id": "af73f65f-881b-435a-b315-1670edd58202",
   "metadata": {},
   "outputs": [],
   "source": [
    "from nilearn import image as nimg\n",
    "from nilearn import plotting as nplot\n",
    "import numpy as np\n",
    "import pandas as pd\n",
    "from bids import BIDSLayout"
   ]
  },
  {
   "cell_type": "code",
   "execution_count": null,
   "id": "592ea3db-89ff-48c5-af00-eb734e17cdc6",
   "metadata": {},
   "outputs": [],
   "source": [
    "layout = BIDSLayout(fmriprep_dir=\"C:\\Users\\MONSTER\\Desktop\\fmriprep_output\",\n",
    "                   config=['bids','derivatives'])"
   ]
  },
  {
   "cell_type": "code",
   "execution_count": null,
   "id": "1c315e74-aa21-40a8-b941-6e23152827eb",
   "metadata": {},
   "outputs": [],
   "source": [
    "fmriprep_dir=\"C:\\Users\\MONSTER\\Desktop\\fmriprep_output\"\n",
    "layout = BIDSLayout(fmriprep_dir,\n",
    "                   config=['bids','derivatives'])"
   ]
  },
  {
   "cell_type": "code",
   "execution_count": null,
   "id": "412b3354-3862-4eb4-9e7d-53c2646734a7",
   "metadata": {},
   "outputs": [],
   "source": [
    "fmriprep_dir=\"C:\\Users\\MONSTER\\Desktop\\fmriprep_output\""
   ]
  },
  {
   "cell_type": "code",
   "execution_count": null,
   "id": "e740ec1a-886a-4d43-91b7-718f8c1efea4",
   "metadata": {},
   "outputs": [],
   "source": [
    "fmriprep_dir = \"C:\\\\Users\\\\MONSTER\\\\Desktop\\\\fmriprep_output\""
   ]
  },
  {
   "cell_type": "code",
   "execution_count": null,
   "id": "ae3125ea-f166-4e6a-8e99-a72028aa3e9f",
   "metadata": {},
   "outputs": [],
   "source": [
    "layout = BIDSLayout(fmriprep_dir,\n",
    "                   config=['bids','derivatives'])"
   ]
  },
  {
   "cell_type": "code",
   "execution_count": null,
   "id": "a086ed9e-ed52-44bd-9c10-dcb85f74327f",
   "metadata": {},
   "outputs": [],
   "source": [
    "func_files = layout.get(subject=sub,\n",
    "                        datatype='func', task='rest',\n",
    "                        desc='preproc',\n",
    "                        extension='nii.gz',\n",
    "                        return_type='file')"
   ]
  },
  {
   "cell_type": "code",
   "execution_count": null,
   "id": "c31aa749-c317-4730-9793-05dbf0beb171",
   "metadata": {},
   "outputs": [],
   "source": [
    "func_files = layout.get(subject='01',\n",
    "                        datatype='func', task='rest',\n",
    "                        desc='preproc',\n",
    "                        extension='nii.gz',\n",
    "                        return_type='file')"
   ]
  },
  {
   "cell_type": "code",
   "execution_count": null,
   "id": "dfbc4bc1-084c-4d15-9d8d-079ca96a9605",
   "metadata": {},
   "outputs": [],
   "source": [
    "func_files"
   ]
  },
  {
   "cell_type": "code",
   "execution_count": null,
   "id": "f225835a-c3ec-47c5-8fe2-3f201f5d0626",
   "metadata": {},
   "outputs": [],
   "source": [
    "from nilearn import image as nimg\n",
    "from nilearn import plotting as nplot\n",
    "import numpy as np\n",
    "import pandas as pd\n",
    "from bids import BIDSLayout"
   ]
  },
  {
   "cell_type": "code",
   "execution_count": null,
   "id": "29c52716-207c-42e3-af96-d8bfa4fafec5",
   "metadata": {},
   "outputs": [],
   "source": [
    "TR = bold.header['pixdim'][4]\n",
    "TR"
   ]
  },
  {
   "cell_type": "code",
   "execution_count": null,
   "id": "3c0cba1f-bf30-4297-b559-84c494390654",
   "metadata": {},
   "outputs": [],
   "source": [
    "TR = img.header['pixdim'][4]\n",
    "TR"
   ]
  },
  {
   "cell_type": "code",
   "execution_count": null,
   "id": "9721a11d-dc4c-40fb-9a1d-bc64a223069d",
   "metadata": {},
   "outputs": [],
   "source": [
    "func_ds = nli.clean_img(bold, detrend=True, standardize=True, t_r=TR)"
   ]
  },
  {
   "cell_type": "code",
   "execution_count": null,
   "id": "4429c9b0-5988-4661-b26d-6a7b7a19c91d",
   "metadata": {},
   "outputs": [],
   "source": [
    "from nilearn import plotting"
   ]
  },
  {
   "cell_type": "code",
   "execution_count": null,
   "id": "ada1c029-2cdb-4687-9921-dc3fe9fceafc",
   "metadata": {},
   "outputs": [],
   "source": [
    "func_ds = nli.clean_img(img, detrend=True, standardize=True, t_r=TR)"
   ]
  },
  {
   "cell_type": "code",
   "execution_count": null,
   "id": "cfaf0df3-2e85-4428-a7e6-9abe3aa06d3d",
   "metadata": {},
   "outputs": [],
   "source": [
    "import nilearn.image as nli  # This is an example and might not be the exact solution\n",
    "\n",
    "# Assuming nilearn or a similar library provides the functionality you're trying to use\n",
    "func_ds = nli.clean_img(img, detrend=True, standardize=True, t_r=TR)"
   ]
  },
  {
   "cell_type": "code",
   "execution_count": null,
   "id": "b584fc63-d3b2-4ba0-a1bf-77c958eee8e6",
   "metadata": {},
   "outputs": [],
   "source": [
    "from nilearn import image as nli\n"
   ]
  },
  {
   "cell_type": "code",
   "execution_count": null,
   "id": "bd6acb1d-5361-45db-9c93-401ba829bb14",
   "metadata": {},
   "outputs": [],
   "source": [
    "from nilearn import image as nli"
   ]
  },
  {
   "cell_type": "code",
   "execution_count": null,
   "id": "6f8c0f76-15c7-4743-8508-91af2d6909fd",
   "metadata": {},
   "outputs": [],
   "source": [
    "from nilearn import datasets\n",
    "atlas_ho = datasets.fetch_atlas_harvard_oxford('cort-maxprob-thr25-2mm')"
   ]
  },
  {
   "cell_type": "code",
   "execution_count": null,
   "id": "6a8c7be7-848b-496f-b6f2-bbe838c856c8",
   "metadata": {},
   "outputs": [],
   "source": [
    "# Location of HarvardOxford parcellation atlas\n",
    "atlas_file = atlas_ho.maps\n",
    "\n",
    "# Visualize parcellation atlas\n",
    "plotting.plot_roi(atlas_file, draw_cross=False, annotate=False);"
   ]
  },
  {
   "cell_type": "code",
   "execution_count": null,
   "id": "6dedee2f-ca19-45f1-88cf-cfcd5c5e002f",
   "metadata": {},
   "outputs": [],
   "source": [
    "# Load labels for each atlas region\n",
    "labels = atlas_ho.labels[1:]\n",
    "labels[:10]"
   ]
  },
  {
   "cell_type": "code",
   "execution_count": null,
   "id": "52dc7fcf-c6a9-4c0f-a1e1-a849b92fdef1",
   "metadata": {},
   "outputs": [],
   "source": [
    "from nilearn.connectome import ConnectivityMeasure\n",
    "correlation_measure = ConnectivityMeasure(kind='correlation')\n",
    "correlation_matrix = correlation_measure.fit_transform([time_series])[0]"
   ]
  },
  {
   "cell_type": "code",
   "execution_count": null,
   "id": "e093a006-336e-4d74-96f9-18e15e800dba",
   "metadata": {},
   "outputs": [],
   "source": [
    "from nilearn.input_data import NiftiLabelsMasker\n",
    "masker = NiftiLabelsMasker(labels_img=atlas_file, standardize=True, verbose=1,\n",
    "                           memory=\"nilearn_cache\", memory_level=2)"
   ]
  },
  {
   "cell_type": "code",
   "execution_count": null,
   "id": "d9a126c1-25bf-42b9-a570-60369e5ee742",
   "metadata": {},
   "outputs": [],
   "source": [
    "from nilearn.maskers import NiftiLabelsMasker\n",
    "masker = NiftiLabelsMasker(labels_img=atlas_file, standardize=True, verbose=1,\n",
    "                           memory=\"nilearn_cache\", memory_level=2)"
   ]
  },
  {
   "cell_type": "code",
   "execution_count": null,
   "id": "c10feff7-3dbe-4363-823d-6500109eaae6",
   "metadata": {},
   "outputs": [],
   "source": [
    "from nilearn.maskers import NiftiLabelsMasker\n",
    "masker = NiftiLabelsMasker(labels_img=atlas_file, standardize=True, verbose=1,\n",
    "                           memory=\"nilearn_cache\", memory_level=2)\n",
    "# Extract the signal from the regions\n",
    "time_series_bad = masker.fit_transform(rest_files[0]) # Note that we haven't specify confounds here\n",
    "\n",
    "# Compute the correlation matrix\n",
    "correlation_matrix_bad = correlation_measure.fit_transform([time_series_bad])[0]\n",
    "\n",
    "# Mask the main diagonal for visualization\n",
    "np.fill_diagonal(correlation_matrix_bad, 0)\n",
    "\n",
    "# Plot the correlation matrix\n",
    "plotting.plot_matrix(correlation_matrix_bad, figure=(10, 8), labels=labels,\n",
    "                     vmax=0.8, vmin=-0.8, title='No"
   ]
  },
  {
   "cell_type": "code",
   "execution_count": null,
   "id": "03b90750-440c-4831-a10d-446accf0424f",
   "metadata": {},
   "outputs": [],
   "source": [
    "# Extract the signal from the regions\n",
    "time_series_bad = masker.fit_transform(rest_files[0]) # Note that we haven't specify confounds here\n",
    "\n",
    "# Compute the correlation matrix\n",
    "correlation_matrix_bad = correlation_measure.fit_transform([time_series_bad])[0]\n",
    "\n",
    "# Mask the main diagonal for visualization\n",
    "np.fill_diagonal(correlation_matrix_bad, 0)\n",
    "\n",
    "# Plot the correlation matrix\n",
    "plotting.plot_matrix(correlation_matrix_bad, figure=(10, 8), labels=labels,\n",
    "                     vmax=0.8, vmin=-0.8, title='No confounds', reorder=True)"
   ]
  },
  {
   "cell_type": "code",
   "execution_count": null,
   "id": "c6e3817b-31fc-4e2c-8be5-624b4ba64ff8",
   "metadata": {},
   "outputs": [],
   "source": [
    "pip install tensorflow"
   ]
  },
  {
   "cell_type": "code",
   "execution_count": null,
   "id": "181d756d-41b0-462d-9ac1-0473eeaff37d",
   "metadata": {},
   "outputs": [],
   "source": [
    "pip install tensorflow==2.6.0"
   ]
  },
  {
   "cell_type": "code",
   "execution_count": null,
   "id": "31811463-2f91-412b-999d-278f04d6acd4",
   "metadata": {},
   "outputs": [],
   "source": [
    "import tensorflow as tf\n",
    "print(tf.__version__)"
   ]
  },
  {
   "cell_type": "code",
   "execution_count": null,
   "id": "3add7d62-4fa8-43c2-a7cd-0dc45aee06b8",
   "metadata": {},
   "outputs": [],
   "source": [
    "# Sayısal sütunları seç\n",
    "numeric_columns = X.select_dtypes(include=['number']).columns\n",
    "\n",
    "# Sayısal sütunlardaki eksik değerleri doldur\n",
    "X[numeric_columns] = X[numeric_columns].fillna(X[numeric_columns].median())"
   ]
  },
  {
   "cell_type": "code",
   "execution_count": null,
   "id": "4fe6eafc-beab-4fe9-b032-aae3a123fb3a",
   "metadata": {},
   "outputs": [],
   "source": [
    "pip install tensorflow"
   ]
  },
  {
   "cell_type": "code",
   "execution_count": null,
   "id": "04897865-6d49-41a2-a949-019e0512240b",
   "metadata": {},
   "outputs": [],
   "source": [
    "import tensorflow as tf\n",
    "print(tf.__version__)"
   ]
  },
  {
   "cell_type": "code",
   "execution_count": null,
   "id": "f74b35a3-a032-4809-ac0d-ad7e7994f928",
   "metadata": {},
   "outputs": [],
   "source": [
    "import nibabel as nib\n",
    "import matplotlib.pyplot as plt\n",
    "\n",
    "# NIfTI dosyasının yolunu belirleyin\n",
    "nifti_file_path = 'C:/Users/MONSTER/Desktop/output/sub-01/anat/sub-01_desc-preproc_T1w.nii.gz'\n",
    "\n",
    "# NIfTI dosyasını yükleyin\n",
    "img = nib.load(nifti_file_path)\n",
    "\n",
    "# Görüntü verisini alın\n",
    "img_data = img.get_fdata()\n",
    "\n",
    "# Görüntüden bir dilimi seçin ve görselleştirin\n",
    "# Burada, görüntünün ortasından bir kesit alıyoruz\n",
    "slice_ = img_data[:, :, img_data.shape[2] // 2]\n",
    "\n",
    "# Kesiti görselleştirin\n",
    "plt.imshow(slice_, cmap='gray')\n",
    "plt.axis('off') # Eksenleri gizle\n",
    "plt.show()"
   ]
  },
  {
   "cell_type": "code",
   "execution_count": null,
   "id": "e1d1f600-77a0-422c-b25d-aaf40a7d9fc3",
   "metadata": {},
   "outputs": [],
   "source": [
    "import nibabel as nib\n",
    "import matplotlib.pyplot as plt\n",
    "\n",
    "# NIfTI dosyasının yolunu belirleyin\n",
    "nifti_file_path = 'C:/Users/MONSTER/Desktop/output/sub-52/anat/sub-52_desc-preproc_T1w.nii.gz'\n",
    "\n",
    "# NIfTI dosyasını yükleyin\n",
    "img = nib.load(nifti_file_path)\n",
    "\n",
    "# Görüntü verisini alın\n",
    "img_data = img.get_fdata()\n",
    "\n",
    "# Görüntüden bir dilimi seçin ve görselleştirin\n",
    "# Burada, görüntünün ortasından bir kesit alıyoruz\n",
    "slice_ = img_data[:, :, img_data.shape[2] // 2]\n",
    "\n",
    "# Kesiti görselleştirin\n",
    "plt.imshow(slice_, cmap='gray')\n",
    "plt.axis('off') # Eksenleri gizle\n",
    "plt.show()"
   ]
  },
  {
   "cell_type": "code",
   "execution_count": null,
   "id": "e65bbec4-6a17-48f4-be5b-020d5628dcc4",
   "metadata": {},
   "outputs": [],
   "source": []
  },
  {
   "cell_type": "code",
   "execution_count": null,
   "id": "a13e9667-d608-45d7-ba64-5da68124cc48",
   "metadata": {},
   "outputs": [],
   "source": []
  },
  {
   "cell_type": "code",
   "execution_count": null,
   "id": "16ebf7ae-2bf9-47e8-b49d-91f07053bacb",
   "metadata": {},
   "outputs": [],
   "source": []
  },
  {
   "cell_type": "code",
   "execution_count": null,
   "id": "e81a8970-be00-42a9-858d-4888900fba41",
   "metadata": {},
   "outputs": [],
   "source": []
  },
  {
   "cell_type": "code",
   "execution_count": null,
   "id": "b50ab270-5c9d-432f-9987-b229f9305b8f",
   "metadata": {},
   "outputs": [],
   "source": []
  },
  {
   "cell_type": "code",
   "execution_count": null,
   "id": "38123dcb-1dcc-4876-a6cc-70c34110e171",
   "metadata": {},
   "outputs": [],
   "source": []
  },
  {
   "cell_type": "code",
   "execution_count": null,
   "id": "7f53a9ba-ec3c-4971-a9ea-764da7d38d2f",
   "metadata": {},
   "outputs": [],
   "source": []
  },
  {
   "cell_type": "code",
   "execution_count": null,
   "id": "0d57eedc-f4a0-4921-8e1a-6f5c62403396",
   "metadata": {},
   "outputs": [],
   "source": []
  },
  {
   "cell_type": "code",
   "execution_count": null,
   "id": "615a33e8-f007-4d39-b6f7-28349e585e59",
   "metadata": {},
   "outputs": [],
   "source": []
  }
 ],
 "metadata": {
  "kernelspec": {
   "display_name": "Python 3 (ipykernel)",
   "language": "python",
   "name": "python3"
  },
  "language_info": {
   "codemirror_mode": {
    "name": "ipython",
    "version": 3
   },
   "file_extension": ".py",
   "mimetype": "text/x-python",
   "name": "python",
   "nbconvert_exporter": "python",
   "pygments_lexer": "ipython3",
   "version": "3.11.5"
  }
 },
 "nbformat": 4,
 "nbformat_minor": 5
}
