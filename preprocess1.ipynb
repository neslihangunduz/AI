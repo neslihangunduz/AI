{
 "cells": [
  {
   "cell_type": "code",
   "execution_count": null,
   "id": "96eb69d7-9185-421b-9610-1198b9863527",
   "metadata": {},
   "outputs": [],
   "source": [
    "import nibabel as nib"
   ]
  },
  {
   "cell_type": "code",
   "execution_count": null,
   "id": "d78bbabb-18f5-4c3d-90fd-9189de4f21c7",
   "metadata": {},
   "outputs": [],
   "source": [
    "pip install nibabel"
   ]
  },
  {
   "cell_type": "code",
   "execution_count": null,
   "id": "a7550b89-a15a-4524-8375-f88fc526ead5",
   "metadata": {},
   "outputs": [],
   "source": [
    "import nibabel as nib"
   ]
  },
  {
   "cell_type": "code",
   "execution_count": null,
   "id": "f6420636-52bd-43c4-94ca-c3a298d4036f",
   "metadata": {},
   "outputs": [],
   "source": [
    "img = nib.load('C:\\\\Users\\\\MONSTER\\\\Desktop\\\\Samsung Inv. Campus\\\\sub-01\\\\anat\\\\sub-01_T1w.nii.gz')"
   ]
  },
  {
   "cell_type": "code",
   "execution_count": null,
   "id": "cfdabb7b-9a45-4466-b656-ff77b16c12d9",
   "metadata": {},
   "outputs": [],
   "source": [
    "header = img.header"
   ]
  },
  {
   "cell_type": "code",
   "execution_count": null,
   "id": "7795c8ab-1524-463b-9d2c-f0ef0058ce87",
   "metadata": {},
   "outputs": [],
   "source": [
    "print(header)"
   ]
  },
  {
   "cell_type": "code",
   "execution_count": null,
   "id": "a1db3b0b-69f1-4d20-a408-3daade4d2a29",
   "metadata": {},
   "outputs": [],
   "source": [
    "print(\"\\nVeri Tipi:\", header.get_data_dtype())"
   ]
  },
  {
   "cell_type": "code",
   "execution_count": null,
   "id": "1fb58ae6-f419-45c5-bfb8-a738536ddc38",
   "metadata": {},
   "outputs": [],
   "source": [
    "print(\"\\nVoxel Boyutları:\", header.get_zooms())"
   ]
  },
  {
   "cell_type": "code",
   "execution_count": null,
   "id": "52ab2b8c-a60d-43a8-853f-e39ec0b05c36",
   "metadata": {},
   "outputs": [],
   "source": [
    "print(\"\\nResim Boyutları:\", header.get_data_shape())"
   ]
  },
  {
   "cell_type": "code",
   "execution_count": null,
   "id": "16148594-216d-41fa-b5a8-25cb33a46caf",
   "metadata": {},
   "outputs": [],
   "source": [
    "print(\"\\nQ-form Matrisi:\")\n",
    "print(header.get_qform(coded=True))"
   ]
  },
  {
   "cell_type": "code",
   "execution_count": null,
   "id": "3db9e414-7aee-4f03-a48d-47b29036e4c4",
   "metadata": {},
   "outputs": [],
   "source": [
    "print(\"\\nS-form Matrisi:\")\n",
    "print(header.get_sform(coded=True))"
   ]
  },
  {
   "cell_type": "code",
   "execution_count": null,
   "id": "76476792-d021-496f-8a08-91df118ba824",
   "metadata": {},
   "outputs": [],
   "source": [
    "pip install nilearn"
   ]
  },
  {
   "cell_type": "code",
   "execution_count": null,
   "id": "850c0b2f-c101-4eab-bfd7-2fd0e7608b2d",
   "metadata": {},
   "outputs": [],
   "source": [
    "# Image settings\n",
    "from nilearn import plotting\n",
    "import pylab as plt\n",
    "%matplotlib inline\n",
    "\n",
    "import numpy as np"
   ]
  },
  {
   "cell_type": "code",
   "execution_count": null,
   "id": "966b6bfc-2dab-40af-922b-c758c9db5dbe",
   "metadata": {},
   "outputs": [],
   "source": [
    "from nilearn import image as nli"
   ]
  },
  {
   "cell_type": "code",
   "execution_count": null,
   "id": "47902ff7-3ea7-42a5-995c-2500db7b0706",
   "metadata": {},
   "outputs": [],
   "source": [
    "from nilearn import plotting\n",
    "import pylab as plt\n",
    "%matplotlib inline\n",
    "import numpy as np\n",
    "import nibabel as nib\n",
    "from nilearn import image as nli\n",
    "bold = nib.load('C:\\\\Users\\\\MONSTER\\\\Desktop\\\\Samsung Inv. Campus\\\\sub-02\\\\anat\\\\sub-02_T1w.nii.gz')\n",
    "img = nli.mean_img(bold)\n",
    "plotting.view_img(img, bg_img=img)"
   ]
  },
  {
   "cell_type": "code",
   "execution_count": null,
   "id": "1bc58d71-b8ee-4d86-aae3-24f02439a80f",
   "metadata": {},
   "outputs": [],
   "source": []
  },
  {
   "cell_type": "code",
   "execution_count": null,
   "id": "0bad77bd-952f-46f3-be62-3d8e9aaa43f6",
   "metadata": {},
   "outputs": [],
   "source": []
  },
  {
   "cell_type": "code",
   "execution_count": null,
   "id": "324cbdf6-5fbe-4b8d-bcc5-e24f3c1d177d",
   "metadata": {},
   "outputs": [],
   "source": []
  },
  {
   "cell_type": "code",
   "execution_count": null,
   "id": "94bc293c-f03e-4a50-899e-c6393eb0908e",
   "metadata": {},
   "outputs": [],
   "source": []
  },
  {
   "cell_type": "code",
   "execution_count": null,
   "id": "0e18714e-4134-447a-8aaf-811888eabca5",
   "metadata": {},
   "outputs": [],
   "source": []
  },
  {
   "cell_type": "code",
   "execution_count": null,
   "id": "7f0239f7-6028-4d26-8d19-624cff8ed93c",
   "metadata": {},
   "outputs": [],
   "source": []
  },
  {
   "cell_type": "code",
   "execution_count": null,
   "id": "c37a932c-020f-4611-981f-c2fb627fca5e",
   "metadata": {},
   "outputs": [],
   "source": []
  }
 ],
 "metadata": {
  "kernelspec": {
   "display_name": "Python 3 (ipykernel)",
   "language": "python",
   "name": "python3"
  },
  "language_info": {
   "codemirror_mode": {
    "name": "ipython",
    "version": 3
   },
   "file_extension": ".py",
   "mimetype": "text/x-python",
   "name": "python",
   "nbconvert_exporter": "python",
   "pygments_lexer": "ipython3",
   "version": "3.11.5"
  }
 },
 "nbformat": 4,
 "nbformat_minor": 5
}
